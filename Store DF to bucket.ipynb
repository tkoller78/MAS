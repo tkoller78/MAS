{
 "cells": [
  {
   "cell_type": "code",
   "execution_count": 6,
   "id": "22bea6cb-a986-4294-ad11-091a51a2a80e",
   "metadata": {},
   "outputs": [],
   "source": [
    "from google.cloud import storage\n",
    "import pandas as pd\n",
    "import shutil\n",
    "import os"
   ]
  },
  {
   "cell_type": "markdown",
   "id": "179e57e6-dd10-4714-9552-8f1f8bbfc1ea",
   "metadata": {},
   "source": [
    "# Create dataset dir"
   ]
  },
  {
   "cell_type": "code",
   "execution_count": 9,
   "id": "8b5c3216-ef89-493a-b540-50569c78ba79",
   "metadata": {},
   "outputs": [],
   "source": [
    "p_dir = \"./dataset\"\n",
    "if os.path.exists(p_dir):\n",
    "    os.rmdir(p_dir)\n",
    "os.mkdir(p_dir)"
   ]
  },
  {
   "cell_type": "markdown",
   "id": "1ffcdd42-8828-4fae-b1f2-34cc6eacda27",
   "metadata": {},
   "source": [
    "# Copy dataframe object to dataset dir"
   ]
  },
  {
   "cell_type": "code",
   "execution_count": 11,
   "id": "aa3084a1-b90b-442c-8e2b-5445f47f8692",
   "metadata": {},
   "outputs": [
    {
     "data": {
      "text/plain": [
       "'./dataset/combo.pkl'"
      ]
     },
     "execution_count": 11,
     "metadata": {},
     "output_type": "execute_result"
    }
   ],
   "source": [
    "m_dir = \"./MAS/combo models/combo model v3\"\n",
    "file_name = \"combo.pkl\"\n",
    "\n",
    "df_file = os.path.join(m_dir, file_name)\n",
    "shutil.copy(df_file, os.path.join(p_dir, file_name))"
   ]
  },
  {
   "cell_type": "markdown",
   "id": "b058515b-7cec-4d34-a3fe-7ab04112444c",
   "metadata": {},
   "source": [
    "# Copy images dir to dataset dir"
   ]
  },
  {
   "cell_type": "code",
   "execution_count": 14,
   "id": "9ec07543-0fa6-4354-af90-374d60faa4a2",
   "metadata": {},
   "outputs": [
    {
     "data": {
      "text/plain": [
       "'./dataset/images'"
      ]
     },
     "execution_count": 14,
     "metadata": {},
     "output_type": "execute_result"
    }
   ],
   "source": [
    "img_dir = \"./MAS/images_medium\"\n",
    "\n",
    "shutil.copytree(img_dir, os.path.join(p_dir, \"images\"))"
   ]
  },
  {
   "cell_type": "markdown",
   "id": "9a1be068-2eee-4d86-90f3-8263e540e9b9",
   "metadata": {},
   "source": [
    "# Create ZIP file"
   ]
  },
  {
   "cell_type": "code",
   "execution_count": 15,
   "id": "cb2db829-32e6-43fe-852c-36389bc4a5fb",
   "metadata": {},
   "outputs": [
    {
     "data": {
      "text/plain": [
       "'/home/jupyter/dataset.zip'"
      ]
     },
     "execution_count": 15,
     "metadata": {},
     "output_type": "execute_result"
    }
   ],
   "source": [
    "shutil.make_archive(\"./dataset\", \"zip\", \"./\", \"dataset\")"
   ]
  },
  {
   "cell_type": "markdown",
   "id": "8960b1fb-a543-4e05-a700-8521a7259226",
   "metadata": {},
   "source": [
    "# Move ZIP file to bucket"
   ]
  },
  {
   "cell_type": "code",
   "execution_count": 16,
   "id": "9c6364fb-f933-4d31-a211-6caf86b5e141",
   "metadata": {},
   "outputs": [],
   "source": [
    "client = storage.Client()\n",
    "bucket = client.get_bucket(\"mas2bucket\")"
   ]
  },
  {
   "cell_type": "code",
   "execution_count": 17,
   "id": "102976b7-9a88-4a28-bdb2-4ee0da7a8f03",
   "metadata": {},
   "outputs": [],
   "source": [
    "new_blob = bucket.blob(\"dataset.zip\")\n",
    "new_blob.upload_from_filename(filename='./dataset.zip')"
   ]
  }
 ],
 "metadata": {
  "environment": {
   "name": "tf2-gpu.2-6.m80",
   "type": "gcloud",
   "uri": "gcr.io/deeplearning-platform-release/tf2-gpu.2-6:m80"
  },
  "kernelspec": {
   "display_name": "Python 3",
   "language": "python",
   "name": "python3"
  },
  "language_info": {
   "codemirror_mode": {
    "name": "ipython",
    "version": 3
   },
   "file_extension": ".py",
   "mimetype": "text/x-python",
   "name": "python",
   "nbconvert_exporter": "python",
   "pygments_lexer": "ipython3",
   "version": "3.7.10"
  }
 },
 "nbformat": 4,
 "nbformat_minor": 5
}
