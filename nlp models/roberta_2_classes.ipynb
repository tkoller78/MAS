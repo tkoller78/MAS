{
 "cells": [
  {
   "cell_type": "code",
   "execution_count": 1,
   "id": "3469ff78-2149-41a4-93ac-a90a5d6fafcd",
   "metadata": {},
   "outputs": [],
   "source": [
    "import os\n",
    "import pandas as pd\n",
    "import numpy as np\n",
    "from shutil import rmtree, copyfile\n",
    "import matplotlib.pyplot as plt\n",
    "from sklearn.model_selection import train_test_split\n",
    "from transformers import RobertaTokenizer, TFRobertaModel, RobertaConfig\n",
    "from bs4 import BeautifulSoup\n",
    "from nltk.corpus import stopwords\n",
    "import nltk\n",
    "from sklearn.preprocessing import LabelBinarizer\n",
    "from tensorflow.keras.optimizers.schedules import PolynomialDecay\n",
    "from tensorflow.keras.optimizers import Adam\n",
    "from keras import Model\n",
    "from keras.layers import Input, Bidirectional, GlobalMaxPool1D, Dense, Dropout, LSTM, Flatten\n",
    "from keras.callbacks import EarlyStopping, ModelCheckpoint\n",
    "from sklearn.metrics import confusion_matrix, accuracy_score, precision_score, recall_score, f1_score, classification_report, roc_curve, auc, average_precision_score\n",
    "import seaborn as sb"
   ]
  },
  {
   "cell_type": "markdown",
   "id": "b86c9237-e43a-4a35-b929-877958c81f2a",
   "metadata": {},
   "source": [
    "# Project variables"
   ]
  },
  {
   "cell_type": "code",
   "execution_count": 2,
   "id": "85cd8d0d-2841-4449-ad43-f1bc7a572822",
   "metadata": {},
   "outputs": [],
   "source": [
    "m_name = \"roberta_2_classes\"\n",
    "p_dir = os.path.join(\"../nlp models\", m_name)"
   ]
  },
  {
   "cell_type": "code",
   "execution_count": 3,
   "id": "36ad907c-35b5-4f75-92ed-26f7825150b8",
   "metadata": {},
   "outputs": [],
   "source": [
    "def create_dir(dir_path: str):\n",
    "    if not os.path.exists(dir_path):\n",
    "        os.mkdir(dir_path)"
   ]
  },
  {
   "cell_type": "code",
   "execution_count": 4,
   "id": "649c998a-1e01-4e75-bf29-baad4a10ac5b",
   "metadata": {},
   "outputs": [],
   "source": [
    "def clear_dir(dir_path: str):\n",
    "    for item in os.listdir(dir_path):\n",
    "        fp = os.path.join(dir_path, item)\n",
    "        if os.path.isfile(fp):\n",
    "            os.remove(fp)\n",
    "        if os.path.isdir(fp):\n",
    "            rmtree(fp)"
   ]
  },
  {
   "cell_type": "code",
   "execution_count": 5,
   "id": "e5f916ce-e5a8-4c77-baeb-64511b0937e6",
   "metadata": {},
   "outputs": [],
   "source": [
    "create_dir(p_dir)\n",
    "clear_dir(p_dir)"
   ]
  },
  {
   "cell_type": "markdown",
   "id": "ae50c8ba-6b4d-438a-96ed-e7667b87d297",
   "metadata": {},
   "source": [
    "# Read and transform scraped dataframes"
   ]
  },
  {
   "cell_type": "code",
   "execution_count": 6,
   "id": "5c51e71a-9184-4302-b55a-60f283442bd3",
   "metadata": {},
   "outputs": [],
   "source": [
    "fp = \"../scraped data\"\n",
    "\n",
    "channels = pd.read_pickle(os.path.join(fp, \"channels.pkl\"))\n",
    "videos = pd.read_pickle(os.path.join(fp, \"videos.pkl\"))"
   ]
  },
  {
   "cell_type": "code",
   "execution_count": 7,
   "id": "8e7ca9f1-6de6-4e8e-9be5-392ced4a0735",
   "metadata": {},
   "outputs": [],
   "source": [
    "def transform_channels(df: pd.DataFrame) -> pd.DataFrame:\n",
    "    # Date string into proper date\n",
    "    df.published = pd.to_datetime(df.published)\n",
    "    \n",
    "    # Convert field type into int64\n",
    "    fields = [\"video_count\", \"view_count\"]\n",
    "    df.loc[:, fields] = df.loc[:, fields].astype(\"int64\")\n",
    "    \n",
    "    # Convert field type into float64\n",
    "    fields = [\"subscriber_count\"]\n",
    "    df.loc[:, fields] = df.loc[:, fields].astype(\"float64\")\n",
    "    \n",
    "    # Add of channel in months\n",
    "    df[\"age_mth\"] = (pd.to_datetime(\"today\", utc=True).year - df.published.dt.year) * 12 \\\n",
    "        + (pd.to_datetime(\"today\", utc=True).month - df.published.dt.month)\n",
    "        \n",
    "    # Drop unnecessary fields\n",
    "    df.drop(columns=[\"custom_url\", \"country\"] + [c for c in df.columns if c.startswith(\"thumbnail\")], inplace=True)\n",
    "    \n",
    "    # Remove channels without subscriber_count\n",
    "    df = df.loc[df.subscriber_count.notnull(), :]\n",
    "    \n",
    "    return df"
   ]
  },
  {
   "cell_type": "code",
   "execution_count": 8,
   "id": "5f1195b7-0e97-4a76-aeee-ca10dec06a6c",
   "metadata": {},
   "outputs": [],
   "source": [
    "def transform_videos(df: pd.DataFrame) -> pd.DataFrame:    \n",
    "    # Date string into proper date\n",
    "    df.published = pd.to_datetime(df.published)\n",
    "    \n",
    "    # Convert field type to bool\n",
    "    fields = [\"broadcast\"]\n",
    "    df.loc[:, fields] = df.loc[:, fields].astype(\"bool\")\n",
    "    \n",
    "    # Convert field type into int64\n",
    "    fields = [\"category_id\"]\n",
    "    df.loc[:, fields] = df.loc[:, fields].astype(\"int64\")\n",
    "    \n",
    "    # Convert field type into float64\n",
    "    fields = [\"comment_count\", \"dislike_count\", \"like_count\", \"view_count\"]\n",
    "    df.loc[:, fields] = df.loc[:, fields].astype(\"float64\")\n",
    "    \n",
    "    df[\"published_mth\"] = (pd.to_datetime(\"today\", utc=True).year - df.published.dt.year) * 12 \\\n",
    "        + (pd.to_datetime(\"today\", utc=True).month - df.published.dt.month)\n",
    "    df[\"title_len\"] = df.title.str.len()\n",
    "    \n",
    "    df.drop(columns=[\"favorite_count\", \"broadcast\", \"audio_language\", \"comment_count\", \"category_id\"] \\\n",
    "            + [c for c in df.columns if c.startswith(\"thumbnail\")], inplace=True)\n",
    "    \n",
    "    df = df.loc[df.like_count.notnull() & df.dislike_count.notnull() & df.view_count.notnull(), :]\n",
    "    \n",
    "    return df"
   ]
  },
  {
   "cell_type": "code",
   "execution_count": 9,
   "id": "1b4f699f-8c3d-442c-911e-d0533284cab2",
   "metadata": {},
   "outputs": [],
   "source": [
    "channels_trans = transform_channels(channels)\n",
    "videos_trans = transform_videos(videos)\n",
    "combo = videos_trans.merge(channels_trans[[\"id\", \"view_count\",\"published\", \"age_mth\", \"subscriber_count\",\n",
    "                                             \"video_count\"]], \n",
    "                           how=\"inner\", left_on=\"channel_id\", right_on=\"id\", suffixes=[\"_video\", \"_channel\"])\n",
    "combo[\"ln_vc_norm\"] = np.log(combo.view_count_video / combo.subscriber_count)"
   ]
  },
  {
   "cell_type": "markdown",
   "id": "365ff4b0-c209-4dfa-9018-d0579a0a2640",
   "metadata": {},
   "source": [
    "# Define categories"
   ]
  },
  {
   "cell_type": "code",
   "execution_count": 10,
   "id": "c529e2b9-834d-4602-8d3e-e2ac89ed0cfe",
   "metadata": {},
   "outputs": [
    {
     "data": {
      "image/png": "[encoded data removed]",
      "text/plain": [
       "<Figure size 432x288 with 1 Axes>"
      ]
     },
     "metadata": {
      "needs_background": "light"
     },
     "output_type": "display_data"
    }
   ],
   "source": [
    "cat_lbl = [\"very low\", \"low\", \"high\", \"very high\"]\n",
    "combo.loc[:, \"qtl\"] = pd.qcut(combo.ln_vc_norm, len(cat_lbl), labels=cat_lbl, precision=6)\n",
    "combo.sort_values(by=[\"qtl\"]).qtl.hist()\n",
    "plt.title(\"Counts of classes\")\n",
    "plt.show()"
   ]
  },
  {
   "cell_type": "markdown",
   "id": "5383e2e6-6ecc-49d1-81aa-25ddf61b62b4",
   "metadata": {},
   "source": [
    "# Split dataset (use only top and bottom quartile data)"
   ]
  },
  {
   "cell_type": "code",
   "execution_count": 11,
   "id": "1b00fc34-0dd4-48d4-8bc3-2dfe636c59f0",
   "metadata": {},
   "outputs": [
    {
     "name": "stdout",
     "output_type": "stream",
     "text": [
      "5793 1931 1932\n"
     ]
    }
   ],
   "source": [
    "cat_lbl = [\"very low\", \"very high\"]\n",
    "combo = combo.loc[combo.qtl.isin(cat_lbl)]\n",
    "combo.qtl = combo.qtl.cat.remove_unused_categories()\n",
    "\n",
    "y = combo.qtl\n",
    "x = combo.loc[:, [c for c in combo.columns if c != \"qtl\"]]\n",
    "\n",
    "x_train, x_test, y_train, y_test = train_test_split(x, y, test_size=0.2, random_state=42)\n",
    "x_train, x_val, y_train, y_val = train_test_split(x_train, y_train, test_size=0.25, random_state=4711)\n",
    "\n",
    "x_train.to_pickle(os.path.join(p_dir, \"x_train.pkl\"))\n",
    "y_train.to_pickle(os.path.join(p_dir, \"y_train.pkl\"))\n",
    "x_val.to_pickle(os.path.join(p_dir,\"x_val.pkl\"))\n",
    "y_val.to_pickle(os.path.join(p_dir, \"y_val.pkl\"))\n",
    "x_test.to_pickle(os.path.join(p_dir,\"x_test.pkl\"))\n",
    "y_test.to_pickle(os.path.join(p_dir, \"y_test.pkl\"))\n",
    "\n",
    "print(x_train.shape[0], x_val.shape[0], x_test.shape[0])"
   ]
  },
  {
   "cell_type": "markdown",
   "id": "195fe01f-817f-4c30-bb51-5cdfe40bebc0",
   "metadata": {},
   "source": [
    "# Build the model"
   ]
  },
  {
   "cell_type": "code",
   "execution_count": 12,
   "id": "902eff8b-3ad5-45e0-b9a3-1625a8e994d6",
   "metadata": {},
   "outputs": [],
   "source": [
    "def preprocessing(df: pd.DataFrame, remove_stopwords: bool=False) -> pd.DataFrame:\n",
    "    field = \"title\"\n",
    "    stw = set(stopwords.words(\"english\"))\n",
    "    \n",
    "    def cleanse_row(row, field, stw, stopwords=False):\n",
    "        # Remove HTML from text\n",
    "        soup = BeautifulSoup(row[field])\n",
    "        row[field] = soup.get_text()\n",
    "        \n",
    "        # Remove stopwords\n",
    "        if stopwords:\n",
    "            row[field] = \" \".join([w for w in row[field].split() if w not in stw])\n",
    "        \n",
    "        return row\n",
    "    \n",
    "    df = df.apply(lambda row: cleanse_row(row, field, stw, remove_stopwords), axis=1)\n",
    "    return df[\"title\"]"
   ]
  },
  {
   "cell_type": "code",
   "execution_count": 13,
   "id": "ab3c65b7-b46e-45f6-a5d4-c224017f46ad",
   "metadata": {},
   "outputs": [
    {
     "name": "stderr",
     "output_type": "stream",
     "text": [
      "[nltk_data] Downloading package stopwords to\n",
      "[nltk_data]     /home/jupyter/nltk_data...\n",
      "[nltk_data]   Package stopwords is already up-to-date!\n"
     ]
    },
    {
     "data": {
      "text/plain": [
       "True"
      ]
     },
     "execution_count": 13,
     "metadata": {},
     "output_type": "execute_result"
    }
   ],
   "source": [
    "# Download the stopwork corpus\n",
    "nltk.download('stopwords')"
   ]
  },
  {
   "cell_type": "code",
   "execution_count": 14,
   "id": "09f0605a-39e5-4b24-a655-4d2e663f91a6",
   "metadata": {},
   "outputs": [],
   "source": [
    "remove_stopwords = False\n",
    "\n",
    "def preprocess_data(x: pd.DataFrame, remove_stopwords: bool=False) -> list():\n",
    "    x_pp = preprocessing(x, remove_stopwords)\n",
    "    x_pp = x_pp.tolist()\n",
    "    return x_pp"
   ]
  },
  {
   "cell_type": "code",
   "execution_count": 15,
   "id": "c3095d20-48e6-4af6-918a-17a2d5d9a321",
   "metadata": {},
   "outputs": [],
   "source": [
    "x_train_pp = preprocess_data(x_train)\n",
    "x_val_pp = preprocess_data(x_val)"
   ]
  },
  {
   "cell_type": "code",
   "execution_count": 88,
   "id": "a668f102-1e7a-4700-814f-4e78c0bd9fc1",
   "metadata": {},
   "outputs": [],
   "source": [
    "pt_model = \"roberta-base\"\n",
    "tok = RobertaTokenizer.from_pretrained(pt_model, do_lower=True, add_special_tokens=True, max_length=100, pad_to_max_length=True)"
   ]
  },
  {
   "cell_type": "code",
   "execution_count": 118,
   "id": "af0d7567-2876-480a-8b9f-5709c2c1b990",
   "metadata": {},
   "outputs": [],
   "source": [
    "def tokenize(sentences, tokenizer):\n",
    "    input_ids, input_masks, input_segments = [], [], []\n",
    "    for sentence in sentences:\n",
    "        inputs = tokenizer.encode_plus(sentence, add_special_tokens=True, max_length=100, padding=\"max_length\", return_attention_mask=True, \n",
    "                                       return_token_type_ids=True, truncation=True)\n",
    "        input_ids.append(inputs[\"input_ids\"])\n",
    "        input_masks.append(inputs[\"attention_mask\"])\n",
    "        input_segments.append(inputs[\"token_type_ids\"])\n",
    "        \n",
    "    return np.asarray(input_ids, dtype=\"int32\"), np.asarray(input_masks, dtype=\"int32\"), np.asarray(input_segments, dtype=\"int32\")\n",
    "    # return input_ids, input_masks, input_segments"
   ]
  },
  {
   "cell_type": "code",
   "execution_count": 90,
   "id": "35e83f65-c8c2-46b8-b7a6-99226fd9e6c3",
   "metadata": {},
   "outputs": [
    {
     "name": "stderr",
     "output_type": "stream",
     "text": [
      "Some layers from the model checkpoint at roberta-base were not used when initializing TFRobertaModel: ['lm_head']\n",
      "- This IS expected if you are initializing TFRobertaModel from the checkpoint of a model trained on another task or with another architecture (e.g. initializing a BertForSequenceClassification model from a BertForPreTraining model).\n",
      "- This IS NOT expected if you are initializing TFRobertaModel from the checkpoint of a model that you expect to be exactly identical (initializing a BertForSequenceClassification model from a BertForSequenceClassification model).\n",
      "All the layers of TFRobertaModel were initialized from the model checkpoint at roberta-base.\n",
      "If your task is similar to the task the model of the checkpoint was trained on, you can already use TFRobertaModel for predictions without further training.\n"
     ]
    }
   ],
   "source": [
    "config = RobertaConfig(dropout=0.2, attention_dropout=0.2)\n",
    "config.output_hidden_states=False\n",
    "transformer_model = TFRobertaModel.from_pretrained(pt_model)\n",
    "\n",
    "in_ids = Input(shape=(100,), name=\"input_token\", dtype=\"int32\")\n",
    "in_masks = Input(shape=(100,), name=\"masked_token\", dtype=\"int32\")\n",
    "\n",
    "emb = transformer_model(in_ids, attention_mask=in_masks)[0]\n",
    "x = Bidirectional(LSTM(50, return_sequences=True, dropout=0.1, recurrent_dropout=0))(emb)\n",
    "x = GlobalMaxPool1D()(x)\n",
    "x = Flatten()(x)\n",
    "x = Dense(50, activation=\"relu\")(x)\n",
    "x = Dropout(0.2)(x)\n",
    "x = Dense(2, activation=\"softmax\")(x)\n",
    "model = Model(inputs=[in_ids, in_masks], outputs=x)\n",
    "\n",
    "for layer in model.layers[:3]:\n",
    "    layer.trainable = False"
   ]
  },
  {
   "cell_type": "code",
   "execution_count": 91,
   "id": "bb4ff5ed-434e-4ed8-86d4-bc162c6707b4",
   "metadata": {},
   "outputs": [
    {
     "name": "stdout",
     "output_type": "stream",
     "text": [
      "Model: \"model_1\"\n",
      "__________________________________________________________________________________________________\n",
      "Layer (type)                    Output Shape         Param #     Connected to                     \n",
      "==================================================================================================\n",
      "input_token (InputLayer)        [(None, 100)]        0                                            \n",
      "__________________________________________________________________________________________________\n",
      "masked_token (InputLayer)       [(None, 100)]        0                                            \n",
      "__________________________________________________________________________________________________\n",
      "tf_roberta_model_5 (TFRobertaMo TFBaseModelOutputWit 124645632   input_token[0][0]                \n",
      "                                                                 masked_token[0][0]               \n",
      "__________________________________________________________________________________________________\n",
      "bidirectional_1 (Bidirectional) (None, 100, 100)     327600      tf_roberta_model_5[0][0]         \n",
      "__________________________________________________________________________________________________\n",
      "global_max_pooling1d_1 (GlobalM (None, 100)          0           bidirectional_1[0][0]            \n",
      "__________________________________________________________________________________________________\n",
      "flatten_1 (Flatten)             (None, 100)          0           global_max_pooling1d_1[0][0]     \n",
      "__________________________________________________________________________________________________\n",
      "dense_2 (Dense)                 (None, 50)           5050        flatten_1[0][0]                  \n",
      "__________________________________________________________________________________________________\n",
      "dropout_223 (Dropout)           (None, 50)           0           dense_2[0][0]                    \n",
      "__________________________________________________________________________________________________\n",
      "dense_3 (Dense)                 (None, 2)            102         dropout_223[0][0]                \n",
      "==================================================================================================\n",
      "Total params: 124,978,384\n",
      "Trainable params: 332,752\n",
      "Non-trainable params: 124,645,632\n",
      "__________________________________________________________________________________________________\n"
     ]
    }
   ],
   "source": [
    "model.summary()"
   ]
  },
  {
   "cell_type": "markdown",
   "id": "47237795-1439-41cb-a332-7fbd11be1c13",
   "metadata": {},
   "source": [
    "# Train the model"
   ]
  },
  {
   "cell_type": "code",
   "execution_count": 141,
   "id": "ebd9a55c-bd5f-4426-92dd-9de618ad7775",
   "metadata": {},
   "outputs": [
    {
     "name": "stdout",
     "output_type": "stream",
     "text": [
      "Epoch 1/200\n",
      "91/91 [==============================] - 65s 603ms/step - loss: 0.3025 - accuracy: 0.8785 - val_loss: 0.3153 - val_accuracy: 0.8674\n",
      "\n",
      "Epoch 00001: val_loss improved from inf to 0.31527, saving model to ../nlp models/roberta_2_classes/roberta_2_classes\n",
      "Epoch 2/200\n",
      "91/91 [==============================] - 52s 572ms/step - loss: 0.3011 - accuracy: 0.8797 - val_loss: 0.3167 - val_accuracy: 0.8664\n",
      "\n",
      "Epoch 00002: val_loss did not improve from 0.31527\n",
      "Epoch 3/200\n",
      "91/91 [==============================] - 52s 572ms/step - loss: 0.3033 - accuracy: 0.8766 - val_loss: 0.3168 - val_accuracy: 0.8664\n",
      "\n",
      "Epoch 00003: val_loss did not improve from 0.31527\n",
      "Epoch 4/200\n",
      "91/91 [==============================] - 52s 573ms/step - loss: 0.2949 - accuracy: 0.8856 - val_loss: 0.3177 - val_accuracy: 0.8622\n",
      "\n",
      "Epoch 00004: val_loss did not improve from 0.31527\n",
      "Epoch 5/200\n",
      "91/91 [==============================] - 52s 573ms/step - loss: 0.2882 - accuracy: 0.8805 - val_loss: 0.3109 - val_accuracy: 0.8711\n",
      "\n",
      "Epoch 00005: val_loss improved from 0.31527 to 0.31092, saving model to ../nlp models/roberta_2_classes/roberta_2_classes\n",
      "Epoch 6/200\n",
      "91/91 [==============================] - 52s 573ms/step - loss: 0.2867 - accuracy: 0.8890 - val_loss: 0.3102 - val_accuracy: 0.8736\n",
      "\n",
      "Epoch 00006: val_loss improved from 0.31092 to 0.31018, saving model to ../nlp models/roberta_2_classes/roberta_2_classes\n",
      "Epoch 7/200\n",
      "91/91 [==============================] - 52s 573ms/step - loss: 0.2828 - accuracy: 0.8881 - val_loss: 0.3105 - val_accuracy: 0.8767\n",
      "\n",
      "Epoch 00007: val_loss did not improve from 0.31018\n",
      "Epoch 8/200\n",
      "91/91 [==============================] - 52s 571ms/step - loss: 0.2855 - accuracy: 0.8883 - val_loss: 0.3087 - val_accuracy: 0.8752\n",
      "\n",
      "Epoch 00008: val_loss improved from 0.31018 to 0.30873, saving model to ../nlp models/roberta_2_classes/roberta_2_classes\n",
      "Epoch 9/200\n",
      "91/91 [==============================] - 52s 574ms/step - loss: 0.2828 - accuracy: 0.8859 - val_loss: 0.3078 - val_accuracy: 0.8793\n",
      "\n",
      "Epoch 00009: val_loss improved from 0.30873 to 0.30782, saving model to ../nlp models/roberta_2_classes/roberta_2_classes\n",
      "Epoch 10/200\n",
      "91/91 [==============================] - 52s 572ms/step - loss: 0.2854 - accuracy: 0.8861 - val_loss: 0.3116 - val_accuracy: 0.8705\n",
      "\n",
      "Epoch 00010: val_loss did not improve from 0.30782\n",
      "Epoch 11/200\n",
      "91/91 [==============================] - 52s 572ms/step - loss: 0.2819 - accuracy: 0.8881 - val_loss: 0.3112 - val_accuracy: 0.8721\n",
      "\n",
      "Epoch 00011: val_loss did not improve from 0.30782\n",
      "Epoch 12/200\n",
      "91/91 [==============================] - 52s 573ms/step - loss: 0.2738 - accuracy: 0.8902 - val_loss: 0.3059 - val_accuracy: 0.8742\n",
      "\n",
      "Epoch 00012: val_loss improved from 0.30782 to 0.30593, saving model to ../nlp models/roberta_2_classes/roberta_2_classes\n",
      "Epoch 13/200\n",
      "91/91 [==============================] - 52s 573ms/step - loss: 0.2735 - accuracy: 0.8880 - val_loss: 0.3073 - val_accuracy: 0.8705\n",
      "\n",
      "Epoch 00013: val_loss did not improve from 0.30593\n",
      "Epoch 14/200\n",
      "91/91 [==============================] - 52s 572ms/step - loss: 0.2637 - accuracy: 0.8928 - val_loss: 0.3027 - val_accuracy: 0.8773\n",
      "\n",
      "Epoch 00014: val_loss improved from 0.30593 to 0.30274, saving model to ../nlp models/roberta_2_classes/roberta_2_classes\n",
      "Epoch 15/200\n",
      "91/91 [==============================] - 52s 573ms/step - loss: 0.2700 - accuracy: 0.8897 - val_loss: 0.3034 - val_accuracy: 0.8767\n",
      "\n",
      "Epoch 00015: val_loss did not improve from 0.30274\n",
      "Epoch 16/200\n",
      "91/91 [==============================] - 52s 572ms/step - loss: 0.2636 - accuracy: 0.8982 - val_loss: 0.3039 - val_accuracy: 0.8731\n",
      "\n",
      "Epoch 00016: val_loss did not improve from 0.30274\n",
      "Epoch 17/200\n",
      "91/91 [==============================] - 52s 573ms/step - loss: 0.2589 - accuracy: 0.8990 - val_loss: 0.3059 - val_accuracy: 0.8705\n",
      "\n",
      "Epoch 00017: val_loss did not improve from 0.30274\n",
      "Epoch 18/200\n",
      "91/91 [==============================] - 52s 572ms/step - loss: 0.2596 - accuracy: 0.8945 - val_loss: 0.3079 - val_accuracy: 0.8726\n",
      "\n",
      "Epoch 00018: val_loss did not improve from 0.30274\n",
      "Epoch 19/200\n",
      "91/91 [==============================] - 52s 572ms/step - loss: 0.2562 - accuracy: 0.8985 - val_loss: 0.3136 - val_accuracy: 0.8721\n",
      "\n",
      "Epoch 00019: val_loss did not improve from 0.30274\n"
     ]
    }
   ],
   "source": [
    "x_train_tok = tokenize(x_train_pp, tok)\n",
    "x_val_tok = tokenize(x_val_pp, tok)\n",
    "\n",
    "lb = LabelBinarizer()\n",
    "y_train_b = lb.fit_transform(y_train)\n",
    "y_val_b = lb.transform(y_val)\n",
    "\n",
    "batch_size = 64\n",
    "n_epochs = 200\n",
    "\n",
    "model.compile(loss=\"sparse_categorical_crossentropy\", \n",
    "              optimizer=Adam(learning_rate=0.00005), \n",
    "              metrics=[\"accuracy\"])\n",
    "\n",
    "metric = \"val_loss\"\n",
    "\n",
    "es = EarlyStopping(monitor=metric, \n",
    "                   mode=\"min\", \n",
    "                   patience=5, \n",
    "                   restore_best_weights=True)\n",
    "\n",
    "checkpoint = ModelCheckpoint(os.path.join(p_dir, \"{}\".format(m_name)), \n",
    "                             monitor=metric, \n",
    "                             verbose=2, \n",
    "                             save_best_only=True, \n",
    "                             save_weights_only=True, \n",
    "                             mode='min')\n",
    "\n",
    "hist = model.fit(x_train_tok[:2], y_train_b, \n",
    "                 validation_data=(x_val_tok[:2], y_val_b), \n",
    "                 batch_size=batch_size, \n",
    "                 epochs=n_epochs, \n",
    "                 callbacks=[checkpoint, es])"
   ]
  },
  {
   "cell_type": "code",
   "execution_count": 142,
   "id": "f056c121-ecf4-4536-b16c-2f0f4b32a89f",
   "metadata": {},
   "outputs": [
    {
     "data": {
      "image/png": "[encoded data removed]",
      "text/plain": [
       "<Figure size 432x288 with 2 Axes>"
      ]
     },
     "metadata": {
      "needs_background": "light"
     },
     "output_type": "display_data"
    }
   ],
   "source": [
    "fig, axs = plt.subplots(1, 2)\n",
    "\n",
    "axs[0].plot(hist.history[\"accuracy\"])\n",
    "axs[0].plot(hist.history[\"val_accuracy\"])\n",
    "axs[0].set_title(\"model accuracy\")\n",
    "axs[0].set_ylabel(\"accuracy\")\n",
    "axs[0].set_xlabel(\"epoch\")\n",
    "axs[0].set_ylim(0, 1)\n",
    "axs[0].legend([\"train\", \"val\"], loc=\"upper left\")\n",
    "\n",
    "axs[1].plot(hist.history[\"loss\"])\n",
    "axs[1].plot(hist.history[\"val_loss\"])\n",
    "axs[1].set_title(\"model loss\")\n",
    "axs[1].set_ylabel(\"loss\")\n",
    "axs[1].set_xlabel(\"epoch\")\n",
    "axs[1].set_ylim(0, 1)\n",
    "axs[1].legend([\"train\", \"val\"], loc=\"upper left\")\n",
    "\n",
    "plt.tight_layout()\n",
    "plt.show()\n",
    "fig.savefig(os.path.join(p_dir, \"accuracy_loss.jpg\"))"
   ]
  },
  {
   "cell_type": "markdown",
   "id": "04638fd6-8834-4268-8d97-5e0d3927c964",
   "metadata": {},
   "source": [
    "# Confusion matrix"
   ]
  },
  {
   "cell_type": "code",
   "execution_count": 144,
   "id": "24cab94a-5b2a-4045-a8d0-7443494029ef",
   "metadata": {},
   "outputs": [
    {
     "data": {
      "text/plain": [
       "<tensorflow.python.training.tracking.util.CheckpointLoadStatus at 0x7f6c432947d0>"
      ]
     },
     "execution_count": 144,
     "metadata": {},
     "output_type": "execute_result"
    }
   ],
   "source": [
    "model.load_weights(os.path.join(p_dir, \"{}\".format(m_name)))"
   ]
  },
  {
   "cell_type": "markdown",
   "id": "5585bd0a-434e-4cfb-9d21-7ddfc7b0d1bc",
   "metadata": {},
   "source": [
    "## Validation data (in-sample)"
   ]
  },
  {
   "cell_type": "code",
   "execution_count": 145,
   "id": "87c23e5a-9b8c-4c6f-a5bf-c012b2fd80f9",
   "metadata": {},
   "outputs": [],
   "source": [
    "x_val_tok = tokenize(x_val_pp, tok)\n",
    "\n",
    "lb = LabelBinarizer()\n",
    "y_train_b = lb.fit_transform(y_train)\n",
    "y_val_b = lb.transform(y_val)\n",
    "\n",
    "y_val_prob = model.predict(x_val_tok[:2], steps=y_val_b.shape[0])\n",
    "y_pred = np.argmax(y_val_prob, axis=1)\n",
    "y_pred = lb.inverse_transform(y_pred)"
   ]
  },
  {
   "cell_type": "code",
   "execution_count": 146,
   "id": "d834c47c-0740-4157-9637-ee5bf92ad160",
   "metadata": {},
   "outputs": [
    {
     "data": {
      "image/png": "[encoded data removed]",
      "text/plain": [
       "<Figure size 432x288 with 2 Axes>"
      ]
     },
     "metadata": {
      "needs_background": "light"
     },
     "output_type": "display_data"
    },
    {
     "name": "stdout",
     "output_type": "stream",
     "text": [
      "Accuracy: 0.88\n",
      "Micro precision: 0.88\n",
      "Micro recall: 0.88\n",
      "Micro F1-score: 0.88\n",
      "Macro precision: 0.88\n",
      "Macro recall: 0.88\n",
      "Macro F1-score: 0.88\n",
      "Weighted precision: 0.88\n",
      "Weighted recall: 0.88\n",
      "Weighted F1-score: 0.88\n",
      "              precision    recall  f1-score   support\n",
      "\n",
      "    very low       0.87      0.91      0.89      1014\n",
      "   very high       0.89      0.85      0.87       917\n",
      "\n",
      "    accuracy                           0.88      1931\n",
      "   macro avg       0.88      0.88      0.88      1931\n",
      "weighted avg       0.88      0.88      0.88      1931\n",
      "\n"
     ]
    }
   ],
   "source": [
    "cmtx = confusion_matrix(y_val, y_pred)\n",
    "sb.heatmap(cmtx, annot=True, fmt=\"d\", xticklabels=lb.classes_, yticklabels=lb.classes_)\n",
    "plt.xlabel(\"True class\")\n",
    "plt.ylabel(\"Predicted class\")\n",
    "plt.title(\"Confusion matrix - validation set\")\n",
    "plt.savefig(os.path.join(p_dir, \"confusion_matrix_val.jpg\"))\n",
    "plt.show()\n",
    "\n",
    "print(\"Accuracy: {:0.2f}\".format(accuracy_score(y_val, y_pred)))\n",
    "\n",
    "print(\"Micro precision: {:0.2f}\".format(precision_score(y_val, y_pred, average=\"micro\")))\n",
    "print(\"Micro recall: {:0.2f}\".format(recall_score(y_val, y_pred, average=\"micro\")))\n",
    "print(\"Micro F1-score: {:0.2f}\".format(f1_score(y_val, y_pred, average=\"micro\")))\n",
    "\n",
    "print(\"Macro precision: {:0.2f}\".format(precision_score(y_val, y_pred, average=\"macro\")))\n",
    "print(\"Macro recall: {:0.2f}\".format(recall_score(y_val, y_pred, average=\"macro\")))\n",
    "print(\"Macro F1-score: {:0.2f}\".format(f1_score(y_val, y_pred, average=\"macro\")))\n",
    "\n",
    "print(\"Weighted precision: {:0.2f}\".format(precision_score(y_val, y_pred, average=\"weighted\")))\n",
    "print(\"Weighted recall: {:0.2f}\".format(recall_score(y_val, y_pred, average=\"weighted\")))\n",
    "print(\"Weighted F1-score: {:0.2f}\".format(f1_score(y_val, y_pred, average=\"weighted\")))\n",
    "\n",
    "print(classification_report(y_val, y_pred, target_names=cat_lbl))"
   ]
  },
  {
   "cell_type": "markdown",
   "id": "2e4a87f1-a331-4a71-881a-bd4bb10cb597",
   "metadata": {},
   "source": [
    "## Test data (out-of-sample)"
   ]
  },
  {
   "cell_type": "code",
   "execution_count": 147,
   "id": "c1dacdb7-718a-42ec-8766-56e8c585e183",
   "metadata": {},
   "outputs": [],
   "source": [
    "x_test_pp = preprocess_data(x_test)\n",
    "x_test_tok = tokenize(x_test_pp, tok)\n",
    "\n",
    "lb = LabelBinarizer()\n",
    "y_train_b = lb.fit_transform(y_train)\n",
    "y_test_b = lb.transform(y_test)\n",
    "\n",
    "y_test_prob = model.predict(x_test_tok[:2], steps=y_test_b.shape[0])\n",
    "y_pred = np.argmax(y_test_prob, axis=1)\n",
    "y_pred = lb.inverse_transform(y_pred)"
   ]
  },
  {
   "cell_type": "code",
   "execution_count": 148,
   "id": "f1f67bd3-f713-4df2-b854-de636859fd2d",
   "metadata": {},
   "outputs": [
    {
     "data": {
      "image/png": "[encoded data removed]",
      "text/plain": [
       "<Figure size 432x288 with 2 Axes>"
      ]
     },
     "metadata": {
      "needs_background": "light"
     },
     "output_type": "display_data"
    },
    {
     "name": "stdout",
     "output_type": "stream",
     "text": [
      "Accuracy: 0.87\n",
      "Micro precision: 0.87\n",
      "Micro recall: 0.87\n",
      "Micro F1-score: 0.87\n",
      "Macro precision: 0.88\n",
      "Macro recall: 0.87\n",
      "Macro F1-score: 0.87\n",
      "Weighted precision: 0.87\n",
      "Weighted recall: 0.87\n",
      "Weighted F1-score: 0.87\n",
      "              precision    recall  f1-score   support\n",
      "\n",
      "    very low       0.86      0.90      0.88       995\n",
      "   very high       0.89      0.85      0.87       937\n",
      "\n",
      "    accuracy                           0.87      1932\n",
      "   macro avg       0.88      0.87      0.87      1932\n",
      "weighted avg       0.87      0.87      0.87      1932\n",
      "\n"
     ]
    }
   ],
   "source": [
    "cmtx = confusion_matrix(y_test, y_pred)\n",
    "sb.heatmap(cmtx, annot=True, fmt=\"d\", xticklabels=lb.classes_, yticklabels=lb.classes_)\n",
    "plt.xlabel(\"True class\")\n",
    "plt.ylabel(\"Predicted class\")\n",
    "plt.title(\"Confusion matrix - test set\")\n",
    "plt.savefig(os.path.join(p_dir, \"confusion_matrix_test.jpg\"))\n",
    "plt.show()\n",
    "\n",
    "print(\"Accuracy: {:0.2f}\".format(accuracy_score(y_test, y_pred)))\n",
    "\n",
    "print(\"Micro precision: {:0.2f}\".format(precision_score(y_test, y_pred, average=\"micro\")))\n",
    "print(\"Micro recall: {:0.2f}\".format(recall_score(y_test, y_pred, average=\"micro\")))\n",
    "print(\"Micro F1-score: {:0.2f}\".format(f1_score(y_test, y_pred, average=\"micro\")))\n",
    "\n",
    "print(\"Macro precision: {:0.2f}\".format(precision_score(y_test, y_pred, average=\"macro\")))\n",
    "print(\"Macro recall: {:0.2f}\".format(recall_score(y_test, y_pred, average=\"macro\")))\n",
    "print(\"Macro F1-score: {:0.2f}\".format(f1_score(y_test, y_pred, average=\"macro\")))\n",
    "\n",
    "print(\"Weighted precision: {:0.2f}\".format(precision_score(y_test, y_pred, average=\"weighted\")))\n",
    "print(\"Weighted recall: {:0.2f}\".format(recall_score(y_test, y_pred, average=\"weighted\")))\n",
    "print(\"Weighted F1-score: {:0.2f}\".format(f1_score(y_test, y_pred, average=\"weighted\")))\n",
    "\n",
    "print(classification_report(y_test, y_pred, target_names=cat_lbl))"
   ]
  },
  {
   "cell_type": "markdown",
   "id": "852a6459-bae4-460f-bb5a-52cc2a3a9f1b",
   "metadata": {},
   "source": [
    "# ROC curve"
   ]
  },
  {
   "cell_type": "markdown",
   "id": "1d75cd51-fb94-4531-9fd6-b0d3d9896e9c",
   "metadata": {},
   "source": [
    "## Validation data (in-sample)"
   ]
  },
  {
   "cell_type": "code",
   "execution_count": 149,
   "id": "cce1f1f7-8f9a-4313-902a-ff27473c352b",
   "metadata": {},
   "outputs": [],
   "source": [
    "lb = LabelBinarizer()\n",
    "lb.fit_transform(y_train)\n",
    "\n",
    "y_val_no = lb.fit_transform(y_val)\n",
    "y_pred_no = y_val_prob[:, 1]\n",
    "fpr, tpr, thr = roc_curve(y_val_no, y_pred_no)"
   ]
  },
  {
   "cell_type": "code",
   "execution_count": 150,
   "id": "cbc6d5ed-73f3-47bd-9ac4-369b205bb814",
   "metadata": {},
   "outputs": [
    {
     "data": {
      "image/png": "[encoded data removed]",
      "text/plain": [
       "<Figure size 432x288 with 1 Axes>"
      ]
     },
     "metadata": {
      "needs_background": "light"
     },
     "output_type": "display_data"
    }
   ],
   "source": [
    "auc_model = auc(fpr, tpr)\n",
    "mavgp = average_precision_score(y_val_no, y_pred_no)\n",
    "\n",
    "plt.plot([0, 1], [0, 1], \"k--\")\n",
    "plt.plot(fpr, tpr, label=\"Model (auc={:0.4f}, mean avg. prec={:0.4f})\".format(auc_model, mavgp))\n",
    "plt.xlabel(\"False positive rate\")\n",
    "plt.ylabel(\"True positive rate\")\n",
    "plt.title(\"ROC curve - validation dataset\")\n",
    "plt.legend()\n",
    "plt.savefig(os.path.join(p_dir, \"roc-curve_val.jpg\"))\n",
    "plt.show()"
   ]
  },
  {
   "cell_type": "markdown",
   "id": "ae0e447d-fd56-4c32-8d47-231f202db118",
   "metadata": {},
   "source": [
    "## Test data (out-of-sample)"
   ]
  },
  {
   "cell_type": "code",
   "execution_count": 151,
   "id": "4f62beba-ebe9-4d45-8753-e881c49a0aef",
   "metadata": {},
   "outputs": [],
   "source": [
    "lb = LabelBinarizer()\n",
    "lb.fit_transform(y_train)\n",
    "\n",
    "y_test_no = lb.fit_transform(y_test)\n",
    "y_pred_no = y_test_prob[:, 1]\n",
    "fpr, tpr, thr = roc_curve(y_test_no, y_pred_no)"
   ]
  },
  {
   "cell_type": "code",
   "execution_count": 152,
   "id": "039d9470-bfbc-4df4-a60d-6f6d1325ec01",
   "metadata": {},
   "outputs": [
    {
     "data": {
      "image/png": "[encoded data removed]",
      "text/plain": [
       "<Figure size 432x288 with 1 Axes>"
      ]
     },
     "metadata": {
      "needs_background": "light"
     },
     "output_type": "display_data"
    }
   ],
   "source": [
    "auc_model = auc(fpr, tpr)\n",
    "mavgp = average_precision_score(y_test_no, y_pred_no)\n",
    "\n",
    "plt.plot([0, 1], [0, 1], \"k--\")\n",
    "plt.plot(fpr, tpr, label=\"Model (auc={:0.4f}, mean avg. prec={:0.4f})\".format(auc_model, mavgp))\n",
    "plt.xlabel(\"False positive rate\")\n",
    "plt.ylabel(\"True positive rate\")\n",
    "plt.title(\"ROC curve - test dataset\")\n",
    "plt.legend()\n",
    "plt.savefig(os.path.join(p_dir, \"roc-curve_test.jpg\"))\n",
    "plt.show()"
   ]
  },
  {
   "cell_type": "markdown",
   "id": "95a8d51f-560b-4773-8116-f428ca926aa6",
   "metadata": {},
   "source": [
    "# Class probability histograms"
   ]
  },
  {
   "cell_type": "markdown",
   "id": "53444416-298a-4a7b-bc39-03ed51c4da29",
   "metadata": {},
   "source": [
    "## Without middle classes"
   ]
  },
  {
   "cell_type": "code",
   "execution_count": 153,
   "id": "95d280f8-0d82-4149-87c0-1edfbd58c920",
   "metadata": {},
   "outputs": [
    {
     "data": {
      "image/png": "[encoded data removed]",
      "text/plain": [
       "<Figure size 432x288 with 1 Axes>"
      ]
     },
     "metadata": {
      "needs_background": "light"
     },
     "output_type": "display_data"
    }
   ],
   "source": [
    "m0 = y_test_no[:, 0] == 0\n",
    "c0 = y_test_prob[m0, 1]\n",
    "m1 = y_test_no[:, 0] == 1\n",
    "c1 = y_test_prob[m1, 1]\n",
    "\n",
    "plt.hist(c0, alpha=0.3, bins=20)\n",
    "plt.hist(c1, color=\"red\", alpha=0.3, bins=20)\n",
    "plt.title(\"Histogram\")\n",
    "plt.legend(cat_lbl)\n",
    "plt.savefig(os.path.join(p_dir, \"histogram.jpg\"))\n",
    "plt.show()"
   ]
  },
  {
   "cell_type": "markdown",
   "id": "ae3a2f57-bf01-471f-9f1f-8b4651028268",
   "metadata": {},
   "source": [
    "## Including middle classes"
   ]
  },
  {
   "cell_type": "code",
   "execution_count": 154,
   "id": "749f796f-d8c8-4ff8-a2a3-184b0f712f84",
   "metadata": {},
   "outputs": [],
   "source": [
    "cat_lbl2 = [\"very low\", \"low\", \"high\", \"very high\"]\n",
    "combo2 = combo.copy()\n",
    "combo2.loc[:, \"qtl\"] = pd.qcut(combo.ln_vc_norm, len(cat_lbl2), labels=cat_lbl2, precision=6)"
   ]
  },
  {
   "cell_type": "code",
   "execution_count": 155,
   "id": "37dada31-61ec-4d14-b2a7-48b9bb437949",
   "metadata": {},
   "outputs": [
    {
     "name": "stdout",
     "output_type": "stream",
     "text": [
      "2896 966 966\n"
     ]
    }
   ],
   "source": [
    "combo2 = combo2.loc[combo2.qtl.isin([\"low\", \"high\"]), :]\n",
    "combo2.qtl = combo2.qtl.cat.remove_unused_categories()\n",
    "\n",
    "y2 = combo2.qtl\n",
    "x2 = combo2.loc[:, [c for c in combo2.columns if c != \"qtl\"]]\n",
    "\n",
    "x_train2, x_test2, y_train2, y_test2 = train_test_split(x2, y2, test_size=0.2, random_state=42)\n",
    "x_train2, x_val2, y_train2, y_val2 = train_test_split(x_train2, y_train2, test_size=0.25, random_state=4711)\n",
    "\n",
    "print(x_train2.shape[0], x_val2.shape[0], x_test2.shape[0])"
   ]
  },
  {
   "cell_type": "code",
   "execution_count": 156,
   "id": "ee827995-a47c-483f-bf0f-a59bb1d93f22",
   "metadata": {},
   "outputs": [],
   "source": [
    "x_test_pp2 = preprocess_data(x_test2)\n",
    "x_test_tok2 = tokenize(x_test_pp2, tok)\n",
    "\n",
    "lb = LabelBinarizer()\n",
    "y_train_b = lb.fit_transform(y_train)\n",
    "y_test_b2 = lb.transform(y_test2)\n",
    "\n",
    "y_pred_prob2 = model.predict(x_test_tok2[:2], steps=y_test_b2.shape[0])\n",
    "y_pred2 = np.argmax(y_pred_prob2, axis=1)\n",
    "y_pred2 = lb.inverse_transform(y_pred2)"
   ]
  },
  {
   "cell_type": "code",
   "execution_count": 157,
   "id": "912516cf-b152-4b77-8b68-05ebe52d7991",
   "metadata": {},
   "outputs": [
    {
     "data": {
      "image/png": "[encoded data removed]",
      "text/plain": [
       "<Figure size 432x288 with 1 Axes>"
      ]
     },
     "metadata": {
      "needs_background": "light"
     },
     "output_type": "display_data"
    }
   ],
   "source": [
    "m0 = y_test_no[:, 0] == 0\n",
    "c0 = y_test_prob[m0, 1]\n",
    "m1 = y_test_no[:, 0] == 1\n",
    "c1 = y_test_prob[m1, 1]\n",
    "\n",
    "m3 = y_test2 == \"low\"\n",
    "c2 = y_pred_prob2[m3, 0]\n",
    "\n",
    "m4 = y_test2 == \"high\"\n",
    "c3 = y_pred_prob2[m4, 0]\n",
    "\n",
    "plt.hist(c0, alpha=0.3, label=\"\", bins=20)\n",
    "plt.hist(c1, color=\"red\", alpha=0.3, label=\"\", bins=20)\n",
    "plt.hist(c2, color=\"green\", alpha=0.3, label=\"\", bins=20)\n",
    "plt.hist(c3, color=\"yellow\", alpha=0.3, label=\"\", bins=20)\n",
    "plt.title(\"Histogram incl. middle classes\")\n",
    "plt.legend(cat_lbl + [\"low\", \"high\"])\n",
    "plt.savefig(os.path.join(p_dir, \"histogram_w_medium.jpg\"))\n",
    "plt.show()"
   ]
  },
  {
   "cell_type": "markdown",
   "id": "5e6b6bec-779b-464a-9cef-4b5b6b38d0f8",
   "metadata": {},
   "source": [
    "# Sample titles"
   ]
  },
  {
   "cell_type": "markdown",
   "id": "027c03ef-f4c7-4267-95c9-e2c788171309",
   "metadata": {},
   "source": [
    "## Validation dataset"
   ]
  },
  {
   "cell_type": "code",
   "execution_count": 158,
   "id": "0ec6fdfa-b441-4718-a6ac-97b78a97cb8a",
   "metadata": {},
   "outputs": [
    {
     "name": "stdout",
     "output_type": "stream",
     "text": [
      "(2898, 4)\n"
     ]
    },
    {
     "data": {
      "text/html": [
       "<div>\n",
       "<style scoped>\n",
       "    .dataframe tbody tr th:only-of-type {\n",
       "        vertical-align: middle;\n",
       "    }\n",
       "\n",
       "    .dataframe tbody tr th {\n",
       "        vertical-align: top;\n",
       "    }\n",
       "\n",
       "    .dataframe thead th {\n",
       "        text-align: right;\n",
       "    }\n",
       "</style>\n",
       "<table border=\"1\" class=\"dataframe\">\n",
       "  <thead>\n",
       "    <tr style=\"text-align: right;\">\n",
       "      <th></th>\n",
       "      <th>title</th>\n",
       "      <th>channel_name</th>\n",
       "      <th>qtl</th>\n",
       "      <th>pred</th>\n",
       "    </tr>\n",
       "  </thead>\n",
       "  <tbody>\n",
       "    <tr>\n",
       "      <th>0</th>\n",
       "      <td>Why Do You Love Your Family?</td>\n",
       "      <td>It's Okay To Be Smart</td>\n",
       "      <td>high</td>\n",
       "      <td>very high</td>\n",
       "    </tr>\n",
       "    <tr>\n",
       "      <th>1</th>\n",
       "      <td>Artificial Intelligence Tutorial | Artificial ...</td>\n",
       "      <td>Simplilearn</td>\n",
       "      <td>high</td>\n",
       "      <td>very low</td>\n",
       "    </tr>\n",
       "    <tr>\n",
       "      <th>2</th>\n",
       "      <td>The Force - Sixty Symbols</td>\n",
       "      <td>Sixty Symbols</td>\n",
       "      <td>high</td>\n",
       "      <td>very high</td>\n",
       "    </tr>\n",
       "    <tr>\n",
       "      <th>3</th>\n",
       "      <td>Bamboo Engineering</td>\n",
       "      <td>Massachusetts Institute of Technology (MIT)</td>\n",
       "      <td>high</td>\n",
       "      <td>very low</td>\n",
       "    </tr>\n",
       "    <tr>\n",
       "      <th>4</th>\n",
       "      <td>HARP TWINS and more... -- BiDiPi #17</td>\n",
       "      <td>Vsauce2</td>\n",
       "      <td>high</td>\n",
       "      <td>very high</td>\n",
       "    </tr>\n",
       "  </tbody>\n",
       "</table>\n",
       "</div>"
      ],
      "text/plain": [
       "                                               title  \\\n",
       "0                       Why Do You Love Your Family?   \n",
       "1  Artificial Intelligence Tutorial | Artificial ...   \n",
       "2                          The Force - Sixty Symbols   \n",
       "3                                 Bamboo Engineering   \n",
       "4               HARP TWINS and more... -- BiDiPi #17   \n",
       "\n",
       "                                  channel_name   qtl       pred  \n",
       "0                        It's Okay To Be Smart  high  very high  \n",
       "1                                  Simplilearn  high   very low  \n",
       "2                                Sixty Symbols  high  very high  \n",
       "3  Massachusetts Institute of Technology (MIT)  high   very low  \n",
       "4                                      Vsauce2  high  very high  "
      ]
     },
     "execution_count": 158,
     "metadata": {},
     "output_type": "execute_result"
    }
   ],
   "source": [
    "x1 = x_test2[[\"title\", \"channel_name\"]]\n",
    "x2 = y_test2\n",
    "x3 = pd.Series(y_pred2, name=\"pred\")\n",
    "\n",
    "x4 = x_test[[\"title\", \"channel_name\"]]\n",
    "x5 = y_test\n",
    "x6 = pd.Series(y_pred, name=\"pred\")\n",
    "\n",
    "c1 = pd.concat([x1, x2], axis=1).reset_index(drop=True)\n",
    "c1 = pd.concat([c1, x3], axis=1)\n",
    "\n",
    "c2 = pd.concat([x4, x5], axis=1).reset_index(drop=True)\n",
    "c2 = pd.concat([c2, x6], axis=1)\n",
    "\n",
    "c3 = pd.concat([c1, c2])\n",
    "\n",
    "print(c3.shape)\n",
    "c3.head()"
   ]
  },
  {
   "cell_type": "code",
   "execution_count": 159,
   "id": "6dd52eee-cfbf-4f41-939a-fdc2e5a8a12c",
   "metadata": {},
   "outputs": [
    {
     "data": {
      "text/html": [
       "<div>\n",
       "<style scoped>\n",
       "    .dataframe tbody tr th:only-of-type {\n",
       "        vertical-align: middle;\n",
       "    }\n",
       "\n",
       "    .dataframe tbody tr th {\n",
       "        vertical-align: top;\n",
       "    }\n",
       "\n",
       "    .dataframe thead th {\n",
       "        text-align: right;\n",
       "    }\n",
       "</style>\n",
       "<table border=\"1\" class=\"dataframe\">\n",
       "  <thead>\n",
       "    <tr style=\"text-align: right;\">\n",
       "      <th></th>\n",
       "      <th></th>\n",
       "      <th>title</th>\n",
       "      <th>pred</th>\n",
       "    </tr>\n",
       "  </thead>\n",
       "  <tbody>\n",
       "    <tr>\n",
       "      <th rowspan=\"5\" valign=\"top\">0</th>\n",
       "      <th>364</th>\n",
       "      <td>Can You Carbonate Soda With Pop Rocks? Bad Ide...</td>\n",
       "      <td>very high</td>\n",
       "    </tr>\n",
       "    <tr>\n",
       "      <th>273</th>\n",
       "      <td>Why Don’t Woodpeckers Get Concussions?</td>\n",
       "      <td>very high</td>\n",
       "    </tr>\n",
       "    <tr>\n",
       "      <th>1819</th>\n",
       "      <td>Why Are Things Creepy?</td>\n",
       "      <td>very high</td>\n",
       "    </tr>\n",
       "    <tr>\n",
       "      <th>1077</th>\n",
       "      <td>Why should you read Tolstoy's \"War and Peace\"?...</td>\n",
       "      <td>very high</td>\n",
       "    </tr>\n",
       "    <tr>\n",
       "      <th>1914</th>\n",
       "      <td>Most Dangerous Chemical - Viewer Questions</td>\n",
       "      <td>very high</td>\n",
       "    </tr>\n",
       "    <tr>\n",
       "      <th rowspan=\"5\" valign=\"top\">1</th>\n",
       "      <th>323</th>\n",
       "      <td>Taking imagination seriously - Janet Echelman</td>\n",
       "      <td>very low</td>\n",
       "    </tr>\n",
       "    <tr>\n",
       "      <th>167</th>\n",
       "      <td>Mining literature for deeper meanings - Amy E....</td>\n",
       "      <td>very low</td>\n",
       "    </tr>\n",
       "    <tr>\n",
       "      <th>591</th>\n",
       "      <td>Facebook Advertising Tutorial | Social Media M...</td>\n",
       "      <td>very low</td>\n",
       "    </tr>\n",
       "    <tr>\n",
       "      <th>796</th>\n",
       "      <td>Backpropagation calculus | Chapter 4, Deep lea...</td>\n",
       "      <td>very low</td>\n",
       "    </tr>\n",
       "    <tr>\n",
       "      <th>241</th>\n",
       "      <td>Simplilearn.com User Flow | World's Leading Ce...</td>\n",
       "      <td>very low</td>\n",
       "    </tr>\n",
       "  </tbody>\n",
       "</table>\n",
       "</div>"
      ],
      "text/plain": [
       "                                                    title       pred\n",
       "0 364   Can You Carbonate Soda With Pop Rocks? Bad Ide...  very high\n",
       "  273              Why Don’t Woodpeckers Get Concussions?  very high\n",
       "  1819                             Why Are Things Creepy?  very high\n",
       "  1077  Why should you read Tolstoy's \"War and Peace\"?...  very high\n",
       "  1914         Most Dangerous Chemical - Viewer Questions  very high\n",
       "1 323       Taking imagination seriously - Janet Echelman   very low\n",
       "  167   Mining literature for deeper meanings - Amy E....   very low\n",
       "  591   Facebook Advertising Tutorial | Social Media M...   very low\n",
       "  796   Backpropagation calculus | Chapter 4, Deep lea...   very low\n",
       "  241   Simplilearn.com User Flow | World's Leading Ce...   very low"
      ]
     },
     "execution_count": 159,
     "metadata": {},
     "output_type": "execute_result"
    }
   ],
   "source": [
    "g = c3.loc[c3[\"qtl\"].isin([\"very high\", \"very low\"]), :].groupby(\"pred\", as_index=False).apply(lambda x: x.sample(5, random_state=256))\n",
    "# g = g.loc[g[\"qtl\"].isin([\"very low\"]), \"title\"]\n",
    "g[[\"title\", \"pred\"]].head(10)"
   ]
  }
 ],
 "metadata": {
  "environment": {
   "name": "tf2-gpu.2-6.m80",
   "type": "gcloud",
   "uri": "gcr.io/deeplearning-platform-release/tf2-gpu.2-6:m80"
  },
  "kernelspec": {
   "display_name": "Python 3",
   "language": "python",
   "name": "python3"
  },
  "language_info": {
   "codemirror_mode": {
    "name": "ipython",
    "version": 3
   },
   "file_extension": ".py",
   "mimetype": "text/x-python",
   "name": "python",
   "nbconvert_exporter": "python",
   "pygments_lexer": "ipython3",
   "version": "3.7.10"
  }
 },
 "nbformat": 4,
 "nbformat_minor": 5
}
