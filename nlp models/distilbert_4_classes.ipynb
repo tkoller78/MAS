{
 "cells": [
  {
   "cell_type": "code",
   "execution_count": 87,
   "id": "3469ff78-2149-41a4-93ac-a90a5d6fafcd",
   "metadata": {},
   "outputs": [],
   "source": [
    "import os\n",
    "import pandas as pd\n",
    "import numpy as np\n",
    "from shutil import rmtree, copyfile\n",
    "import matplotlib.pyplot as plt\n",
    "from sklearn.model_selection import train_test_split\n",
    "from transformers import DistilBertTokenizer, TFDistilBertModel, DistilBertConfig\n",
    "from bs4 import BeautifulSoup\n",
    "from nltk.corpus import stopwords\n",
    "import nltk\n",
    "from sklearn.preprocessing import LabelBinarizer\n",
    "from tensorflow.keras.optimizers.schedules import PolynomialDecay\n",
    "from tensorflow.keras.optimizers import Adam\n",
    "from keras import Model\n",
    "from keras.layers import Input, Bidirectional, GlobalMaxPool1D, Dense, Dropout, LSTM, Flatten\n",
    "from keras.callbacks import EarlyStopping, ModelCheckpoint\n",
    "from sklearn.metrics import confusion_matrix, accuracy_score, precision_score, recall_score, f1_score, classification_report, roc_curve, auc, average_precision_score\n",
    "import seaborn as sb\n",
    "from tensorflow.keras.utils import to_categorical\n",
    "from itertools import cycle"
   ]
  },
  {
   "cell_type": "markdown",
   "id": "b86c9237-e43a-4a35-b929-877958c81f2a",
   "metadata": {},
   "source": [
    "# Project variables"
   ]
  },
  {
   "cell_type": "code",
   "execution_count": 2,
   "id": "85cd8d0d-2841-4449-ad43-f1bc7a572822",
   "metadata": {},
   "outputs": [],
   "source": [
    "m_name = \"distilbert_4_classes\"\n",
    "p_dir = os.path.join(\"../nlp models\", m_name)"
   ]
  },
  {
   "cell_type": "code",
   "execution_count": 3,
   "id": "36ad907c-35b5-4f75-92ed-26f7825150b8",
   "metadata": {},
   "outputs": [],
   "source": [
    "def create_dir(dir_path: str):\n",
    "    if not os.path.exists(dir_path):\n",
    "        os.mkdir(dir_path)"
   ]
  },
  {
   "cell_type": "code",
   "execution_count": 4,
   "id": "649c998a-1e01-4e75-bf29-baad4a10ac5b",
   "metadata": {},
   "outputs": [],
   "source": [
    "def clear_dir(dir_path: str):\n",
    "    for item in os.listdir(dir_path):\n",
    "        fp = os.path.join(dir_path, item)\n",
    "        if os.path.isfile(fp):\n",
    "            os.remove(fp)\n",
    "        if os.path.isdir(fp):\n",
    "            rmtree(fp)"
   ]
  },
  {
   "cell_type": "code",
   "execution_count": 5,
   "id": "e5f916ce-e5a8-4c77-baeb-64511b0937e6",
   "metadata": {},
   "outputs": [],
   "source": [
    "create_dir(p_dir)\n",
    "clear_dir(p_dir)"
   ]
  },
  {
   "cell_type": "markdown",
   "id": "ae50c8ba-6b4d-438a-96ed-e7667b87d297",
   "metadata": {},
   "source": [
    "# Read and transform scraped dataframes"
   ]
  },
  {
   "cell_type": "code",
   "execution_count": 6,
   "id": "5c51e71a-9184-4302-b55a-60f283442bd3",
   "metadata": {},
   "outputs": [],
   "source": [
    "fp = \"../scraped data\"\n",
    "\n",
    "channels = pd.read_pickle(os.path.join(fp, \"channels.pkl\"))\n",
    "videos = pd.read_pickle(os.path.join(fp, \"videos.pkl\"))"
   ]
  },
  {
   "cell_type": "code",
   "execution_count": 7,
   "id": "8e7ca9f1-6de6-4e8e-9be5-392ced4a0735",
   "metadata": {},
   "outputs": [],
   "source": [
    "def transform_channels(df: pd.DataFrame) -> pd.DataFrame:\n",
    "    # Date string into proper date\n",
    "    df.published = pd.to_datetime(df.published)\n",
    "    \n",
    "    # Convert field type into int64\n",
    "    fields = [\"video_count\", \"view_count\"]\n",
    "    df.loc[:, fields] = df.loc[:, fields].astype(\"int64\")\n",
    "    \n",
    "    # Convert field type into float64\n",
    "    fields = [\"subscriber_count\"]\n",
    "    df.loc[:, fields] = df.loc[:, fields].astype(\"float64\")\n",
    "    \n",
    "    # Add of channel in months\n",
    "    df[\"age_mth\"] = (pd.to_datetime(\"today\", utc=True).year - df.published.dt.year) * 12 \\\n",
    "        + (pd.to_datetime(\"today\", utc=True).month - df.published.dt.month)\n",
    "        \n",
    "    # Drop unnecessary fields\n",
    "    df.drop(columns=[\"custom_url\", \"country\"] + [c for c in df.columns if c.startswith(\"thumbnail\")], inplace=True)\n",
    "    \n",
    "    # Remove channels without subscriber_count\n",
    "    df = df.loc[df.subscriber_count.notnull(), :]\n",
    "    \n",
    "    return df"
   ]
  },
  {
   "cell_type": "code",
   "execution_count": 8,
   "id": "5f1195b7-0e97-4a76-aeee-ca10dec06a6c",
   "metadata": {},
   "outputs": [],
   "source": [
    "def transform_videos(df: pd.DataFrame) -> pd.DataFrame:    \n",
    "    # Date string into proper date\n",
    "    df.published = pd.to_datetime(df.published)\n",
    "    \n",
    "    # Convert field type to bool\n",
    "    fields = [\"broadcast\"]\n",
    "    df.loc[:, fields] = df.loc[:, fields].astype(\"bool\")\n",
    "    \n",
    "    # Convert field type into int64\n",
    "    fields = [\"category_id\"]\n",
    "    df.loc[:, fields] = df.loc[:, fields].astype(\"int64\")\n",
    "    \n",
    "    # Convert field type into float64\n",
    "    fields = [\"comment_count\", \"dislike_count\", \"like_count\", \"view_count\"]\n",
    "    df.loc[:, fields] = df.loc[:, fields].astype(\"float64\")\n",
    "    \n",
    "    df[\"published_mth\"] = (pd.to_datetime(\"today\", utc=True).year - df.published.dt.year) * 12 \\\n",
    "        + (pd.to_datetime(\"today\", utc=True).month - df.published.dt.month)\n",
    "    df[\"title_len\"] = df.title.str.len()\n",
    "    \n",
    "    df.drop(columns=[\"favorite_count\", \"broadcast\", \"audio_language\", \"comment_count\", \"category_id\"] \\\n",
    "            + [c for c in df.columns if c.startswith(\"thumbnail\")], inplace=True)\n",
    "    \n",
    "    df = df.loc[df.like_count.notnull() & df.dislike_count.notnull() & df.view_count.notnull(), :]\n",
    "    \n",
    "    return df"
   ]
  },
  {
   "cell_type": "code",
   "execution_count": 9,
   "id": "1b4f699f-8c3d-442c-911e-d0533284cab2",
   "metadata": {},
   "outputs": [],
   "source": [
    "channels_trans = transform_channels(channels)\n",
    "videos_trans = transform_videos(videos)\n",
    "combo = videos_trans.merge(channels_trans[[\"id\", \"view_count\",\"published\", \"age_mth\", \"subscriber_count\",\n",
    "                                             \"video_count\"]], \n",
    "                           how=\"inner\", left_on=\"channel_id\", right_on=\"id\", suffixes=[\"_video\", \"_channel\"])\n",
    "combo[\"ln_vc_norm\"] = np.log(combo.view_count_video / combo.subscriber_count)"
   ]
  },
  {
   "cell_type": "markdown",
   "id": "365ff4b0-c209-4dfa-9018-d0579a0a2640",
   "metadata": {},
   "source": [
    "# Define categories"
   ]
  },
  {
   "cell_type": "code",
   "execution_count": 10,
   "id": "c529e2b9-834d-4602-8d3e-e2ac89ed0cfe",
   "metadata": {},
   "outputs": [
    {
     "data": {
      "image/png": "[encoded data removed]",
      "text/plain": [
       "<Figure size 432x288 with 1 Axes>"
      ]
     },
     "metadata": {
      "needs_background": "light"
     },
     "output_type": "display_data"
    }
   ],
   "source": [
    "cat_lbl = [\"very low\", \"low\", \"high\", \"very high\"]\n",
    "combo.loc[:, \"qtl\"] = pd.qcut(combo.ln_vc_norm, len(cat_lbl), labels=cat_lbl, precision=6)\n",
    "combo.sort_values(by=[\"qtl\"]).qtl.hist()\n",
    "plt.title(\"Counts of classes\")\n",
    "plt.show()"
   ]
  },
  {
   "cell_type": "markdown",
   "id": "5383e2e6-6ecc-49d1-81aa-25ddf61b62b4",
   "metadata": {},
   "source": [
    "# Split dataset (use only top and bottom quartile data)"
   ]
  },
  {
   "cell_type": "code",
   "execution_count": 11,
   "id": "1b00fc34-0dd4-48d4-8bc3-2dfe636c59f0",
   "metadata": {},
   "outputs": [
    {
     "name": "stdout",
     "output_type": "stream",
     "text": [
      "11586 3862 3863\n"
     ]
    }
   ],
   "source": [
    "y = combo.qtl\n",
    "x = combo.loc[:, [c for c in combo.columns if c != \"qtl\"]]\n",
    "\n",
    "x_train, x_test, y_train, y_test = train_test_split(x, y, test_size=0.2, random_state=42)\n",
    "x_train, x_val, y_train, y_val = train_test_split(x_train, y_train, test_size=0.25, random_state=4711)\n",
    "\n",
    "x_train.to_pickle(os.path.join(p_dir, \"x_train.pkl\"))\n",
    "y_train.to_pickle(os.path.join(p_dir, \"y_train.pkl\"))\n",
    "x_val.to_pickle(os.path.join(p_dir,\"x_val.pkl\"))\n",
    "y_val.to_pickle(os.path.join(p_dir, \"y_val.pkl\"))\n",
    "x_test.to_pickle(os.path.join(p_dir,\"x_test.pkl\"))\n",
    "y_test.to_pickle(os.path.join(p_dir, \"y_test.pkl\"))\n",
    "\n",
    "print(x_train.shape[0], x_val.shape[0], x_test.shape[0])"
   ]
  },
  {
   "cell_type": "markdown",
   "id": "195fe01f-817f-4c30-bb51-5cdfe40bebc0",
   "metadata": {},
   "source": [
    "# Build the model"
   ]
  },
  {
   "cell_type": "code",
   "execution_count": 12,
   "id": "902eff8b-3ad5-45e0-b9a3-1625a8e994d6",
   "metadata": {},
   "outputs": [],
   "source": [
    "def preprocessing(df: pd.DataFrame, remove_stopwords: bool=False) -> pd.DataFrame:\n",
    "    field = \"title\"\n",
    "    stw = set(stopwords.words(\"english\"))\n",
    "    \n",
    "    def cleanse_row(row, field, stw, stopwords=False):\n",
    "        # Remove HTML from text\n",
    "        soup = BeautifulSoup(row[field])\n",
    "        row[field] = soup.get_text()\n",
    "        \n",
    "        # Remove stopwords\n",
    "        if stopwords:\n",
    "            row[field] = \" \".join([w for w in row[field].split() if w not in stw])\n",
    "        \n",
    "        return row\n",
    "    \n",
    "    df = df.apply(lambda row: cleanse_row(row, field, stw, remove_stopwords), axis=1)\n",
    "    return df[\"title\"]"
   ]
  },
  {
   "cell_type": "code",
   "execution_count": 13,
   "id": "ab3c65b7-b46e-45f6-a5d4-c224017f46ad",
   "metadata": {},
   "outputs": [
    {
     "name": "stderr",
     "output_type": "stream",
     "text": [
      "[nltk_data] Downloading package stopwords to\n",
      "[nltk_data]     /home/jupyter/nltk_data...\n",
      "[nltk_data]   Package stopwords is already up-to-date!\n"
     ]
    },
    {
     "data": {
      "text/plain": [
       "True"
      ]
     },
     "execution_count": 13,
     "metadata": {},
     "output_type": "execute_result"
    }
   ],
   "source": [
    "# Download the stopwork corpus\n",
    "nltk.download('stopwords')"
   ]
  },
  {
   "cell_type": "code",
   "execution_count": 14,
   "id": "09f0605a-39e5-4b24-a655-4d2e663f91a6",
   "metadata": {},
   "outputs": [],
   "source": [
    "remove_stopwords = False\n",
    "\n",
    "def preprocess_data(x: pd.DataFrame, remove_stopwords: bool=False) -> list():\n",
    "    x_pp = preprocessing(x, remove_stopwords)\n",
    "    x_pp = x_pp.tolist()\n",
    "    return x_pp"
   ]
  },
  {
   "cell_type": "code",
   "execution_count": 15,
   "id": "c3095d20-48e6-4af6-918a-17a2d5d9a321",
   "metadata": {},
   "outputs": [],
   "source": [
    "x_train_pp = preprocess_data(x_train)\n",
    "x_val_pp = preprocess_data(x_val)"
   ]
  },
  {
   "cell_type": "code",
   "execution_count": 16,
   "id": "a668f102-1e7a-4700-814f-4e78c0bd9fc1",
   "metadata": {},
   "outputs": [],
   "source": [
    "pt_model = \"distilbert-base-uncased\"\n",
    "tok = DistilBertTokenizer.from_pretrained(pt_model, do_lower=True, add_special_tokens=True, max_length=100, pad_to_max_length=True)"
   ]
  },
  {
   "cell_type": "code",
   "execution_count": 28,
   "id": "af0d7567-2876-480a-8b9f-5709c2c1b990",
   "metadata": {},
   "outputs": [],
   "source": [
    "def tokenize(sentences, tokenizer):\n",
    "    input_ids, input_masks, input_segments = [], [], []\n",
    "    for sentence in sentences:\n",
    "        inputs = tokenizer.encode_plus(sentence, add_special_tokens=True, max_length=100, padding=\"max_length\", return_attention_mask=True, \n",
    "                                       return_token_type_ids=True, truncation=True)\n",
    "        input_ids.append(inputs[\"input_ids\"])\n",
    "        input_masks.append(inputs[\"attention_mask\"])\n",
    "        input_segments.append(inputs[\"token_type_ids\"])\n",
    "        \n",
    "    return np.asarray(input_ids, dtype=\"int32\"), np.asarray(input_masks, dtype=\"int32\"), np.asarray(input_segments, dtype=\"int32\")"
   ]
  },
  {
   "cell_type": "code",
   "execution_count": 40,
   "id": "35e83f65-c8c2-46b8-b7a6-99226fd9e6c3",
   "metadata": {},
   "outputs": [
    {
     "name": "stderr",
     "output_type": "stream",
     "text": [
      "Some layers from the model checkpoint at distilbert-base-uncased were not used when initializing TFDistilBertModel: ['vocab_layer_norm', 'vocab_projector', 'vocab_transform', 'activation_13']\n",
      "- This IS expected if you are initializing TFDistilBertModel from the checkpoint of a model trained on another task or with another architecture (e.g. initializing a BertForSequenceClassification model from a BertForPreTraining model).\n",
      "- This IS NOT expected if you are initializing TFDistilBertModel from the checkpoint of a model that you expect to be exactly identical (initializing a BertForSequenceClassification model from a BertForSequenceClassification model).\n",
      "All the layers of TFDistilBertModel were initialized from the model checkpoint at distilbert-base-uncased.\n",
      "If your task is similar to the task the model of the checkpoint was trained on, you can already use TFDistilBertModel for predictions without further training.\n"
     ]
    }
   ],
   "source": [
    "config = DistilBertConfig(dropout=0.2, attention_dropout=0.2)\n",
    "config.output_hidden_states=False\n",
    "transformer_model = TFDistilBertModel.from_pretrained(pt_model, config=config)\n",
    "\n",
    "in_ids = Input(shape=(100,), name=\"input_token\", dtype=\"int32\")\n",
    "in_masks = Input(shape=(100,), name=\"masked_token\", dtype=\"int32\")\n",
    "\n",
    "emb = transformer_model(in_ids, attention_mask=in_masks)[0]\n",
    "x = Bidirectional(LSTM(50, return_sequences=True, dropout=0.1, recurrent_dropout=0))(emb)\n",
    "x = GlobalMaxPool1D()(x)\n",
    "x = Flatten()(x)\n",
    "x = Dense(50, activation=\"relu\")(x)\n",
    "x = Dropout(0.2)(x)\n",
    "x = Dense(4, activation=\"softmax\")(x)\n",
    "model = Model(inputs=[in_ids, in_masks], outputs=x)\n",
    "\n",
    "for layer in model.layers[:3]:\n",
    "    layer.trainable = False"
   ]
  },
  {
   "cell_type": "code",
   "execution_count": 41,
   "id": "bb4ff5ed-434e-4ed8-86d4-bc162c6707b4",
   "metadata": {},
   "outputs": [
    {
     "name": "stdout",
     "output_type": "stream",
     "text": [
      "Model: \"model_2\"\n",
      "__________________________________________________________________________________________________\n",
      "Layer (type)                    Output Shape         Param #     Connected to                     \n",
      "==================================================================================================\n",
      "input_token (InputLayer)        [(None, 100)]        0                                            \n",
      "__________________________________________________________________________________________________\n",
      "masked_token (InputLayer)       [(None, 100)]        0                                            \n",
      "__________________________________________________________________________________________________\n",
      "tf_distil_bert_model_2 (TFDisti TFBaseModelOutput(la 66362880    input_token[0][0]                \n",
      "                                                                 masked_token[0][0]               \n",
      "__________________________________________________________________________________________________\n",
      "bidirectional_2 (Bidirectional) (None, 100, 100)     327600      tf_distil_bert_model_2[0][0]     \n",
      "__________________________________________________________________________________________________\n",
      "global_max_pooling1d_2 (GlobalM (None, 100)          0           bidirectional_2[0][0]            \n",
      "__________________________________________________________________________________________________\n",
      "flatten_2 (Flatten)             (None, 100)          0           global_max_pooling1d_2[0][0]     \n",
      "__________________________________________________________________________________________________\n",
      "dense_4 (Dense)                 (None, 50)           5050        flatten_2[0][0]                  \n",
      "__________________________________________________________________________________________________\n",
      "dropout_59 (Dropout)            (None, 50)           0           dense_4[0][0]                    \n",
      "__________________________________________________________________________________________________\n",
      "dense_5 (Dense)                 (None, 4)            204         dropout_59[0][0]                 \n",
      "==================================================================================================\n",
      "Total params: 66,695,734\n",
      "Trainable params: 332,854\n",
      "Non-trainable params: 66,362,880\n",
      "__________________________________________________________________________________________________\n"
     ]
    }
   ],
   "source": [
    "model.summary()"
   ]
  },
  {
   "cell_type": "markdown",
   "id": "47237795-1439-41cb-a332-7fbd11be1c13",
   "metadata": {},
   "source": [
    "# Train the model"
   ]
  },
  {
   "cell_type": "code",
   "execution_count": 47,
   "id": "ebd9a55c-bd5f-4426-92dd-9de618ad7775",
   "metadata": {},
   "outputs": [
    {
     "name": "stdout",
     "output_type": "stream",
     "text": [
      "Epoch 1/200\n",
      "182/182 [==============================] - 59s 285ms/step - loss: 1.2873 - accuracy: 0.3790 - val_loss: 1.2072 - val_accuracy: 0.4303\n",
      "\n",
      "Epoch 00001: val_loss improved from inf to 1.20721, saving model to ../nlp models/distilbert_4_classes/distilbert_4_classes\n",
      "Epoch 2/200\n",
      "182/182 [==============================] - 52s 285ms/step - loss: 1.2046 - accuracy: 0.4293 - val_loss: 1.1683 - val_accuracy: 0.4521\n",
      "\n",
      "Epoch 00002: val_loss improved from 1.20721 to 1.16826, saving model to ../nlp models/distilbert_4_classes/distilbert_4_classes\n",
      "Epoch 3/200\n",
      "182/182 [==============================] - 52s 288ms/step - loss: 1.1798 - accuracy: 0.4425 - val_loss: 1.1511 - val_accuracy: 0.4744\n",
      "\n",
      "Epoch 00003: val_loss improved from 1.16826 to 1.15112, saving model to ../nlp models/distilbert_4_classes/distilbert_4_classes\n",
      "Epoch 4/200\n",
      "182/182 [==============================] - 52s 288ms/step - loss: 1.1619 - accuracy: 0.4581 - val_loss: 1.1372 - val_accuracy: 0.4806\n",
      "\n",
      "Epoch 00004: val_loss improved from 1.15112 to 1.13717, saving model to ../nlp models/distilbert_4_classes/distilbert_4_classes\n",
      "Epoch 5/200\n",
      "182/182 [==============================] - 52s 287ms/step - loss: 1.1489 - accuracy: 0.4704 - val_loss: 1.1293 - val_accuracy: 0.4886\n",
      "\n",
      "Epoch 00005: val_loss improved from 1.13717 to 1.12929, saving model to ../nlp models/distilbert_4_classes/distilbert_4_classes\n",
      "Epoch 6/200\n",
      "182/182 [==============================] - 52s 288ms/step - loss: 1.1414 - accuracy: 0.4734 - val_loss: 1.1242 - val_accuracy: 0.4894\n",
      "\n",
      "Epoch 00006: val_loss improved from 1.12929 to 1.12418, saving model to ../nlp models/distilbert_4_classes/distilbert_4_classes\n",
      "Epoch 7/200\n",
      "182/182 [==============================] - 52s 288ms/step - loss: 1.1295 - accuracy: 0.4846 - val_loss: 1.1147 - val_accuracy: 0.4966\n",
      "\n",
      "Epoch 00007: val_loss improved from 1.12418 to 1.11472, saving model to ../nlp models/distilbert_4_classes/distilbert_4_classes\n",
      "Epoch 8/200\n",
      "182/182 [==============================] - 52s 288ms/step - loss: 1.1218 - accuracy: 0.4954 - val_loss: 1.1123 - val_accuracy: 0.4959\n",
      "\n",
      "Epoch 00008: val_loss improved from 1.11472 to 1.11233, saving model to ../nlp models/distilbert_4_classes/distilbert_4_classes\n",
      "Epoch 9/200\n",
      "182/182 [==============================] - 52s 288ms/step - loss: 1.1175 - accuracy: 0.4858 - val_loss: 1.1006 - val_accuracy: 0.5083\n",
      "\n",
      "Epoch 00009: val_loss improved from 1.11233 to 1.10062, saving model to ../nlp models/distilbert_4_classes/distilbert_4_classes\n",
      "Epoch 10/200\n",
      "182/182 [==============================] - 52s 288ms/step - loss: 1.1046 - accuracy: 0.5007 - val_loss: 1.0989 - val_accuracy: 0.5028\n",
      "\n",
      "Epoch 00010: val_loss improved from 1.10062 to 1.09889, saving model to ../nlp models/distilbert_4_classes/distilbert_4_classes\n",
      "Epoch 11/200\n",
      "182/182 [==============================] - 52s 288ms/step - loss: 1.1027 - accuracy: 0.5031 - val_loss: 1.0949 - val_accuracy: 0.5065\n",
      "\n",
      "Epoch 00011: val_loss improved from 1.09889 to 1.09487, saving model to ../nlp models/distilbert_4_classes/distilbert_4_classes\n",
      "Epoch 12/200\n",
      "182/182 [==============================] - 52s 287ms/step - loss: 1.0948 - accuracy: 0.5049 - val_loss: 1.0921 - val_accuracy: 0.5101\n",
      "\n",
      "Epoch 00012: val_loss improved from 1.09487 to 1.09213, saving model to ../nlp models/distilbert_4_classes/distilbert_4_classes\n",
      "Epoch 13/200\n",
      "182/182 [==============================] - 52s 287ms/step - loss: 1.0887 - accuracy: 0.5144 - val_loss: 1.0865 - val_accuracy: 0.5148\n",
      "\n",
      "Epoch 00013: val_loss improved from 1.09213 to 1.08651, saving model to ../nlp models/distilbert_4_classes/distilbert_4_classes\n",
      "Epoch 14/200\n",
      "182/182 [==============================] - 52s 288ms/step - loss: 1.0814 - accuracy: 0.5151 - val_loss: 1.0867 - val_accuracy: 0.5091\n",
      "\n",
      "Epoch 00014: val_loss did not improve from 1.08651\n",
      "Epoch 15/200\n",
      "182/182 [==============================] - 52s 288ms/step - loss: 1.0764 - accuracy: 0.5136 - val_loss: 1.0837 - val_accuracy: 0.5158\n",
      "\n",
      "Epoch 00015: val_loss improved from 1.08651 to 1.08366, saving model to ../nlp models/distilbert_4_classes/distilbert_4_classes\n",
      "Epoch 16/200\n",
      "182/182 [==============================] - 52s 287ms/step - loss: 1.0737 - accuracy: 0.5205 - val_loss: 1.0789 - val_accuracy: 0.5127\n",
      "\n",
      "Epoch 00016: val_loss improved from 1.08366 to 1.07886, saving model to ../nlp models/distilbert_4_classes/distilbert_4_classes\n",
      "Epoch 17/200\n",
      "182/182 [==============================] - 52s 287ms/step - loss: 1.0642 - accuracy: 0.5243 - val_loss: 1.0772 - val_accuracy: 0.5140\n",
      "\n",
      "Epoch 00017: val_loss improved from 1.07886 to 1.07720, saving model to ../nlp models/distilbert_4_classes/distilbert_4_classes\n",
      "Epoch 18/200\n",
      "182/182 [==============================] - 53s 289ms/step - loss: 1.0640 - accuracy: 0.5310 - val_loss: 1.0787 - val_accuracy: 0.5171\n",
      "\n",
      "Epoch 00018: val_loss did not improve from 1.07720\n",
      "Epoch 19/200\n",
      "182/182 [==============================] - 52s 287ms/step - loss: 1.0532 - accuracy: 0.5364 - val_loss: 1.0744 - val_accuracy: 0.5148\n",
      "\n",
      "Epoch 00019: val_loss improved from 1.07720 to 1.07443, saving model to ../nlp models/distilbert_4_classes/distilbert_4_classes\n",
      "Epoch 20/200\n",
      "182/182 [==============================] - 52s 288ms/step - loss: 1.0553 - accuracy: 0.5344 - val_loss: 1.0734 - val_accuracy: 0.5179\n",
      "\n",
      "Epoch 00020: val_loss improved from 1.07443 to 1.07337, saving model to ../nlp models/distilbert_4_classes/distilbert_4_classes\n",
      "Epoch 21/200\n",
      "182/182 [==============================] - 52s 287ms/step - loss: 1.0466 - accuracy: 0.5325 - val_loss: 1.0704 - val_accuracy: 0.5173\n",
      "\n",
      "Epoch 00021: val_loss improved from 1.07337 to 1.07037, saving model to ../nlp models/distilbert_4_classes/distilbert_4_classes\n",
      "Epoch 22/200\n",
      "182/182 [==============================] - 52s 287ms/step - loss: 1.0426 - accuracy: 0.5396 - val_loss: 1.0697 - val_accuracy: 0.5153\n",
      "\n",
      "Epoch 00022: val_loss improved from 1.07037 to 1.06972, saving model to ../nlp models/distilbert_4_classes/distilbert_4_classes\n",
      "Epoch 23/200\n",
      "182/182 [==============================] - 52s 287ms/step - loss: 1.0406 - accuracy: 0.5412 - val_loss: 1.0686 - val_accuracy: 0.5212\n",
      "\n",
      "Epoch 00023: val_loss improved from 1.06972 to 1.06864, saving model to ../nlp models/distilbert_4_classes/distilbert_4_classes\n",
      "Epoch 24/200\n",
      "182/182 [==============================] - 52s 288ms/step - loss: 1.0298 - accuracy: 0.5404 - val_loss: 1.0731 - val_accuracy: 0.5142\n",
      "\n",
      "Epoch 00024: val_loss did not improve from 1.06864\n",
      "Epoch 25/200\n",
      "182/182 [==============================] - 52s 287ms/step - loss: 1.0259 - accuracy: 0.5462 - val_loss: 1.0661 - val_accuracy: 0.5194\n",
      "\n",
      "Epoch 00025: val_loss improved from 1.06864 to 1.06605, saving model to ../nlp models/distilbert_4_classes/distilbert_4_classes\n",
      "Epoch 26/200\n",
      "182/182 [==============================] - 52s 287ms/step - loss: 1.0262 - accuracy: 0.5481 - val_loss: 1.0651 - val_accuracy: 0.5197\n",
      "\n",
      "Epoch 00026: val_loss improved from 1.06605 to 1.06510, saving model to ../nlp models/distilbert_4_classes/distilbert_4_classes\n",
      "Epoch 27/200\n",
      "182/182 [==============================] - 52s 288ms/step - loss: 1.0145 - accuracy: 0.5553 - val_loss: 1.0674 - val_accuracy: 0.5192\n",
      "\n",
      "Epoch 00027: val_loss did not improve from 1.06510\n",
      "Epoch 28/200\n",
      "182/182 [==============================] - 52s 288ms/step - loss: 1.0140 - accuracy: 0.5562 - val_loss: 1.0683 - val_accuracy: 0.5176\n",
      "\n",
      "Epoch 00028: val_loss did not improve from 1.06510\n",
      "Epoch 29/200\n",
      "182/182 [==============================] - 52s 287ms/step - loss: 1.0090 - accuracy: 0.5564 - val_loss: 1.0631 - val_accuracy: 0.5205\n",
      "\n",
      "Epoch 00029: val_loss improved from 1.06510 to 1.06313, saving model to ../nlp models/distilbert_4_classes/distilbert_4_classes\n",
      "Epoch 30/200\n",
      "182/182 [==============================] - 52s 287ms/step - loss: 1.0081 - accuracy: 0.5554 - val_loss: 1.0632 - val_accuracy: 0.5210\n",
      "\n",
      "Epoch 00030: val_loss did not improve from 1.06313\n",
      "Epoch 31/200\n",
      "182/182 [==============================] - 52s 287ms/step - loss: 1.0022 - accuracy: 0.5649 - val_loss: 1.0652 - val_accuracy: 0.5186\n",
      "\n",
      "Epoch 00031: val_loss did not improve from 1.06313\n",
      "Epoch 32/200\n",
      "182/182 [==============================] - 52s 287ms/step - loss: 0.9953 - accuracy: 0.5651 - val_loss: 1.0626 - val_accuracy: 0.5210\n",
      "\n",
      "Epoch 00032: val_loss improved from 1.06313 to 1.06257, saving model to ../nlp models/distilbert_4_classes/distilbert_4_classes\n",
      "Epoch 33/200\n",
      "182/182 [==============================] - 52s 288ms/step - loss: 0.9932 - accuracy: 0.5634 - val_loss: 1.0636 - val_accuracy: 0.5241\n",
      "\n",
      "Epoch 00033: val_loss did not improve from 1.06257\n",
      "Epoch 34/200\n",
      "182/182 [==============================] - 52s 287ms/step - loss: 0.9920 - accuracy: 0.5677 - val_loss: 1.0682 - val_accuracy: 0.5212\n",
      "\n",
      "Epoch 00034: val_loss did not improve from 1.06257\n",
      "Epoch 35/200\n",
      "182/182 [==============================] - 52s 287ms/step - loss: 0.9848 - accuracy: 0.5678 - val_loss: 1.0611 - val_accuracy: 0.5246\n",
      "\n",
      "Epoch 00035: val_loss improved from 1.06257 to 1.06108, saving model to ../nlp models/distilbert_4_classes/distilbert_4_classes\n",
      "Epoch 36/200\n",
      "182/182 [==============================] - 52s 288ms/step - loss: 0.9827 - accuracy: 0.5728 - val_loss: 1.0617 - val_accuracy: 0.5238\n",
      "\n",
      "Epoch 00036: val_loss did not improve from 1.06108\n",
      "Epoch 37/200\n",
      "182/182 [==============================] - 52s 287ms/step - loss: 0.9818 - accuracy: 0.5714 - val_loss: 1.0587 - val_accuracy: 0.5236\n",
      "\n",
      "Epoch 00037: val_loss improved from 1.06108 to 1.05871, saving model to ../nlp models/distilbert_4_classes/distilbert_4_classes\n",
      "Epoch 38/200\n",
      "182/182 [==============================] - 52s 287ms/step - loss: 0.9677 - accuracy: 0.5771 - val_loss: 1.0638 - val_accuracy: 0.5259\n",
      "\n",
      "Epoch 00038: val_loss did not improve from 1.05871\n",
      "Epoch 39/200\n",
      "182/182 [==============================] - 52s 287ms/step - loss: 0.9673 - accuracy: 0.5798 - val_loss: 1.0614 - val_accuracy: 0.5228\n",
      "\n",
      "Epoch 00039: val_loss did not improve from 1.05871\n",
      "Epoch 40/200\n",
      "182/182 [==============================] - 52s 287ms/step - loss: 0.9693 - accuracy: 0.5768 - val_loss: 1.0617 - val_accuracy: 0.5287\n",
      "\n",
      "Epoch 00040: val_loss did not improve from 1.05871\n",
      "Epoch 41/200\n",
      "182/182 [==============================] - 52s 287ms/step - loss: 0.9607 - accuracy: 0.5867 - val_loss: 1.0584 - val_accuracy: 0.5236\n",
      "\n",
      "Epoch 00041: val_loss improved from 1.05871 to 1.05839, saving model to ../nlp models/distilbert_4_classes/distilbert_4_classes\n",
      "Epoch 42/200\n",
      "182/182 [==============================] - 52s 287ms/step - loss: 0.9535 - accuracy: 0.5852 - val_loss: 1.0595 - val_accuracy: 0.5285\n",
      "\n",
      "Epoch 00042: val_loss did not improve from 1.05839\n",
      "Epoch 43/200\n",
      "182/182 [==============================] - 52s 287ms/step - loss: 0.9514 - accuracy: 0.5842 - val_loss: 1.0638 - val_accuracy: 0.5228\n",
      "\n",
      "Epoch 00043: val_loss did not improve from 1.05839\n",
      "Epoch 44/200\n",
      "182/182 [==============================] - 52s 287ms/step - loss: 0.9476 - accuracy: 0.5908 - val_loss: 1.0613 - val_accuracy: 0.5153\n",
      "\n",
      "Epoch 00044: val_loss did not improve from 1.05839\n",
      "Epoch 45/200\n",
      "182/182 [==============================] - 52s 287ms/step - loss: 0.9429 - accuracy: 0.5915 - val_loss: 1.0629 - val_accuracy: 0.5186\n",
      "\n",
      "Epoch 00045: val_loss did not improve from 1.05839\n",
      "Epoch 46/200\n",
      "182/182 [==============================] - 52s 287ms/step - loss: 0.9418 - accuracy: 0.5878 - val_loss: 1.0632 - val_accuracy: 0.5218\n",
      "\n",
      "Epoch 00046: val_loss did not improve from 1.05839\n"
     ]
    }
   ],
   "source": [
    "x_train_tok = tokenize(x_train_pp, tok)\n",
    "x_val_tok = tokenize(x_val_pp, tok)\n",
    "\n",
    "lb = LabelBinarizer()\n",
    "y_train_b = lb.fit_transform(y_train)\n",
    "y_val_b = lb.transform(y_val)\n",
    "\n",
    "batch_size = 64\n",
    "n_epochs = 200\n",
    "\n",
    "model.compile(loss=\"categorical_crossentropy\", \n",
    "              optimizer=Adam(learning_rate=0.00005), \n",
    "              metrics=[\"accuracy\"])\n",
    "\n",
    "metric = \"val_loss\"\n",
    "\n",
    "es = EarlyStopping(monitor=metric, \n",
    "                   mode=\"min\", \n",
    "                   patience=5, \n",
    "                   restore_best_weights=True)\n",
    "\n",
    "checkpoint = ModelCheckpoint(os.path.join(p_dir, \"{}\".format(m_name)), \n",
    "                             monitor=metric, \n",
    "                             verbose=2, \n",
    "                             save_best_only=True, \n",
    "                             save_weights_only=True, \n",
    "                             mode='min')\n",
    "\n",
    "hist = model.fit(x_train_tok[:2], y_train_b, \n",
    "                 validation_data=(x_val_tok[:2], y_val_b), \n",
    "                 batch_size=batch_size, \n",
    "                 epochs=n_epochs, \n",
    "                 callbacks=[checkpoint, es])"
   ]
  },
  {
   "cell_type": "code",
   "execution_count": 49,
   "id": "f056c121-ecf4-4536-b16c-2f0f4b32a89f",
   "metadata": {},
   "outputs": [
    {
     "data": {
      "image/png": "[encoded data removed]",
      "text/plain": [
       "<Figure size 432x288 with 2 Axes>"
      ]
     },
     "metadata": {
      "needs_background": "light"
     },
     "output_type": "display_data"
    }
   ],
   "source": [
    "fig, axs = plt.subplots(1, 2)\n",
    "\n",
    "axs[0].plot(hist.history[\"accuracy\"])\n",
    "axs[0].plot(hist.history[\"val_accuracy\"])\n",
    "axs[0].set_title(\"model accuracy\")\n",
    "axs[0].set_ylabel(\"accuracy\")\n",
    "axs[0].set_xlabel(\"epoch\")\n",
    "axs[0].set_ylim(0, 1)\n",
    "axs[0].legend([\"train\", \"val\"], loc=\"upper left\")\n",
    "\n",
    "axs[1].plot(hist.history[\"loss\"])\n",
    "axs[1].plot(hist.history[\"val_loss\"])\n",
    "axs[1].set_title(\"model loss\")\n",
    "axs[1].set_ylabel(\"loss\")\n",
    "axs[1].set_xlabel(\"epoch\")\n",
    "# axs[1].set_ylim(0, 1)\n",
    "axs[1].legend([\"train\", \"val\"], loc=\"upper left\")\n",
    "\n",
    "plt.tight_layout()\n",
    "plt.show()\n",
    "fig.savefig(os.path.join(p_dir, \"accuracy_loss.jpg\"))"
   ]
  },
  {
   "cell_type": "markdown",
   "id": "04638fd6-8834-4268-8d97-5e0d3927c964",
   "metadata": {},
   "source": [
    "# Confusion matrix"
   ]
  },
  {
   "cell_type": "code",
   "execution_count": 50,
   "id": "24cab94a-5b2a-4045-a8d0-7443494029ef",
   "metadata": {},
   "outputs": [
    {
     "data": {
      "text/plain": [
       "<tensorflow.python.training.tracking.util.CheckpointLoadStatus at 0x7fa4cddc4850>"
      ]
     },
     "execution_count": 50,
     "metadata": {},
     "output_type": "execute_result"
    }
   ],
   "source": [
    "model.load_weights(os.path.join(p_dir, \"{}\".format(m_name)))"
   ]
  },
  {
   "cell_type": "markdown",
   "id": "5585bd0a-434e-4cfb-9d21-7ddfc7b0d1bc",
   "metadata": {},
   "source": [
    "## Validation data (in-sample)"
   ]
  },
  {
   "cell_type": "code",
   "execution_count": 124,
   "id": "87c23e5a-9b8c-4c6f-a5bf-c012b2fd80f9",
   "metadata": {},
   "outputs": [],
   "source": [
    "x_val_tok = tokenize(x_val_pp, tok)\n",
    "\n",
    "lb = LabelBinarizer()\n",
    "y_train_b = lb.fit_transform(y_train)\n",
    "y_val_b = lb.transform(y_val)\n",
    "\n",
    "y_val_prob = model.predict(x_val_tok[:2], steps=y_val_b.shape[0])\n",
    "y_pred = np.argmax(y_val_prob, axis=1)\n",
    "cls_lbl = {c[0]: c[1] for c in list(zip(lb.classes_, range(4)))}\n",
    "cls_lbl = dict([(v, k) for k, v in cls_lbl.items()])\n",
    "y_pred = pd.Series([cls_lbl[i] for i in y_pred]).astype(\"category\").cat.reorder_categories(cat_lbl)"
   ]
  },
  {
   "cell_type": "code",
   "execution_count": 127,
   "id": "d834c47c-0740-4157-9637-ee5bf92ad160",
   "metadata": {},
   "outputs": [
    {
     "data": {
      "image/png": "[encoded data removed]",
      "text/plain": [
       "<Figure size 432x288 with 2 Axes>"
      ]
     },
     "metadata": {
      "needs_background": "light"
     },
     "output_type": "display_data"
    },
    {
     "name": "stdout",
     "output_type": "stream",
     "text": [
      "Accuracy: 0.52\n",
      "Micro precision: 0.52\n",
      "Micro recall: 0.52\n",
      "Micro F1-score: 0.52\n",
      "Macro precision: 0.52\n",
      "Macro recall: 0.52\n",
      "Macro F1-score: 0.52\n",
      "Weighted precision: 0.52\n",
      "Weighted recall: 0.52\n",
      "Weighted F1-score: 0.52\n",
      "              precision    recall  f1-score   support\n",
      "\n",
      "    very low       0.41      0.34      0.37       970\n",
      "         low       0.43      0.43      0.43       931\n",
      "        high       0.51      0.58      0.54       987\n",
      "   very high       0.71      0.75      0.73       974\n",
      "\n",
      "    accuracy                           0.52      3862\n",
      "   macro avg       0.52      0.52      0.52      3862\n",
      "weighted avg       0.52      0.52      0.52      3862\n",
      "\n"
     ]
    }
   ],
   "source": [
    "cmtx = confusion_matrix(y_val, y_pred)\n",
    "sb.heatmap(cmtx, annot=True, fmt=\"d\", xticklabels=cat_lbl, yticklabels=cat_lbl)\n",
    "plt.xlabel(\"True class\")\n",
    "plt.ylabel(\"Predicted class\")\n",
    "plt.title(\"Confusion matrix - validation set\")\n",
    "plt.savefig(os.path.join(p_dir, \"confusion_matrix_val.jpg\"))\n",
    "plt.show()\n",
    "\n",
    "print(\"Accuracy: {:0.2f}\".format(accuracy_score(y_val, y_pred)))\n",
    "\n",
    "print(\"Micro precision: {:0.2f}\".format(precision_score(y_val, y_pred, average=\"micro\")))\n",
    "print(\"Micro recall: {:0.2f}\".format(recall_score(y_val, y_pred, average=\"micro\")))\n",
    "print(\"Micro F1-score: {:0.2f}\".format(f1_score(y_val, y_pred, average=\"micro\")))\n",
    "\n",
    "print(\"Macro precision: {:0.2f}\".format(precision_score(y_val, y_pred, average=\"macro\")))\n",
    "print(\"Macro recall: {:0.2f}\".format(recall_score(y_val, y_pred, average=\"macro\")))\n",
    "print(\"Macro F1-score: {:0.2f}\".format(f1_score(y_val, y_pred, average=\"macro\")))\n",
    "\n",
    "print(\"Weighted precision: {:0.2f}\".format(precision_score(y_val, y_pred, average=\"weighted\")))\n",
    "print(\"Weighted recall: {:0.2f}\".format(recall_score(y_val, y_pred, average=\"weighted\")))\n",
    "print(\"Weighted F1-score: {:0.2f}\".format(f1_score(y_val, y_pred, average=\"weighted\")))\n",
    "\n",
    "print(classification_report(y_val, y_pred, target_names=cat_lbl))"
   ]
  },
  {
   "cell_type": "markdown",
   "id": "2e4a87f1-a331-4a71-881a-bd4bb10cb597",
   "metadata": {},
   "source": [
    "## Test data (out-of-sample)"
   ]
  },
  {
   "cell_type": "code",
   "execution_count": 129,
   "id": "c1dacdb7-718a-42ec-8766-56e8c585e183",
   "metadata": {},
   "outputs": [],
   "source": [
    "x_test_pp = preprocess_data(x_test)\n",
    "x_test_tok = tokenize(x_test_pp, tok)\n",
    "\n",
    "lb = LabelBinarizer()\n",
    "y_train_b = lb.fit_transform(y_train)\n",
    "y_test_b = lb.transform(y_test)\n",
    "\n",
    "y_test_prob = model.predict(x_test_tok[:2], steps=y_test_b.shape[0])\n",
    "y_pred = np.argmax(y_test_prob, axis=1)\n",
    "cls_lbl = {c[0]: c[1] for c in list(zip(lb.classes_, range(4)))}\n",
    "cls_lbl = dict([(v, k) for k, v in cls_lbl.items()])\n",
    "y_pred = pd.Series([cls_lbl[i] for i in y_pred]).astype(\"category\").cat.reorder_categories(cat_lbl)"
   ]
  },
  {
   "cell_type": "code",
   "execution_count": 130,
   "id": "f1f67bd3-f713-4df2-b854-de636859fd2d",
   "metadata": {},
   "outputs": [
    {
     "data": {
      "image/png": "[encoded data removed]",
      "text/plain": [
       "<Figure size 432x288 with 2 Axes>"
      ]
     },
     "metadata": {
      "needs_background": "light"
     },
     "output_type": "display_data"
    },
    {
     "name": "stdout",
     "output_type": "stream",
     "text": [
      "Accuracy: 0.53\n",
      "Micro precision: 0.53\n",
      "Micro recall: 0.53\n",
      "Micro F1-score: 0.53\n",
      "Macro precision: 0.53\n",
      "Macro recall: 0.53\n",
      "Macro F1-score: 0.53\n",
      "Weighted precision: 0.53\n",
      "Weighted recall: 0.53\n",
      "Weighted F1-score: 0.53\n",
      "              precision    recall  f1-score   support\n",
      "\n",
      "    very low       0.46      0.38      0.42       973\n",
      "         low       0.42      0.42      0.42       964\n",
      "        high       0.52      0.59      0.55       937\n",
      "   very high       0.72      0.74      0.73       989\n",
      "\n",
      "    accuracy                           0.53      3863\n",
      "   macro avg       0.53      0.53      0.53      3863\n",
      "weighted avg       0.53      0.53      0.53      3863\n",
      "\n"
     ]
    }
   ],
   "source": [
    "cmtx = confusion_matrix(y_test, y_pred)\n",
    "sb.heatmap(cmtx, annot=True, fmt=\"d\", xticklabels=cat_lbl, yticklabels=cat_lbl)\n",
    "plt.xlabel(\"True class\")\n",
    "plt.ylabel(\"Predicted class\")\n",
    "plt.title(\"Confusion matrix - test set\")\n",
    "plt.savefig(os.path.join(p_dir, \"confusion_matrix_test.jpg\"))\n",
    "plt.show()\n",
    "\n",
    "print(\"Accuracy: {:0.2f}\".format(accuracy_score(y_test, y_pred)))\n",
    "\n",
    "print(\"Micro precision: {:0.2f}\".format(precision_score(y_test, y_pred, average=\"micro\")))\n",
    "print(\"Micro recall: {:0.2f}\".format(recall_score(y_test, y_pred, average=\"micro\")))\n",
    "print(\"Micro F1-score: {:0.2f}\".format(f1_score(y_test, y_pred, average=\"micro\")))\n",
    "\n",
    "print(\"Macro precision: {:0.2f}\".format(precision_score(y_test, y_pred, average=\"macro\")))\n",
    "print(\"Macro recall: {:0.2f}\".format(recall_score(y_test, y_pred, average=\"macro\")))\n",
    "print(\"Macro F1-score: {:0.2f}\".format(f1_score(y_test, y_pred, average=\"macro\")))\n",
    "\n",
    "print(\"Weighted precision: {:0.2f}\".format(precision_score(y_test, y_pred, average=\"weighted\")))\n",
    "print(\"Weighted recall: {:0.2f}\".format(recall_score(y_test, y_pred, average=\"weighted\")))\n",
    "print(\"Weighted F1-score: {:0.2f}\".format(f1_score(y_test, y_pred, average=\"weighted\")))\n",
    "\n",
    "print(classification_report(y_test, y_pred, target_names=cat_lbl))"
   ]
  },
  {
   "cell_type": "markdown",
   "id": "852a6459-bae4-460f-bb5a-52cc2a3a9f1b",
   "metadata": {},
   "source": [
    "# ROC curve"
   ]
  },
  {
   "cell_type": "markdown",
   "id": "1d75cd51-fb94-4531-9fd6-b0d3d9896e9c",
   "metadata": {},
   "source": [
    "## Validation data (in-sample)"
   ]
  },
  {
   "cell_type": "code",
   "execution_count": 131,
   "id": "cce1f1f7-8f9a-4313-902a-ff27473c352b",
   "metadata": {},
   "outputs": [],
   "source": [
    "lb = LabelBinarizer()\n",
    "y_val_no = lb.fit_transform(y_val)\n",
    "y_pred_no = y_val_prob"
   ]
  },
  {
   "cell_type": "code",
   "execution_count": 132,
   "id": "eca32599-b6ad-46cd-85b5-a4ae462136ac",
   "metadata": {},
   "outputs": [],
   "source": [
    "def roc_curve_multiple_classes(y_test, y_pred, labelbinarizer, title, file_path):\n",
    "    n_classes = len(y_test[0])\n",
    "    lw = 2\n",
    "    lbl = lb.classes_\n",
    "    \n",
    "    fpr = dict()\n",
    "    tpr = dict()\n",
    "    roc_auc = dict()\n",
    "    for i in range(n_classes):\n",
    "        fpr[i], tpr[i], _ = roc_curve(y_test[:, i], y_pred[:, i])\n",
    "        roc_auc[i] = auc(fpr[i], tpr[i])\n",
    "    \n",
    "    fpr[\"micro\"], tpr[\"micro\"], _ = roc_curve(y_test.ravel(), y_pred.ravel())\n",
    "    roc_auc[\"micro\"] = auc(fpr[\"micro\"], tpr[\"micro\"])\n",
    "    \n",
    "    all_fpr = np.unique(np.concatenate([fpr[i] for i in range(n_classes)]))\n",
    "    \n",
    "    mean_tpr = np.zeros_like(all_fpr)\n",
    "    for i in range(n_classes):\n",
    "        mean_tpr += np.interp(all_fpr, fpr[i], tpr[i])\n",
    "        \n",
    "    mean_tpr /= n_classes\n",
    "    \n",
    "    fpr[\"macro\"] = all_fpr\n",
    "    tpr[\"macro\"] = mean_tpr\n",
    "    roc_auc[\"macro\"] = auc(fpr[\"macro\"], tpr[\"macro\"])\n",
    "    \n",
    "    plt.figure(1)\n",
    "    plt.plot(fpr[\"micro\"], tpr[\"micro\"],\n",
    "             label='micro-average ROC curve (area = {0:0.2f})'\n",
    "                   ''.format(roc_auc[\"micro\"]),\n",
    "             color='deeppink', linestyle=':', linewidth=4)\n",
    "\n",
    "    plt.plot(fpr[\"macro\"], tpr[\"macro\"],\n",
    "             label='macro-average ROC curve (area = {0:0.2f})'\n",
    "                   ''.format(roc_auc[\"macro\"]),\n",
    "             color='navy', linestyle=':', linewidth=4)\n",
    "\n",
    "    colors = cycle([\"blue\", \"red\", \"green\", \"yellow\"])\n",
    "    for i, color in zip(range(n_classes), colors):\n",
    "        plt.plot(fpr[i], tpr[i], color=color, lw=lw,\n",
    "                 label='ROC curve of class {0} (area = {1:0.2f})'\n",
    "                 ''.format(lbl[i], roc_auc[i]))\n",
    "\n",
    "    plt.plot([0, 1], [0, 1], 'k--', lw=lw)\n",
    "    plt.xlim([0.0, 1.0])\n",
    "    plt.ylim([0.0, 1.05])\n",
    "    plt.xlabel('False Positive Rate')\n",
    "    plt.ylabel('True Positive Rate')\n",
    "    plt.title(title)\n",
    "    plt.legend(loc=\"lower right\")\n",
    "    plt.savefig(file_path)\n",
    "    plt.show()"
   ]
  },
  {
   "cell_type": "code",
   "execution_count": 133,
   "id": "cbc6d5ed-73f3-47bd-9ac4-369b205bb814",
   "metadata": {},
   "outputs": [
    {
     "data": {
      "image/png": "[encoded data removed]",
      "text/plain": [
       "<Figure size 432x288 with 1 Axes>"
      ]
     },
     "metadata": {
      "needs_background": "light"
     },
     "output_type": "display_data"
    }
   ],
   "source": [
    "roc_curve_multiple_classes(y_val_no, y_pred_no, lb, \"ROC curve - validation data\", os.path.join(p_dir, \"roc_curve_val.jpg\"))"
   ]
  },
  {
   "cell_type": "markdown",
   "id": "ae0e447d-fd56-4c32-8d47-231f202db118",
   "metadata": {},
   "source": [
    "## Test data (out-of-sample)"
   ]
  },
  {
   "cell_type": "code",
   "execution_count": 134,
   "id": "4f62beba-ebe9-4d45-8753-e881c49a0aef",
   "metadata": {},
   "outputs": [],
   "source": [
    "lb = LabelBinarizer()\n",
    "y_test_no = lb.fit_transform(y_test)\n",
    "y_pred_no = y_test_prob"
   ]
  },
  {
   "cell_type": "code",
   "execution_count": 135,
   "id": "039d9470-bfbc-4df4-a60d-6f6d1325ec01",
   "metadata": {},
   "outputs": [
    {
     "data": {
      "image/png": "[encoded data removed]",
      "text/plain": [
       "<Figure size 432x288 with 1 Axes>"
      ]
     },
     "metadata": {
      "needs_background": "light"
     },
     "output_type": "display_data"
    }
   ],
   "source": [
    "roc_curve_multiple_classes(y_test_no, y_pred_no, lb, \"ROC curve - test data\", os.path.join(p_dir, \"roc_curve.jpg\"))"
   ]
  },
  {
   "cell_type": "markdown",
   "id": "95a8d51f-560b-4773-8116-f428ca926aa6",
   "metadata": {},
   "source": [
    "# Class probability histograms"
   ]
  },
  {
   "cell_type": "markdown",
   "id": "53444416-298a-4a7b-bc39-03ed51c4da29",
   "metadata": {},
   "source": [
    "## Without middle classes"
   ]
  },
  {
   "cell_type": "code",
   "execution_count": 93,
   "id": "95d280f8-0d82-4149-87c0-1edfbd58c920",
   "metadata": {},
   "outputs": [
    {
     "data": {
      "image/png": "[encoded data removed]",
      "text/plain": [
       "<Figure size 432x288 with 1 Axes>"
      ]
     },
     "metadata": {
      "needs_background": "light"
     },
     "output_type": "display_data"
    }
   ],
   "source": [
    "m0 = y_test_no[:, 0] == 0\n",
    "c0 = y_test_prob[m0, 1]\n",
    "m1 = y_test_no[:, 0] == 1\n",
    "c1 = y_test_prob[m1, 1]\n",
    "\n",
    "plt.hist(c0, alpha=0.3, bins=20)\n",
    "plt.hist(c1, color=\"red\", alpha=0.3, bins=20)\n",
    "plt.title(\"Histogram\")\n",
    "plt.legend(cat_lbl)\n",
    "plt.savefig(os.path.join(p_dir, \"histogram.jpg\"))\n",
    "plt.show()"
   ]
  },
  {
   "cell_type": "markdown",
   "id": "ae3a2f57-bf01-471f-9f1f-8b4651028268",
   "metadata": {},
   "source": [
    "## Including middle classes"
   ]
  },
  {
   "cell_type": "code",
   "execution_count": 33,
   "id": "749f796f-d8c8-4ff8-a2a3-184b0f712f84",
   "metadata": {},
   "outputs": [],
   "source": [
    "cat_lbl2 = [\"very low\", \"low\", \"high\", \"very high\"]\n",
    "combo2 = combo.copy()\n",
    "combo2.loc[:, \"qtl\"] = pd.qcut(combo.ln_vc_norm, len(cat_lbl2), labels=cat_lbl2, precision=6)"
   ]
  },
  {
   "cell_type": "code",
   "execution_count": 34,
   "id": "37dada31-61ec-4d14-b2a7-48b9bb437949",
   "metadata": {},
   "outputs": [
    {
     "name": "stdout",
     "output_type": "stream",
     "text": [
      "2896 966 966\n"
     ]
    }
   ],
   "source": [
    "combo2 = combo2.loc[combo2.qtl.isin([\"low\", \"high\"]), :]\n",
    "combo2.qtl = combo2.qtl.cat.remove_unused_categories()\n",
    "\n",
    "y2 = combo2.qtl\n",
    "x2 = combo2.loc[:, [c for c in combo2.columns if c != \"qtl\"]]\n",
    "\n",
    "x_train2, x_test2, y_train2, y_test2 = train_test_split(x2, y2, test_size=0.2, random_state=42)\n",
    "x_train2, x_val2, y_train2, y_val2 = train_test_split(x_train2, y_train2, test_size=0.25, random_state=4711)\n",
    "\n",
    "print(x_train2.shape[0], x_val2.shape[0], x_test2.shape[0])"
   ]
  },
  {
   "cell_type": "code",
   "execution_count": 35,
   "id": "ee827995-a47c-483f-bf0f-a59bb1d93f22",
   "metadata": {},
   "outputs": [],
   "source": [
    "x_test_pp2 = preprocess_data(x_test2)\n",
    "x_test_tok2 = tokenize(x_test_pp2, tok)\n",
    "\n",
    "lb = LabelBinarizer()\n",
    "y_train_b = lb.fit_transform(y_train)\n",
    "y_test_b2 = lb.transform(y_test2)\n",
    "\n",
    "y_pred_prob2 = model.predict(x_test_tok2[:2], steps=y_test_b2.shape[0])\n",
    "y_pred2 = np.argmax(y_pred_prob2, axis=1)\n",
    "y_pred2 = lb.inverse_transform(y_pred2)"
   ]
  },
  {
   "cell_type": "code",
   "execution_count": 36,
   "id": "912516cf-b152-4b77-8b68-05ebe52d7991",
   "metadata": {},
   "outputs": [
    {
     "data": {
      "image/png": "[encoded data removed]",
      "text/plain": [
       "<Figure size 432x288 with 1 Axes>"
      ]
     },
     "metadata": {
      "needs_background": "light"
     },
     "output_type": "display_data"
    }
   ],
   "source": [
    "m0 = y_test_no[:, 0] == 0\n",
    "c0 = y_test_prob[m0, 1]\n",
    "m1 = y_test_no[:, 0] == 1\n",
    "c1 = y_test_prob[m1, 1]\n",
    "\n",
    "m3 = y_test2 == \"low\"\n",
    "c2 = y_pred_prob2[m3, 0]\n",
    "\n",
    "m4 = y_test2 == \"high\"\n",
    "c3 = y_pred_prob2[m4, 0]\n",
    "\n",
    "plt.hist(c0, alpha=0.3, label=\"\", bins=20)\n",
    "plt.hist(c1, color=\"red\", alpha=0.3, label=\"\", bins=20)\n",
    "plt.hist(c2, color=\"green\", alpha=0.3, label=\"\", bins=20)\n",
    "plt.hist(c3, color=\"yellow\", alpha=0.3, label=\"\", bins=20)\n",
    "plt.title(\"Histogram incl. middle classes\")\n",
    "plt.legend(cat_lbl + [\"low\", \"high\"])\n",
    "plt.savefig(os.path.join(p_dir, \"histogram_w_medium.jpg\"))\n",
    "plt.show()"
   ]
  },
  {
   "cell_type": "markdown",
   "id": "5e6b6bec-779b-464a-9cef-4b5b6b38d0f8",
   "metadata": {},
   "source": [
    "# Sample titles"
   ]
  },
  {
   "cell_type": "markdown",
   "id": "027c03ef-f4c7-4267-95c9-e2c788171309",
   "metadata": {},
   "source": [
    "## Validation dataset"
   ]
  },
  {
   "cell_type": "code",
   "execution_count": 37,
   "id": "0ec6fdfa-b441-4718-a6ac-97b78a97cb8a",
   "metadata": {},
   "outputs": [
    {
     "name": "stdout",
     "output_type": "stream",
     "text": [
      "(2898, 4)\n"
     ]
    },
    {
     "data": {
      "text/html": [
       "<div>\n",
       "<style scoped>\n",
       "    .dataframe tbody tr th:only-of-type {\n",
       "        vertical-align: middle;\n",
       "    }\n",
       "\n",
       "    .dataframe tbody tr th {\n",
       "        vertical-align: top;\n",
       "    }\n",
       "\n",
       "    .dataframe thead th {\n",
       "        text-align: right;\n",
       "    }\n",
       "</style>\n",
       "<table border=\"1\" class=\"dataframe\">\n",
       "  <thead>\n",
       "    <tr style=\"text-align: right;\">\n",
       "      <th></th>\n",
       "      <th>title</th>\n",
       "      <th>channel_name</th>\n",
       "      <th>qtl</th>\n",
       "      <th>pred</th>\n",
       "    </tr>\n",
       "  </thead>\n",
       "  <tbody>\n",
       "    <tr>\n",
       "      <th>0</th>\n",
       "      <td>Why Do You Love Your Family?</td>\n",
       "      <td>It's Okay To Be Smart</td>\n",
       "      <td>high</td>\n",
       "      <td>very high</td>\n",
       "    </tr>\n",
       "    <tr>\n",
       "      <th>1</th>\n",
       "      <td>Artificial Intelligence Tutorial | Artificial ...</td>\n",
       "      <td>Simplilearn</td>\n",
       "      <td>high</td>\n",
       "      <td>very low</td>\n",
       "    </tr>\n",
       "    <tr>\n",
       "      <th>2</th>\n",
       "      <td>The Force - Sixty Symbols</td>\n",
       "      <td>Sixty Symbols</td>\n",
       "      <td>high</td>\n",
       "      <td>very high</td>\n",
       "    </tr>\n",
       "    <tr>\n",
       "      <th>3</th>\n",
       "      <td>Bamboo Engineering</td>\n",
       "      <td>Massachusetts Institute of Technology (MIT)</td>\n",
       "      <td>high</td>\n",
       "      <td>very low</td>\n",
       "    </tr>\n",
       "    <tr>\n",
       "      <th>4</th>\n",
       "      <td>HARP TWINS and more... -- BiDiPi #17</td>\n",
       "      <td>Vsauce2</td>\n",
       "      <td>high</td>\n",
       "      <td>very high</td>\n",
       "    </tr>\n",
       "  </tbody>\n",
       "</table>\n",
       "</div>"
      ],
      "text/plain": [
       "                                               title  \\\n",
       "0                       Why Do You Love Your Family?   \n",
       "1  Artificial Intelligence Tutorial | Artificial ...   \n",
       "2                          The Force - Sixty Symbols   \n",
       "3                                 Bamboo Engineering   \n",
       "4               HARP TWINS and more... -- BiDiPi #17   \n",
       "\n",
       "                                  channel_name   qtl       pred  \n",
       "0                        It's Okay To Be Smart  high  very high  \n",
       "1                                  Simplilearn  high   very low  \n",
       "2                                Sixty Symbols  high  very high  \n",
       "3  Massachusetts Institute of Technology (MIT)  high   very low  \n",
       "4                                      Vsauce2  high  very high  "
      ]
     },
     "execution_count": 37,
     "metadata": {},
     "output_type": "execute_result"
    }
   ],
   "source": [
    "x1 = x_test2[[\"title\", \"channel_name\"]]\n",
    "x2 = y_test2\n",
    "x3 = pd.Series(y_pred2, name=\"pred\")\n",
    "\n",
    "x4 = x_test[[\"title\", \"channel_name\"]]\n",
    "x5 = y_test\n",
    "x6 = pd.Series(y_pred, name=\"pred\")\n",
    "\n",
    "c1 = pd.concat([x1, x2], axis=1).reset_index(drop=True)\n",
    "c1 = pd.concat([c1, x3], axis=1)\n",
    "\n",
    "c2 = pd.concat([x4, x5], axis=1).reset_index(drop=True)\n",
    "c2 = pd.concat([c2, x6], axis=1)\n",
    "\n",
    "c3 = pd.concat([c1, c2])\n",
    "\n",
    "print(c3.shape)\n",
    "c3.head()"
   ]
  },
  {
   "cell_type": "code",
   "execution_count": 38,
   "id": "6dd52eee-cfbf-4f41-939a-fdc2e5a8a12c",
   "metadata": {},
   "outputs": [
    {
     "data": {
      "text/html": [
       "<div>\n",
       "<style scoped>\n",
       "    .dataframe tbody tr th:only-of-type {\n",
       "        vertical-align: middle;\n",
       "    }\n",
       "\n",
       "    .dataframe tbody tr th {\n",
       "        vertical-align: top;\n",
       "    }\n",
       "\n",
       "    .dataframe thead th {\n",
       "        text-align: right;\n",
       "    }\n",
       "</style>\n",
       "<table border=\"1\" class=\"dataframe\">\n",
       "  <thead>\n",
       "    <tr style=\"text-align: right;\">\n",
       "      <th></th>\n",
       "      <th></th>\n",
       "      <th>title</th>\n",
       "      <th>pred</th>\n",
       "    </tr>\n",
       "  </thead>\n",
       "  <tbody>\n",
       "    <tr>\n",
       "      <th rowspan=\"5\" valign=\"top\">0</th>\n",
       "      <th>1782</th>\n",
       "      <td>The Halifax Explosion - Sixty Symbols</td>\n",
       "      <td>very high</td>\n",
       "    </tr>\n",
       "    <tr>\n",
       "      <th>1409</th>\n",
       "      <td>Is Zero Even? - Numberphile</td>\n",
       "      <td>very high</td>\n",
       "    </tr>\n",
       "    <tr>\n",
       "      <th>1503</th>\n",
       "      <td>History vs. Genghis Khan - Alex Gendler</td>\n",
       "      <td>very high</td>\n",
       "    </tr>\n",
       "    <tr>\n",
       "      <th>1295</th>\n",
       "      <td>A Game You Can Always Win</td>\n",
       "      <td>very high</td>\n",
       "    </tr>\n",
       "    <tr>\n",
       "      <th>1806</th>\n",
       "      <td>Can you solve the $20 riddle? ft SMBC Comics' ...</td>\n",
       "      <td>very high</td>\n",
       "    </tr>\n",
       "    <tr>\n",
       "      <th rowspan=\"5\" valign=\"top\">1</th>\n",
       "      <th>165</th>\n",
       "      <td>The most significant genius: Emmy Noether</td>\n",
       "      <td>very low</td>\n",
       "    </tr>\n",
       "    <tr>\n",
       "      <th>1476</th>\n",
       "      <td>What is Layer 2 Security? | What is Port Secur...</td>\n",
       "      <td>very low</td>\n",
       "    </tr>\n",
       "    <tr>\n",
       "      <th>980</th>\n",
       "      <td>What Is Audit | CompTIA Cloud+ Training | Simp...</td>\n",
       "      <td>very low</td>\n",
       "    </tr>\n",
       "    <tr>\n",
       "      <th>434</th>\n",
       "      <td>Big Data Use Cases | Big Data in Publishing - ...</td>\n",
       "      <td>very low</td>\n",
       "    </tr>\n",
       "    <tr>\n",
       "      <th>1375</th>\n",
       "      <td>Loops In JavaScript | JavaScript Loops Example...</td>\n",
       "      <td>very low</td>\n",
       "    </tr>\n",
       "  </tbody>\n",
       "</table>\n",
       "</div>"
      ],
      "text/plain": [
       "                                                    title       pred\n",
       "0 1782              The Halifax Explosion - Sixty Symbols  very high\n",
       "  1409                        Is Zero Even? - Numberphile  very high\n",
       "  1503            History vs. Genghis Khan - Alex Gendler  very high\n",
       "  1295                          A Game You Can Always Win  very high\n",
       "  1806  Can you solve the $20 riddle? ft SMBC Comics' ...  very high\n",
       "1 165           The most significant genius: Emmy Noether   very low\n",
       "  1476  What is Layer 2 Security? | What is Port Secur...   very low\n",
       "  980   What Is Audit | CompTIA Cloud+ Training | Simp...   very low\n",
       "  434   Big Data Use Cases | Big Data in Publishing - ...   very low\n",
       "  1375  Loops In JavaScript | JavaScript Loops Example...   very low"
      ]
     },
     "execution_count": 38,
     "metadata": {},
     "output_type": "execute_result"
    }
   ],
   "source": [
    "g = c3.loc[c3[\"qtl\"].isin([\"very high\", \"very low\"]), :].groupby(\"pred\", as_index=False).apply(lambda x: x.sample(5, random_state=256))\n",
    "# g = g.loc[g[\"qtl\"].isin([\"very low\"]), \"title\"]\n",
    "g[[\"title\", \"pred\"]].head(10)"
   ]
  },
  {
   "cell_type": "code",
   "execution_count": 41,
   "id": "7d8959da-ccb3-409c-be71-b7c770ddc187",
   "metadata": {},
   "outputs": [],
   "source": [
    "g.to_csv(os.path.join(p_dir, \"titles.csv\"), index=False)"
   ]
  }
 ],
 "metadata": {
  "environment": {
   "name": "tf2-gpu.2-6.m80",
   "type": "gcloud",
   "uri": "gcr.io/deeplearning-platform-release/tf2-gpu.2-6:m80"
  },
  "kernelspec": {
   "display_name": "Python 3",
   "language": "python",
   "name": "python3"
  },
  "language_info": {
   "codemirror_mode": {
    "name": "ipython",
    "version": 3
   },
   "file_extension": ".py",
   "mimetype": "text/x-python",
   "name": "python",
   "nbconvert_exporter": "python",
   "pygments_lexer": "ipython3",
   "version": "3.7.10"
  }
 },
 "nbformat": 4,
 "nbformat_minor": 5
}
