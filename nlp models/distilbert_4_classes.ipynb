{
 "cells": [
  {
   "cell_type": "code",
   "execution_count": 9,
   "id": "3469ff78-2149-41a4-93ac-a90a5d6fafcd",
   "metadata": {},
   "outputs": [],
   "source": [
    "import os\n",
    "import pandas as pd\n",
    "import numpy as np\n",
    "from shutil import rmtree, copyfile\n",
    "import matplotlib.pyplot as plt\n",
    "from sklearn.model_selection import train_test_split\n",
    "from transformers import DistilBertTokenizer, TFDistilBertModel, DistilBertConfig\n",
    "from bs4 import BeautifulSoup\n",
    "from nltk.corpus import stopwords\n",
    "import nltk\n",
    "from sklearn.preprocessing import LabelBinarizer\n",
    "from tensorflow.keras.optimizers.schedules import PolynomialDecay\n",
    "from tensorflow.keras.optimizers import Adam\n",
    "from keras import Model\n",
    "from keras.layers import Input, Bidirectional, GlobalMaxPool1D, Dense, Dropout, LSTM, Flatten\n",
    "from keras.callbacks import EarlyStopping, ModelCheckpoint\n",
    "from sklearn.metrics import confusion_matrix, accuracy_score, precision_score, recall_score, f1_score, classification_report, roc_curve, auc, average_precision_score\n",
    "import seaborn as sb\n",
    "from tensorflow.keras.utils import to_categorical\n",
    "from itertools import cycle"
   ]
  },
  {
   "cell_type": "markdown",
   "id": "b86c9237-e43a-4a35-b929-877958c81f2a",
   "metadata": {},
   "source": [
    "# Project variables"
   ]
  },
  {
   "cell_type": "code",
   "execution_count": 10,
   "id": "85cd8d0d-2841-4449-ad43-f1bc7a572822",
   "metadata": {},
   "outputs": [],
   "source": [
    "m_name = \"distilbert_4_classes\"\n",
    "p_dir = os.path.join(\"../nlp models\", m_name)"
   ]
  },
  {
   "cell_type": "code",
   "execution_count": 11,
   "id": "36ad907c-35b5-4f75-92ed-26f7825150b8",
   "metadata": {},
   "outputs": [],
   "source": [
    "def create_dir(dir_path: str):\n",
    "    if not os.path.exists(dir_path):\n",
    "        os.mkdir(dir_path)"
   ]
  },
  {
   "cell_type": "code",
   "execution_count": 12,
   "id": "649c998a-1e01-4e75-bf29-baad4a10ac5b",
   "metadata": {},
   "outputs": [],
   "source": [
    "def clear_dir(dir_path: str):\n",
    "    for item in os.listdir(dir_path):\n",
    "        fp = os.path.join(dir_path, item)\n",
    "        if os.path.isfile(fp):\n",
    "            os.remove(fp)\n",
    "        if os.path.isdir(fp):\n",
    "            rmtree(fp)"
   ]
  },
  {
   "cell_type": "code",
   "execution_count": 13,
   "id": "e5f916ce-e5a8-4c77-baeb-64511b0937e6",
   "metadata": {},
   "outputs": [],
   "source": [
    "create_dir(p_dir)\n",
    "clear_dir(p_dir)"
   ]
  },
  {
   "cell_type": "markdown",
   "id": "ae50c8ba-6b4d-438a-96ed-e7667b87d297",
   "metadata": {},
   "source": [
    "# Read and transform scraped dataframes"
   ]
  },
  {
   "cell_type": "code",
   "execution_count": 14,
   "id": "5c51e71a-9184-4302-b55a-60f283442bd3",
   "metadata": {},
   "outputs": [],
   "source": [
    "fp = \"../scraped data\"\n",
    "\n",
    "channels = pd.read_pickle(os.path.join(fp, \"channels.pkl\"))\n",
    "videos = pd.read_pickle(os.path.join(fp, \"videos.pkl\"))"
   ]
  },
  {
   "cell_type": "code",
   "execution_count": 15,
   "id": "8e7ca9f1-6de6-4e8e-9be5-392ced4a0735",
   "metadata": {},
   "outputs": [],
   "source": [
    "def transform_channels(df: pd.DataFrame) -> pd.DataFrame:\n",
    "    # Date string into proper date\n",
    "    df.published = pd.to_datetime(df.published)\n",
    "    \n",
    "    # Convert field type into int64\n",
    "    fields = [\"video_count\", \"view_count\"]\n",
    "    df.loc[:, fields] = df.loc[:, fields].astype(\"int64\")\n",
    "    \n",
    "    # Convert field type into float64\n",
    "    fields = [\"subscriber_count\"]\n",
    "    df.loc[:, fields] = df.loc[:, fields].astype(\"float64\")\n",
    "    \n",
    "    # Add of channel in months\n",
    "    df[\"age_mth\"] = (pd.to_datetime(\"today\", utc=True).year - df.published.dt.year) * 12 \\\n",
    "        + (pd.to_datetime(\"today\", utc=True).month - df.published.dt.month)\n",
    "        \n",
    "    # Drop unnecessary fields\n",
    "    df.drop(columns=[\"custom_url\", \"country\"] + [c for c in df.columns if c.startswith(\"thumbnail\")], inplace=True)\n",
    "    \n",
    "    # Remove channels without subscriber_count\n",
    "    df = df.loc[df.subscriber_count.notnull(), :]\n",
    "    \n",
    "    return df"
   ]
  },
  {
   "cell_type": "code",
   "execution_count": 16,
   "id": "5f1195b7-0e97-4a76-aeee-ca10dec06a6c",
   "metadata": {},
   "outputs": [],
   "source": [
    "def transform_videos(df: pd.DataFrame) -> pd.DataFrame:    \n",
    "    # Date string into proper date\n",
    "    df.published = pd.to_datetime(df.published)\n",
    "    \n",
    "    # Convert field type to bool\n",
    "    fields = [\"broadcast\"]\n",
    "    df.loc[:, fields] = df.loc[:, fields].astype(\"bool\")\n",
    "    \n",
    "    # Convert field type into int64\n",
    "    fields = [\"category_id\"]\n",
    "    df.loc[:, fields] = df.loc[:, fields].astype(\"int64\")\n",
    "    \n",
    "    # Convert field type into float64\n",
    "    fields = [\"comment_count\", \"dislike_count\", \"like_count\", \"view_count\"]\n",
    "    df.loc[:, fields] = df.loc[:, fields].astype(\"float64\")\n",
    "    \n",
    "    df[\"published_mth\"] = (pd.to_datetime(\"today\", utc=True).year - df.published.dt.year) * 12 \\\n",
    "        + (pd.to_datetime(\"today\", utc=True).month - df.published.dt.month)\n",
    "    df[\"title_len\"] = df.title.str.len()\n",
    "    \n",
    "    df.drop(columns=[\"favorite_count\", \"broadcast\", \"audio_language\", \"comment_count\", \"category_id\"] \\\n",
    "            + [c for c in df.columns if c.startswith(\"thumbnail\")], inplace=True)\n",
    "    \n",
    "    df = df.loc[df.like_count.notnull() & df.dislike_count.notnull() & df.view_count.notnull(), :]\n",
    "    \n",
    "    return df"
   ]
  },
  {
   "cell_type": "code",
   "execution_count": 17,
   "id": "1b4f699f-8c3d-442c-911e-d0533284cab2",
   "metadata": {},
   "outputs": [],
   "source": [
    "channels_trans = transform_channels(channels)\n",
    "videos_trans = transform_videos(videos)\n",
    "combo = videos_trans.merge(channels_trans[[\"id\", \"view_count\",\"published\", \"age_mth\", \"subscriber_count\",\n",
    "                                             \"video_count\"]], \n",
    "                           how=\"inner\", left_on=\"channel_id\", right_on=\"id\", suffixes=[\"_video\", \"_channel\"])\n",
    "combo[\"ln_vc_norm\"] = np.log(combo.view_count_video / combo.subscriber_count)"
   ]
  },
  {
   "cell_type": "markdown",
   "id": "365ff4b0-c209-4dfa-9018-d0579a0a2640",
   "metadata": {},
   "source": [
    "# Define categories"
   ]
  },
  {
   "cell_type": "code",
   "execution_count": 18,
   "id": "c529e2b9-834d-4602-8d3e-e2ac89ed0cfe",
   "metadata": {},
   "outputs": [
    {
     "data": {
      "image/png": "[encoded data removed]",
      "text/plain": [
       "<Figure size 432x288 with 1 Axes>"
      ]
     },
     "metadata": {
      "needs_background": "light"
     },
     "output_type": "display_data"
    }
   ],
   "source": [
    "cat_lbl = [\"very low\", \"low\", \"high\", \"very high\"]\n",
    "combo.loc[:, \"qtl\"] = pd.qcut(combo.ln_vc_norm, len(cat_lbl), labels=cat_lbl, precision=6)\n",
    "combo.sort_values(by=[\"qtl\"]).qtl.hist()\n",
    "plt.title(\"Counts of classes\")\n",
    "plt.show()"
   ]
  },
  {
   "cell_type": "markdown",
   "id": "5383e2e6-6ecc-49d1-81aa-25ddf61b62b4",
   "metadata": {},
   "source": [
    "# Split dataset (use only top and bottom quartile data)"
   ]
  },
  {
   "cell_type": "code",
   "execution_count": 19,
   "id": "1b00fc34-0dd4-48d4-8bc3-2dfe636c59f0",
   "metadata": {},
   "outputs": [
    {
     "name": "stdout",
     "output_type": "stream",
     "text": [
      "11586 3862 3863\n"
     ]
    }
   ],
   "source": [
    "y = combo.qtl\n",
    "x = combo.loc[:, [c for c in combo.columns if c != \"qtl\"]]\n",
    "\n",
    "x_train, x_test, y_train, y_test = train_test_split(x, y, test_size=0.2, random_state=42)\n",
    "x_train, x_val, y_train, y_val = train_test_split(x_train, y_train, test_size=0.25, random_state=4711)\n",
    "\n",
    "x_train.to_pickle(os.path.join(p_dir, \"x_train.pkl\"))\n",
    "y_train.to_pickle(os.path.join(p_dir, \"y_train.pkl\"))\n",
    "x_val.to_pickle(os.path.join(p_dir,\"x_val.pkl\"))\n",
    "y_val.to_pickle(os.path.join(p_dir, \"y_val.pkl\"))\n",
    "x_test.to_pickle(os.path.join(p_dir,\"x_test.pkl\"))\n",
    "y_test.to_pickle(os.path.join(p_dir, \"y_test.pkl\"))\n",
    "\n",
    "print(x_train.shape[0], x_val.shape[0], x_test.shape[0])"
   ]
  },
  {
   "cell_type": "markdown",
   "id": "195fe01f-817f-4c30-bb51-5cdfe40bebc0",
   "metadata": {},
   "source": [
    "# Build the model"
   ]
  },
  {
   "cell_type": "code",
   "execution_count": 20,
   "id": "902eff8b-3ad5-45e0-b9a3-1625a8e994d6",
   "metadata": {},
   "outputs": [],
   "source": [
    "def preprocessing(df: pd.DataFrame, remove_stopwords: bool=False) -> pd.DataFrame:\n",
    "    field = \"title\"\n",
    "    stw = set(stopwords.words(\"english\"))\n",
    "    \n",
    "    def cleanse_row(row, field, stw, stopwords=False):\n",
    "        # Remove HTML from text\n",
    "        soup = BeautifulSoup(row[field])\n",
    "        row[field] = soup.get_text()\n",
    "        \n",
    "        # Remove stopwords\n",
    "        if stopwords:\n",
    "            row[field] = \" \".join([w for w in row[field].split() if w not in stw])\n",
    "        \n",
    "        return row\n",
    "    \n",
    "    df = df.apply(lambda row: cleanse_row(row, field, stw, remove_stopwords), axis=1)\n",
    "    return df[\"title\"]"
   ]
  },
  {
   "cell_type": "code",
   "execution_count": 21,
   "id": "ab3c65b7-b46e-45f6-a5d4-c224017f46ad",
   "metadata": {},
   "outputs": [
    {
     "name": "stderr",
     "output_type": "stream",
     "text": [
      "[nltk_data] Downloading package stopwords to\n",
      "[nltk_data]     /home/jupyter/nltk_data...\n",
      "[nltk_data]   Package stopwords is already up-to-date!\n"
     ]
    },
    {
     "data": {
      "text/plain": [
       "True"
      ]
     },
     "execution_count": 21,
     "metadata": {},
     "output_type": "execute_result"
    }
   ],
   "source": [
    "# Download the stopwork corpus\n",
    "nltk.download('stopwords')"
   ]
  },
  {
   "cell_type": "code",
   "execution_count": 22,
   "id": "09f0605a-39e5-4b24-a655-4d2e663f91a6",
   "metadata": {},
   "outputs": [],
   "source": [
    "remove_stopwords = False\n",
    "\n",
    "def preprocess_data(x: pd.DataFrame, remove_stopwords: bool=False) -> list():\n",
    "    x_pp = preprocessing(x, remove_stopwords)\n",
    "    x_pp = x_pp.tolist()\n",
    "    return x_pp"
   ]
  },
  {
   "cell_type": "code",
   "execution_count": 23,
   "id": "c3095d20-48e6-4af6-918a-17a2d5d9a321",
   "metadata": {},
   "outputs": [],
   "source": [
    "x_train_pp = preprocess_data(x_train)\n",
    "x_val_pp = preprocess_data(x_val)"
   ]
  },
  {
   "cell_type": "code",
   "execution_count": 24,
   "id": "a668f102-1e7a-4700-814f-4e78c0bd9fc1",
   "metadata": {},
   "outputs": [],
   "source": [
    "pt_model = \"distilbert-base-uncased\"\n",
    "tok = DistilBertTokenizer.from_pretrained(pt_model, do_lower=True, add_special_tokens=True, max_length=100, pad_to_max_length=True)"
   ]
  },
  {
   "cell_type": "code",
   "execution_count": 25,
   "id": "af0d7567-2876-480a-8b9f-5709c2c1b990",
   "metadata": {},
   "outputs": [],
   "source": [
    "def tokenize(sentences, tokenizer):\n",
    "    input_ids, input_masks, input_segments = [], [], []\n",
    "    for sentence in sentences:\n",
    "        inputs = tokenizer.encode_plus(sentence, add_special_tokens=True, max_length=100, padding=\"max_length\", return_attention_mask=True, \n",
    "                                       return_token_type_ids=True, truncation=True)\n",
    "        input_ids.append(inputs[\"input_ids\"])\n",
    "        input_masks.append(inputs[\"attention_mask\"])\n",
    "        input_segments.append(inputs[\"token_type_ids\"])\n",
    "        \n",
    "    return np.asarray(input_ids, dtype=\"int32\"), np.asarray(input_masks, dtype=\"int32\"), np.asarray(input_segments, dtype=\"int32\")"
   ]
  },
  {
   "cell_type": "code",
   "execution_count": 26,
   "id": "35e83f65-c8c2-46b8-b7a6-99226fd9e6c3",
   "metadata": {},
   "outputs": [
    {
     "name": "stderr",
     "output_type": "stream",
     "text": [
      "2021-10-13 13:39:14.925083: I tensorflow/stream_executor/cuda/cuda_gpu_executor.cc:937] successful NUMA node read from SysFS had negative value (-1), but there must be at least one NUMA node, so returning NUMA node zero\n",
      "2021-10-13 13:39:14.933225: I tensorflow/stream_executor/cuda/cuda_gpu_executor.cc:937] successful NUMA node read from SysFS had negative value (-1), but there must be at least one NUMA node, so returning NUMA node zero\n",
      "2021-10-13 13:39:14.933849: I tensorflow/stream_executor/cuda/cuda_gpu_executor.cc:937] successful NUMA node read from SysFS had negative value (-1), but there must be at least one NUMA node, so returning NUMA node zero\n",
      "2021-10-13 13:39:14.935261: I tensorflow/core/platform/cpu_feature_guard.cc:142] This TensorFlow binary is optimized with oneAPI Deep Neural Network Library (oneDNN) to use the following CPU instructions in performance-critical operations:  AVX2 FMA\n",
      "To enable them in other operations, rebuild TensorFlow with the appropriate compiler flags.\n",
      "2021-10-13 13:39:14.936159: I tensorflow/stream_executor/cuda/cuda_gpu_executor.cc:937] successful NUMA node read from SysFS had negative value (-1), but there must be at least one NUMA node, so returning NUMA node zero\n",
      "2021-10-13 13:39:14.936809: I tensorflow/stream_executor/cuda/cuda_gpu_executor.cc:937] successful NUMA node read from SysFS had negative value (-1), but there must be at least one NUMA node, so returning NUMA node zero\n",
      "2021-10-13 13:39:14.937529: I tensorflow/stream_executor/cuda/cuda_gpu_executor.cc:937] successful NUMA node read from SysFS had negative value (-1), but there must be at least one NUMA node, so returning NUMA node zero\n",
      "2021-10-13 13:39:15.401136: I tensorflow/stream_executor/cuda/cuda_gpu_executor.cc:937] successful NUMA node read from SysFS had negative value (-1), but there must be at least one NUMA node, so returning NUMA node zero\n",
      "2021-10-13 13:39:15.401840: I tensorflow/stream_executor/cuda/cuda_gpu_executor.cc:937] successful NUMA node read from SysFS had negative value (-1), but there must be at least one NUMA node, so returning NUMA node zero\n",
      "2021-10-13 13:39:15.402399: I tensorflow/stream_executor/cuda/cuda_gpu_executor.cc:937] successful NUMA node read from SysFS had negative value (-1), but there must be at least one NUMA node, so returning NUMA node zero\n",
      "2021-10-13 13:39:15.402946: I tensorflow/core/common_runtime/gpu/gpu_device.cc:1510] Created device /job:localhost/replica:0/task:0/device:GPU:0 with 13839 MB memory:  -> device: 0, name: Tesla T4, pci bus id: 0000:00:04.0, compute capability: 7.5\n",
      "2021-10-13 13:39:15.536389: W tensorflow/python/util/util.cc:348] Sets are not currently considered sequences, but this may change in the future, so consider avoiding using them.\n",
      "Some layers from the model checkpoint at distilbert-base-uncased were not used when initializing TFDistilBertModel: ['vocab_projector', 'vocab_transform', 'vocab_layer_norm', 'activation_13']\n",
      "- This IS expected if you are initializing TFDistilBertModel from the checkpoint of a model trained on another task or with another architecture (e.g. initializing a BertForSequenceClassification model from a BertForPreTraining model).\n",
      "- This IS NOT expected if you are initializing TFDistilBertModel from the checkpoint of a model that you expect to be exactly identical (initializing a BertForSequenceClassification model from a BertForSequenceClassification model).\n",
      "All the layers of TFDistilBertModel were initialized from the model checkpoint at distilbert-base-uncased.\n",
      "If your task is similar to the task the model of the checkpoint was trained on, you can already use TFDistilBertModel for predictions without further training.\n"
     ]
    }
   ],
   "source": [
    "config = DistilBertConfig(dropout=0.2, attention_dropout=0.2)\n",
    "config.output_hidden_states=False\n",
    "transformer_model = TFDistilBertModel.from_pretrained(pt_model, config=config)\n",
    "\n",
    "in_ids = Input(shape=(100,), name=\"input_token\", dtype=\"int32\")\n",
    "in_masks = Input(shape=(100,), name=\"masked_token\", dtype=\"int32\")\n",
    "\n",
    "emb = transformer_model(in_ids, attention_mask=in_masks)[0]\n",
    "x = Bidirectional(LSTM(50, return_sequences=True, dropout=0.1, recurrent_dropout=0))(emb)\n",
    "x = GlobalMaxPool1D()(x)\n",
    "x = Flatten()(x)\n",
    "x = Dense(50, activation=\"relu\")(x)\n",
    "x = Dropout(0.2)(x)\n",
    "x = Dense(4, activation=\"softmax\")(x)\n",
    "model = Model(inputs=[in_ids, in_masks], outputs=x)\n",
    "\n",
    "for layer in model.layers[:3]:\n",
    "    layer.trainable = False"
   ]
  },
  {
   "cell_type": "code",
   "execution_count": 27,
   "id": "bb4ff5ed-434e-4ed8-86d4-bc162c6707b4",
   "metadata": {},
   "outputs": [
    {
     "name": "stdout",
     "output_type": "stream",
     "text": [
      "Model: \"model\"\n",
      "__________________________________________________________________________________________________\n",
      "Layer (type)                    Output Shape         Param #     Connected to                     \n",
      "==================================================================================================\n",
      "input_token (InputLayer)        [(None, 100)]        0                                            \n",
      "__________________________________________________________________________________________________\n",
      "masked_token (InputLayer)       [(None, 100)]        0                                            \n",
      "__________________________________________________________________________________________________\n",
      "tf_distil_bert_model (TFDistilB TFBaseModelOutput(la 66362880    input_token[0][0]                \n",
      "                                                                 masked_token[0][0]               \n",
      "__________________________________________________________________________________________________\n",
      "bidirectional (Bidirectional)   (None, 100, 100)     327600      tf_distil_bert_model[0][0]       \n",
      "__________________________________________________________________________________________________\n",
      "global_max_pooling1d (GlobalMax (None, 100)          0           bidirectional[0][0]              \n",
      "__________________________________________________________________________________________________\n",
      "flatten (Flatten)               (None, 100)          0           global_max_pooling1d[0][0]       \n",
      "__________________________________________________________________________________________________\n",
      "dense (Dense)                   (None, 50)           5050        flatten[0][0]                    \n",
      "__________________________________________________________________________________________________\n",
      "dropout_19 (Dropout)            (None, 50)           0           dense[0][0]                      \n",
      "__________________________________________________________________________________________________\n",
      "dense_1 (Dense)                 (None, 4)            204         dropout_19[0][0]                 \n",
      "==================================================================================================\n",
      "Total params: 66,695,734\n",
      "Trainable params: 332,854\n",
      "Non-trainable params: 66,362,880\n",
      "__________________________________________________________________________________________________\n"
     ]
    }
   ],
   "source": [
    "model.summary()"
   ]
  },
  {
   "cell_type": "markdown",
   "id": "47237795-1439-41cb-a332-7fbd11be1c13",
   "metadata": {},
   "source": [
    "# Train the model"
   ]
  },
  {
   "cell_type": "code",
   "execution_count": 28,
   "id": "ebd9a55c-bd5f-4426-92dd-9de618ad7775",
   "metadata": {},
   "outputs": [
    {
     "name": "stderr",
     "output_type": "stream",
     "text": [
      "2021-10-13 13:39:26.590252: I tensorflow/compiler/mlir/mlir_graph_optimization_pass.cc:185] None of the MLIR Optimization Passes are enabled (registered 2)\n"
     ]
    },
    {
     "name": "stdout",
     "output_type": "stream",
     "text": [
      "Epoch 1/200\n"
     ]
    },
    {
     "name": "stderr",
     "output_type": "stream",
     "text": [
      "2021-10-13 13:39:33.722699: I tensorflow/stream_executor/cuda/cuda_dnn.cc:369] Loaded cuDNN version 8005\n"
     ]
    },
    {
     "name": "stdout",
     "output_type": "stream",
     "text": [
      "182/182 [==============================] - 64s 315ms/step - loss: 1.3244 - accuracy: 0.3385 - val_loss: 1.2426 - val_accuracy: 0.4158\n",
      "\n",
      "Epoch 00001: val_loss improved from inf to 1.24258, saving model to ../nlp models/distilbert_4_classes/distilbert_4_classes\n",
      "Epoch 2/200\n",
      "182/182 [==============================] - 54s 297ms/step - loss: 1.2209 - accuracy: 0.4145 - val_loss: 1.1740 - val_accuracy: 0.4467\n",
      "\n",
      "Epoch 00002: val_loss improved from 1.24258 to 1.17400, saving model to ../nlp models/distilbert_4_classes/distilbert_4_classes\n",
      "Epoch 3/200\n",
      "182/182 [==============================] - 54s 299ms/step - loss: 1.1829 - accuracy: 0.4370 - val_loss: 1.1580 - val_accuracy: 0.4645\n",
      "\n",
      "Epoch 00003: val_loss improved from 1.17400 to 1.15801, saving model to ../nlp models/distilbert_4_classes/distilbert_4_classes\n",
      "Epoch 4/200\n",
      "182/182 [==============================] - 54s 299ms/step - loss: 1.1636 - accuracy: 0.4543 - val_loss: 1.1445 - val_accuracy: 0.4728\n",
      "\n",
      "Epoch 00004: val_loss improved from 1.15801 to 1.14451, saving model to ../nlp models/distilbert_4_classes/distilbert_4_classes\n",
      "Epoch 5/200\n",
      "182/182 [==============================] - 54s 298ms/step - loss: 1.1550 - accuracy: 0.4581 - val_loss: 1.1362 - val_accuracy: 0.4803\n",
      "\n",
      "Epoch 00005: val_loss improved from 1.14451 to 1.13621, saving model to ../nlp models/distilbert_4_classes/distilbert_4_classes\n",
      "Epoch 6/200\n",
      "182/182 [==============================] - 54s 299ms/step - loss: 1.1423 - accuracy: 0.4742 - val_loss: 1.1254 - val_accuracy: 0.4896\n",
      "\n",
      "Epoch 00006: val_loss improved from 1.13621 to 1.12545, saving model to ../nlp models/distilbert_4_classes/distilbert_4_classes\n",
      "Epoch 7/200\n",
      "182/182 [==============================] - 54s 298ms/step - loss: 1.1321 - accuracy: 0.4827 - val_loss: 1.1192 - val_accuracy: 0.4961\n",
      "\n",
      "Epoch 00007: val_loss improved from 1.12545 to 1.11921, saving model to ../nlp models/distilbert_4_classes/distilbert_4_classes\n",
      "Epoch 8/200\n",
      "182/182 [==============================] - 54s 299ms/step - loss: 1.1274 - accuracy: 0.4829 - val_loss: 1.1135 - val_accuracy: 0.4948\n",
      "\n",
      "Epoch 00008: val_loss improved from 1.11921 to 1.11352, saving model to ../nlp models/distilbert_4_classes/distilbert_4_classes\n",
      "Epoch 9/200\n",
      "182/182 [==============================] - 54s 299ms/step - loss: 1.1206 - accuracy: 0.4907 - val_loss: 1.1072 - val_accuracy: 0.4992\n",
      "\n",
      "Epoch 00009: val_loss improved from 1.11352 to 1.10723, saving model to ../nlp models/distilbert_4_classes/distilbert_4_classes\n",
      "Epoch 10/200\n",
      "182/182 [==============================] - 54s 299ms/step - loss: 1.1139 - accuracy: 0.4905 - val_loss: 1.1025 - val_accuracy: 0.5044\n",
      "\n",
      "Epoch 00010: val_loss improved from 1.10723 to 1.10245, saving model to ../nlp models/distilbert_4_classes/distilbert_4_classes\n",
      "Epoch 11/200\n",
      "182/182 [==============================] - 54s 299ms/step - loss: 1.1073 - accuracy: 0.4965 - val_loss: 1.0992 - val_accuracy: 0.5052\n",
      "\n",
      "Epoch 00011: val_loss improved from 1.10245 to 1.09916, saving model to ../nlp models/distilbert_4_classes/distilbert_4_classes\n",
      "Epoch 12/200\n",
      "182/182 [==============================] - 54s 298ms/step - loss: 1.0991 - accuracy: 0.5036 - val_loss: 1.0948 - val_accuracy: 0.5093\n",
      "\n",
      "Epoch 00012: val_loss improved from 1.09916 to 1.09479, saving model to ../nlp models/distilbert_4_classes/distilbert_4_classes\n",
      "Epoch 13/200\n",
      "182/182 [==============================] - 54s 299ms/step - loss: 1.0897 - accuracy: 0.5089 - val_loss: 1.0965 - val_accuracy: 0.5041\n",
      "\n",
      "Epoch 00013: val_loss did not improve from 1.09479\n",
      "Epoch 14/200\n",
      "182/182 [==============================] - 54s 298ms/step - loss: 1.0867 - accuracy: 0.5097 - val_loss: 1.0892 - val_accuracy: 0.5109\n",
      "\n",
      "Epoch 00014: val_loss improved from 1.09479 to 1.08923, saving model to ../nlp models/distilbert_4_classes/distilbert_4_classes\n",
      "Epoch 15/200\n",
      "182/182 [==============================] - 54s 298ms/step - loss: 1.0834 - accuracy: 0.5204 - val_loss: 1.0887 - val_accuracy: 0.5039\n",
      "\n",
      "Epoch 00015: val_loss improved from 1.08923 to 1.08871, saving model to ../nlp models/distilbert_4_classes/distilbert_4_classes\n",
      "Epoch 16/200\n",
      "182/182 [==============================] - 54s 298ms/step - loss: 1.0754 - accuracy: 0.5191 - val_loss: 1.0843 - val_accuracy: 0.5129\n",
      "\n",
      "Epoch 00016: val_loss improved from 1.08871 to 1.08430, saving model to ../nlp models/distilbert_4_classes/distilbert_4_classes\n",
      "Epoch 17/200\n",
      "182/182 [==============================] - 54s 298ms/step - loss: 1.0749 - accuracy: 0.5219 - val_loss: 1.0816 - val_accuracy: 0.5181\n",
      "\n",
      "Epoch 00017: val_loss improved from 1.08430 to 1.08159, saving model to ../nlp models/distilbert_4_classes/distilbert_4_classes\n",
      "Epoch 18/200\n",
      "182/182 [==============================] - 54s 299ms/step - loss: 1.0647 - accuracy: 0.5262 - val_loss: 1.0788 - val_accuracy: 0.5194\n",
      "\n",
      "Epoch 00018: val_loss improved from 1.08159 to 1.07885, saving model to ../nlp models/distilbert_4_classes/distilbert_4_classes\n",
      "Epoch 19/200\n",
      "182/182 [==============================] - 54s 298ms/step - loss: 1.0586 - accuracy: 0.5290 - val_loss: 1.0791 - val_accuracy: 0.5173\n",
      "\n",
      "Epoch 00019: val_loss did not improve from 1.07885\n",
      "Epoch 20/200\n",
      "182/182 [==============================] - 54s 298ms/step - loss: 1.0499 - accuracy: 0.5326 - val_loss: 1.0719 - val_accuracy: 0.5184\n",
      "\n",
      "Epoch 00020: val_loss improved from 1.07885 to 1.07191, saving model to ../nlp models/distilbert_4_classes/distilbert_4_classes\n",
      "Epoch 21/200\n",
      "182/182 [==============================] - 54s 299ms/step - loss: 1.0496 - accuracy: 0.5300 - val_loss: 1.0729 - val_accuracy: 0.5158\n",
      "\n",
      "Epoch 00021: val_loss did not improve from 1.07191\n",
      "Epoch 22/200\n",
      "182/182 [==============================] - 54s 298ms/step - loss: 1.0468 - accuracy: 0.5375 - val_loss: 1.0738 - val_accuracy: 0.5145\n",
      "\n",
      "Epoch 00022: val_loss did not improve from 1.07191\n",
      "Epoch 23/200\n",
      "182/182 [==============================] - 54s 297ms/step - loss: 1.0451 - accuracy: 0.5400 - val_loss: 1.0683 - val_accuracy: 0.5148\n",
      "\n",
      "Epoch 00023: val_loss improved from 1.07191 to 1.06825, saving model to ../nlp models/distilbert_4_classes/distilbert_4_classes\n",
      "Epoch 24/200\n",
      "182/182 [==============================] - 54s 298ms/step - loss: 1.0398 - accuracy: 0.5461 - val_loss: 1.0717 - val_accuracy: 0.5150\n",
      "\n",
      "Epoch 00024: val_loss did not improve from 1.06825\n",
      "Epoch 25/200\n",
      "182/182 [==============================] - 54s 298ms/step - loss: 1.0360 - accuracy: 0.5456 - val_loss: 1.0669 - val_accuracy: 0.5192\n",
      "\n",
      "Epoch 00025: val_loss improved from 1.06825 to 1.06689, saving model to ../nlp models/distilbert_4_classes/distilbert_4_classes\n",
      "Epoch 26/200\n",
      "182/182 [==============================] - 54s 298ms/step - loss: 1.0268 - accuracy: 0.5438 - val_loss: 1.0694 - val_accuracy: 0.5215\n",
      "\n",
      "Epoch 00026: val_loss did not improve from 1.06689\n",
      "Epoch 27/200\n",
      "182/182 [==============================] - 54s 297ms/step - loss: 1.0209 - accuracy: 0.5518 - val_loss: 1.0674 - val_accuracy: 0.5205\n",
      "\n",
      "Epoch 00027: val_loss did not improve from 1.06689\n",
      "Epoch 28/200\n",
      "182/182 [==============================] - 54s 297ms/step - loss: 1.0176 - accuracy: 0.5558 - val_loss: 1.0658 - val_accuracy: 0.5194\n",
      "\n",
      "Epoch 00028: val_loss improved from 1.06689 to 1.06578, saving model to ../nlp models/distilbert_4_classes/distilbert_4_classes\n",
      "Epoch 29/200\n",
      "182/182 [==============================] - 54s 299ms/step - loss: 1.0152 - accuracy: 0.5524 - val_loss: 1.0631 - val_accuracy: 0.5225\n",
      "\n",
      "Epoch 00029: val_loss improved from 1.06578 to 1.06312, saving model to ../nlp models/distilbert_4_classes/distilbert_4_classes\n",
      "Epoch 30/200\n",
      "182/182 [==============================] - 54s 298ms/step - loss: 1.0179 - accuracy: 0.5526 - val_loss: 1.0675 - val_accuracy: 0.5173\n",
      "\n",
      "Epoch 00030: val_loss did not improve from 1.06312\n",
      "Epoch 31/200\n",
      "182/182 [==============================] - 54s 298ms/step - loss: 1.0116 - accuracy: 0.5583 - val_loss: 1.0602 - val_accuracy: 0.5254\n",
      "\n",
      "Epoch 00031: val_loss improved from 1.06312 to 1.06022, saving model to ../nlp models/distilbert_4_classes/distilbert_4_classes\n",
      "Epoch 32/200\n",
      "182/182 [==============================] - 54s 299ms/step - loss: 1.0003 - accuracy: 0.5627 - val_loss: 1.0623 - val_accuracy: 0.5228\n",
      "\n",
      "Epoch 00032: val_loss did not improve from 1.06022\n",
      "Epoch 33/200\n",
      "182/182 [==============================] - 54s 297ms/step - loss: 0.9956 - accuracy: 0.5628 - val_loss: 1.0642 - val_accuracy: 0.5215\n",
      "\n",
      "Epoch 00033: val_loss did not improve from 1.06022\n",
      "Epoch 34/200\n",
      "182/182 [==============================] - 54s 298ms/step - loss: 0.9932 - accuracy: 0.5683 - val_loss: 1.0629 - val_accuracy: 0.5241\n",
      "\n",
      "Epoch 00034: val_loss did not improve from 1.06022\n",
      "Epoch 35/200\n",
      "182/182 [==============================] - 54s 299ms/step - loss: 0.9908 - accuracy: 0.5669 - val_loss: 1.0605 - val_accuracy: 0.5161\n",
      "\n",
      "Epoch 00035: val_loss did not improve from 1.06022\n",
      "Epoch 36/200\n",
      "182/182 [==============================] - 54s 299ms/step - loss: 0.9849 - accuracy: 0.5672 - val_loss: 1.0596 - val_accuracy: 0.5267\n",
      "\n",
      "Epoch 00036: val_loss improved from 1.06022 to 1.05963, saving model to ../nlp models/distilbert_4_classes/distilbert_4_classes\n",
      "Epoch 37/200\n",
      "182/182 [==============================] - 54s 299ms/step - loss: 0.9825 - accuracy: 0.5678 - val_loss: 1.0632 - val_accuracy: 0.5186\n",
      "\n",
      "Epoch 00037: val_loss did not improve from 1.05963\n",
      "Epoch 38/200\n",
      "182/182 [==============================] - 54s 297ms/step - loss: 0.9786 - accuracy: 0.5722 - val_loss: 1.0596 - val_accuracy: 0.5282\n",
      "\n",
      "Epoch 00038: val_loss improved from 1.05963 to 1.05962, saving model to ../nlp models/distilbert_4_classes/distilbert_4_classes\n",
      "Epoch 39/200\n",
      "182/182 [==============================] - 54s 298ms/step - loss: 0.9713 - accuracy: 0.5808 - val_loss: 1.0589 - val_accuracy: 0.5238\n",
      "\n",
      "Epoch 00039: val_loss improved from 1.05962 to 1.05885, saving model to ../nlp models/distilbert_4_classes/distilbert_4_classes\n",
      "Epoch 40/200\n",
      "182/182 [==============================] - 54s 298ms/step - loss: 0.9740 - accuracy: 0.5766 - val_loss: 1.0588 - val_accuracy: 0.5220\n",
      "\n",
      "Epoch 00040: val_loss improved from 1.05885 to 1.05883, saving model to ../nlp models/distilbert_4_classes/distilbert_4_classes\n",
      "Epoch 41/200\n",
      "182/182 [==============================] - 54s 298ms/step - loss: 0.9675 - accuracy: 0.5820 - val_loss: 1.0678 - val_accuracy: 0.5274\n",
      "\n",
      "Epoch 00041: val_loss did not improve from 1.05883\n",
      "Epoch 42/200\n",
      "182/182 [==============================] - 54s 298ms/step - loss: 0.9602 - accuracy: 0.5858 - val_loss: 1.0601 - val_accuracy: 0.5277\n",
      "\n",
      "Epoch 00042: val_loss did not improve from 1.05883\n",
      "Epoch 43/200\n",
      "182/182 [==============================] - 54s 299ms/step - loss: 0.9602 - accuracy: 0.5861 - val_loss: 1.0619 - val_accuracy: 0.5218\n",
      "\n",
      "Epoch 00043: val_loss did not improve from 1.05883\n",
      "Epoch 44/200\n",
      "182/182 [==============================] - 54s 299ms/step - loss: 0.9492 - accuracy: 0.5917 - val_loss: 1.0613 - val_accuracy: 0.5233\n",
      "\n",
      "Epoch 00044: val_loss did not improve from 1.05883\n",
      "Epoch 45/200\n",
      "182/182 [==============================] - 54s 299ms/step - loss: 0.9509 - accuracy: 0.5925 - val_loss: 1.0678 - val_accuracy: 0.5176\n",
      "\n",
      "Epoch 00045: val_loss did not improve from 1.05883\n"
     ]
    }
   ],
   "source": [
    "x_train_tok = tokenize(x_train_pp, tok)\n",
    "x_val_tok = tokenize(x_val_pp, tok)\n",
    "\n",
    "lb = LabelBinarizer()\n",
    "y_train_b = lb.fit_transform(y_train)\n",
    "y_val_b = lb.transform(y_val)\n",
    "\n",
    "batch_size = 64\n",
    "n_epochs = 200\n",
    "\n",
    "model.compile(loss=\"categorical_crossentropy\", \n",
    "              optimizer=Adam(learning_rate=0.00005), \n",
    "              metrics=[\"accuracy\"])\n",
    "\n",
    "metric = \"val_loss\"\n",
    "\n",
    "es = EarlyStopping(monitor=metric, \n",
    "                   mode=\"min\", \n",
    "                   patience=5, \n",
    "                   restore_best_weights=True)\n",
    "\n",
    "checkpoint = ModelCheckpoint(os.path.join(p_dir, \"{}\".format(m_name)), \n",
    "                             monitor=metric, \n",
    "                             verbose=2, \n",
    "                             save_best_only=True, \n",
    "                             save_weights_only=True, \n",
    "                             mode='min')\n",
    "\n",
    "hist = model.fit(x_train_tok[:2], y_train_b, \n",
    "                 validation_data=(x_val_tok[:2], y_val_b), \n",
    "                 batch_size=batch_size, \n",
    "                 epochs=n_epochs, \n",
    "                 callbacks=[checkpoint, es])"
   ]
  },
  {
   "cell_type": "code",
   "execution_count": 29,
   "id": "f056c121-ecf4-4536-b16c-2f0f4b32a89f",
   "metadata": {},
   "outputs": [
    {
     "data": {
      "image/png": "[encoded data removed]",
      "text/plain": [
       "<Figure size 432x288 with 2 Axes>"
      ]
     },
     "metadata": {
      "needs_background": "light"
     },
     "output_type": "display_data"
    }
   ],
   "source": [
    "fig, axs = plt.subplots(1, 2)\n",
    "\n",
    "axs[0].plot(hist.history[\"accuracy\"])\n",
    "axs[0].plot(hist.history[\"val_accuracy\"])\n",
    "axs[0].set_title(\"model accuracy\")\n",
    "axs[0].set_ylabel(\"accuracy\")\n",
    "axs[0].set_xlabel(\"epoch\")\n",
    "axs[0].set_ylim(0, 1)\n",
    "axs[0].legend([\"train\", \"val\"], loc=\"upper left\")\n",
    "\n",
    "axs[1].plot(hist.history[\"loss\"])\n",
    "axs[1].plot(hist.history[\"val_loss\"])\n",
    "axs[1].set_title(\"model loss\")\n",
    "axs[1].set_ylabel(\"loss\")\n",
    "axs[1].set_xlabel(\"epoch\")\n",
    "# axs[1].set_ylim(0, 1)\n",
    "axs[1].legend([\"train\", \"val\"], loc=\"upper left\")\n",
    "\n",
    "plt.tight_layout()\n",
    "plt.show()\n",
    "fig.savefig(os.path.join(p_dir, \"accuracy_loss.jpg\"))"
   ]
  },
  {
   "cell_type": "markdown",
   "id": "04638fd6-8834-4268-8d97-5e0d3927c964",
   "metadata": {},
   "source": [
    "# Confusion matrix"
   ]
  },
  {
   "cell_type": "code",
   "execution_count": 30,
   "id": "24cab94a-5b2a-4045-a8d0-7443494029ef",
   "metadata": {},
   "outputs": [
    {
     "data": {
      "text/plain": [
       "<tensorflow.python.training.tracking.util.CheckpointLoadStatus at 0x7ff83820cd10>"
      ]
     },
     "execution_count": 30,
     "metadata": {},
     "output_type": "execute_result"
    }
   ],
   "source": [
    "model.load_weights(os.path.join(p_dir, \"{}\".format(m_name)))"
   ]
  },
  {
   "cell_type": "markdown",
   "id": "5585bd0a-434e-4cfb-9d21-7ddfc7b0d1bc",
   "metadata": {},
   "source": [
    "## Validation data (in-sample)"
   ]
  },
  {
   "cell_type": "code",
   "execution_count": 31,
   "id": "87c23e5a-9b8c-4c6f-a5bf-c012b2fd80f9",
   "metadata": {},
   "outputs": [],
   "source": [
    "x_val_tok = tokenize(x_val_pp, tok)\n",
    "\n",
    "lb = LabelBinarizer()\n",
    "y_train_b = lb.fit_transform(y_train)\n",
    "y_val_b = lb.transform(y_val)\n",
    "\n",
    "y_val_prob = model.predict(x_val_tok[:2], steps=y_val_b.shape[0])\n",
    "y_pred = np.argmax(y_val_prob, axis=1)\n",
    "cls_lbl = {c[0]: c[1] for c in list(zip(lb.classes_, range(4)))}\n",
    "cls_lbl = dict([(v, k) for k, v in cls_lbl.items()])\n",
    "y_pred = pd.Series([cls_lbl[i] for i in y_pred]).astype(\"category\").cat.reorder_categories(cat_lbl)"
   ]
  },
  {
   "cell_type": "code",
   "execution_count": 32,
   "id": "d834c47c-0740-4157-9637-ee5bf92ad160",
   "metadata": {},
   "outputs": [
    {
     "data": {
      "image/png": "[encoded data removed]",
      "text/plain": [
       "<Figure size 432x288 with 2 Axes>"
      ]
     },
     "metadata": {
      "needs_background": "light"
     },
     "output_type": "display_data"
    },
    {
     "name": "stdout",
     "output_type": "stream",
     "text": [
      "Accuracy: 0.52\n",
      "Micro precision: 0.52\n",
      "Micro recall: 0.52\n",
      "Micro F1-score: 0.52\n",
      "Macro precision: 0.52\n",
      "Macro recall: 0.52\n",
      "Macro F1-score: 0.52\n",
      "Weighted precision: 0.52\n",
      "Weighted recall: 0.52\n",
      "Weighted F1-score: 0.52\n",
      "              precision    recall  f1-score   support\n",
      "\n",
      "    very low       0.40      0.35      0.37       970\n",
      "         low       0.42      0.42      0.42       931\n",
      "        high       0.53      0.60      0.56       987\n",
      "   very high       0.72      0.71      0.71       974\n",
      "\n",
      "    accuracy                           0.52      3862\n",
      "   macro avg       0.52      0.52      0.52      3862\n",
      "weighted avg       0.52      0.52      0.52      3862\n",
      "\n"
     ]
    }
   ],
   "source": [
    "cmtx = confusion_matrix(y_val, y_pred)\n",
    "sb.heatmap(cmtx, annot=True, fmt=\"d\", xticklabels=cat_lbl, yticklabels=cat_lbl)\n",
    "plt.xlabel(\"True class\")\n",
    "plt.ylabel(\"Predicted class\")\n",
    "plt.title(\"Confusion matrix - validation set\")\n",
    "plt.savefig(os.path.join(p_dir, \"confusion_matrix_val.jpg\"))\n",
    "plt.show()\n",
    "\n",
    "print(\"Accuracy: {:0.2f}\".format(accuracy_score(y_val, y_pred)))\n",
    "\n",
    "print(\"Micro precision: {:0.2f}\".format(precision_score(y_val, y_pred, average=\"micro\")))\n",
    "print(\"Micro recall: {:0.2f}\".format(recall_score(y_val, y_pred, average=\"micro\")))\n",
    "print(\"Micro F1-score: {:0.2f}\".format(f1_score(y_val, y_pred, average=\"micro\")))\n",
    "\n",
    "print(\"Macro precision: {:0.2f}\".format(precision_score(y_val, y_pred, average=\"macro\")))\n",
    "print(\"Macro recall: {:0.2f}\".format(recall_score(y_val, y_pred, average=\"macro\")))\n",
    "print(\"Macro F1-score: {:0.2f}\".format(f1_score(y_val, y_pred, average=\"macro\")))\n",
    "\n",
    "print(\"Weighted precision: {:0.2f}\".format(precision_score(y_val, y_pred, average=\"weighted\")))\n",
    "print(\"Weighted recall: {:0.2f}\".format(recall_score(y_val, y_pred, average=\"weighted\")))\n",
    "print(\"Weighted F1-score: {:0.2f}\".format(f1_score(y_val, y_pred, average=\"weighted\")))\n",
    "\n",
    "print(classification_report(y_val, y_pred, target_names=cat_lbl))"
   ]
  },
  {
   "cell_type": "markdown",
   "id": "2e4a87f1-a331-4a71-881a-bd4bb10cb597",
   "metadata": {},
   "source": [
    "## Test data (out-of-sample)"
   ]
  },
  {
   "cell_type": "code",
   "execution_count": null,
   "id": "c1dacdb7-718a-42ec-8766-56e8c585e183",
   "metadata": {},
   "outputs": [],
   "source": [
    "x_test_pp = preprocess_data(x_test)\n",
    "x_test_tok = tokenize(x_test_pp, tok)\n",
    "\n",
    "lb = LabelBinarizer()\n",
    "y_train_b = lb.fit_transform(y_train)\n",
    "y_test_b = lb.transform(y_test)\n",
    "\n",
    "y_test_prob = model.predict(x_test_tok[:2], steps=y_test_b.shape[0])\n",
    "y_pred = np.argmax(y_test_prob, axis=1)\n",
    "cls_lbl = {c[0]: c[1] for c in list(zip(lb.classes_, range(4)))}\n",
    "cls_lbl = dict([(v, k) for k, v in cls_lbl.items()])\n",
    "y_pred = pd.Series([cls_lbl[i] for i in y_pred]).astype(\"category\").cat.reorder_categories(cat_lbl)"
   ]
  },
  {
   "cell_type": "code",
   "execution_count": null,
   "id": "f1f67bd3-f713-4df2-b854-de636859fd2d",
   "metadata": {},
   "outputs": [],
   "source": [
    "cmtx = confusion_matrix(y_test, y_pred)\n",
    "sb.heatmap(cmtx, annot=True, fmt=\"d\", xticklabels=cat_lbl, yticklabels=cat_lbl)\n",
    "plt.xlabel(\"True class\")\n",
    "plt.ylabel(\"Predicted class\")\n",
    "plt.title(\"Confusion matrix - test set\")\n",
    "plt.savefig(os.path.join(p_dir, \"confusion_matrix_test.jpg\"))\n",
    "plt.show()\n",
    "\n",
    "print(\"Accuracy: {:0.2f}\".format(accuracy_score(y_test, y_pred)))\n",
    "\n",
    "print(\"Micro precision: {:0.2f}\".format(precision_score(y_test, y_pred, average=\"micro\")))\n",
    "print(\"Micro recall: {:0.2f}\".format(recall_score(y_test, y_pred, average=\"micro\")))\n",
    "print(\"Micro F1-score: {:0.2f}\".format(f1_score(y_test, y_pred, average=\"micro\")))\n",
    "\n",
    "print(\"Macro precision: {:0.2f}\".format(precision_score(y_test, y_pred, average=\"macro\")))\n",
    "print(\"Macro recall: {:0.2f}\".format(recall_score(y_test, y_pred, average=\"macro\")))\n",
    "print(\"Macro F1-score: {:0.2f}\".format(f1_score(y_test, y_pred, average=\"macro\")))\n",
    "\n",
    "print(\"Weighted precision: {:0.2f}\".format(precision_score(y_test, y_pred, average=\"weighted\")))\n",
    "print(\"Weighted recall: {:0.2f}\".format(recall_score(y_test, y_pred, average=\"weighted\")))\n",
    "print(\"Weighted F1-score: {:0.2f}\".format(f1_score(y_test, y_pred, average=\"weighted\")))\n",
    "\n",
    "print(classification_report(y_test, y_pred, target_names=cat_lbl))"
   ]
  },
  {
   "cell_type": "markdown",
   "id": "852a6459-bae4-460f-bb5a-52cc2a3a9f1b",
   "metadata": {},
   "source": [
    "# ROC curve"
   ]
  },
  {
   "cell_type": "markdown",
   "id": "1d75cd51-fb94-4531-9fd6-b0d3d9896e9c",
   "metadata": {},
   "source": [
    "## Validation data (in-sample)"
   ]
  },
  {
   "cell_type": "code",
   "execution_count": null,
   "id": "cce1f1f7-8f9a-4313-902a-ff27473c352b",
   "metadata": {},
   "outputs": [],
   "source": [
    "lb = LabelBinarizer()\n",
    "y_val_no = lb.fit_transform(y_val)\n",
    "y_pred_no = y_val_prob"
   ]
  },
  {
   "cell_type": "code",
   "execution_count": null,
   "id": "eca32599-b6ad-46cd-85b5-a4ae462136ac",
   "metadata": {},
   "outputs": [],
   "source": [
    "def roc_curve_multiple_classes(y_test, y_pred, labelbinarizer, title, file_path):\n",
    "    n_classes = len(y_test[0])\n",
    "    lw = 2\n",
    "    lbl = lb.classes_\n",
    "    \n",
    "    fpr = dict()\n",
    "    tpr = dict()\n",
    "    roc_auc = dict()\n",
    "    for i in range(n_classes):\n",
    "        fpr[i], tpr[i], _ = roc_curve(y_test[:, i], y_pred[:, i])\n",
    "        roc_auc[i] = auc(fpr[i], tpr[i])\n",
    "    \n",
    "    fpr[\"micro\"], tpr[\"micro\"], _ = roc_curve(y_test.ravel(), y_pred.ravel())\n",
    "    roc_auc[\"micro\"] = auc(fpr[\"micro\"], tpr[\"micro\"])\n",
    "    \n",
    "    all_fpr = np.unique(np.concatenate([fpr[i] for i in range(n_classes)]))\n",
    "    \n",
    "    mean_tpr = np.zeros_like(all_fpr)\n",
    "    for i in range(n_classes):\n",
    "        mean_tpr += np.interp(all_fpr, fpr[i], tpr[i])\n",
    "        \n",
    "    mean_tpr /= n_classes\n",
    "    \n",
    "    fpr[\"macro\"] = all_fpr\n",
    "    tpr[\"macro\"] = mean_tpr\n",
    "    roc_auc[\"macro\"] = auc(fpr[\"macro\"], tpr[\"macro\"])\n",
    "    \n",
    "    plt.figure(1)\n",
    "    plt.plot(fpr[\"micro\"], tpr[\"micro\"],\n",
    "             label='micro-average ROC curve (area = {0:0.2f})'\n",
    "                   ''.format(roc_auc[\"micro\"]),\n",
    "             color='deeppink', linestyle=':', linewidth=4)\n",
    "\n",
    "    plt.plot(fpr[\"macro\"], tpr[\"macro\"],\n",
    "             label='macro-average ROC curve (area = {0:0.2f})'\n",
    "                   ''.format(roc_auc[\"macro\"]),\n",
    "             color='navy', linestyle=':', linewidth=4)\n",
    "\n",
    "    colors = cycle([\"blue\", \"red\", \"green\", \"yellow\"])\n",
    "    for i, color in zip(range(n_classes), colors):\n",
    "        plt.plot(fpr[i], tpr[i], color=color, lw=lw,\n",
    "                 label='ROC curve of class {0} (area = {1:0.2f})'\n",
    "                 ''.format(lbl[i], roc_auc[i]))\n",
    "\n",
    "    plt.plot([0, 1], [0, 1], 'k--', lw=lw)\n",
    "    plt.xlim([0.0, 1.0])\n",
    "    plt.ylim([0.0, 1.05])\n",
    "    plt.xlabel('False Positive Rate')\n",
    "    plt.ylabel('True Positive Rate')\n",
    "    plt.title(title)\n",
    "    plt.legend(loc=\"lower right\")\n",
    "    plt.savefig(file_path)\n",
    "    plt.show()"
   ]
  },
  {
   "cell_type": "code",
   "execution_count": null,
   "id": "cbc6d5ed-73f3-47bd-9ac4-369b205bb814",
   "metadata": {},
   "outputs": [],
   "source": [
    "roc_curve_multiple_classes(y_val_no, y_pred_no, lb, \"ROC curve - validation data\", os.path.join(p_dir, \"roc_curve_val.jpg\"))"
   ]
  },
  {
   "cell_type": "markdown",
   "id": "ae0e447d-fd56-4c32-8d47-231f202db118",
   "metadata": {},
   "source": [
    "## Test data (out-of-sample)"
   ]
  },
  {
   "cell_type": "code",
   "execution_count": null,
   "id": "4f62beba-ebe9-4d45-8753-e881c49a0aef",
   "metadata": {},
   "outputs": [],
   "source": [
    "lb = LabelBinarizer()\n",
    "y_test_no = lb.fit_transform(y_test)\n",
    "y_pred_no = y_test_prob"
   ]
  },
  {
   "cell_type": "code",
   "execution_count": null,
   "id": "039d9470-bfbc-4df4-a60d-6f6d1325ec01",
   "metadata": {},
   "outputs": [],
   "source": [
    "roc_curve_multiple_classes(y_test_no, y_pred_no, lb, \"ROC curve - test data\", os.path.join(p_dir, \"roc_curve.jpg\"))"
   ]
  },
  {
   "cell_type": "markdown",
   "id": "95a8d51f-560b-4773-8116-f428ca926aa6",
   "metadata": {},
   "source": [
    "# Class probability histograms"
   ]
  },
  {
   "cell_type": "markdown",
   "id": "53444416-298a-4a7b-bc39-03ed51c4da29",
   "metadata": {},
   "source": [
    "## Without middle classes"
   ]
  },
  {
   "cell_type": "code",
   "execution_count": null,
   "id": "95d280f8-0d82-4149-87c0-1edfbd58c920",
   "metadata": {},
   "outputs": [],
   "source": [
    "m0 = y_test_no[:, 0] == 0\n",
    "c0 = y_test_prob[m0, 1]\n",
    "m1 = y_test_no[:, 0] == 1\n",
    "c1 = y_test_prob[m1, 1]\n",
    "\n",
    "plt.hist(c0, alpha=0.3, bins=20)\n",
    "plt.hist(c1, color=\"red\", alpha=0.3, bins=20)\n",
    "plt.title(\"Histogram\")\n",
    "plt.legend(cat_lbl)\n",
    "plt.savefig(os.path.join(p_dir, \"histogram.jpg\"))\n",
    "plt.show()"
   ]
  },
  {
   "cell_type": "markdown",
   "id": "ae3a2f57-bf01-471f-9f1f-8b4651028268",
   "metadata": {},
   "source": [
    "## Including middle classes"
   ]
  },
  {
   "cell_type": "code",
   "execution_count": null,
   "id": "749f796f-d8c8-4ff8-a2a3-184b0f712f84",
   "metadata": {},
   "outputs": [],
   "source": [
    "cat_lbl2 = [\"very low\", \"low\", \"high\", \"very high\"]\n",
    "combo2 = combo.copy()\n",
    "combo2.loc[:, \"qtl\"] = pd.qcut(combo.ln_vc_norm, len(cat_lbl2), labels=cat_lbl2, precision=6)"
   ]
  },
  {
   "cell_type": "code",
   "execution_count": null,
   "id": "37dada31-61ec-4d14-b2a7-48b9bb437949",
   "metadata": {},
   "outputs": [],
   "source": [
    "combo2 = combo2.loc[combo2.qtl.isin([\"low\", \"high\"]), :]\n",
    "combo2.qtl = combo2.qtl.cat.remove_unused_categories()\n",
    "\n",
    "y2 = combo2.qtl\n",
    "x2 = combo2.loc[:, [c for c in combo2.columns if c != \"qtl\"]]\n",
    "\n",
    "x_train2, x_test2, y_train2, y_test2 = train_test_split(x2, y2, test_size=0.2, random_state=42)\n",
    "x_train2, x_val2, y_train2, y_val2 = train_test_split(x_train2, y_train2, test_size=0.25, random_state=4711)\n",
    "\n",
    "print(x_train2.shape[0], x_val2.shape[0], x_test2.shape[0])"
   ]
  },
  {
   "cell_type": "code",
   "execution_count": null,
   "id": "ee827995-a47c-483f-bf0f-a59bb1d93f22",
   "metadata": {},
   "outputs": [],
   "source": [
    "x_test_pp2 = preprocess_data(x_test2)\n",
    "x_test_tok2 = tokenize(x_test_pp2, tok)\n",
    "\n",
    "lb = LabelBinarizer()\n",
    "y_train_b = lb.fit_transform(y_train)\n",
    "y_test_b2 = lb.transform(y_test2)\n",
    "\n",
    "y_pred_prob2 = model.predict(x_test_tok2[:2], steps=y_test_b2.shape[0])\n",
    "y_pred2 = np.argmax(y_pred_prob2, axis=1)\n",
    "y_pred2 = lb.inverse_transform(y_pred2)"
   ]
  },
  {
   "cell_type": "code",
   "execution_count": null,
   "id": "912516cf-b152-4b77-8b68-05ebe52d7991",
   "metadata": {},
   "outputs": [],
   "source": [
    "m0 = y_test_no[:, 0] == 0\n",
    "c0 = y_test_prob[m0, 1]\n",
    "m1 = y_test_no[:, 0] == 1\n",
    "c1 = y_test_prob[m1, 1]\n",
    "\n",
    "m3 = y_test2 == \"low\"\n",
    "c2 = y_pred_prob2[m3, 0]\n",
    "\n",
    "m4 = y_test2 == \"high\"\n",
    "c3 = y_pred_prob2[m4, 0]\n",
    "\n",
    "plt.hist(c0, alpha=0.3, label=\"\", bins=20)\n",
    "plt.hist(c1, color=\"red\", alpha=0.3, label=\"\", bins=20)\n",
    "plt.hist(c2, color=\"green\", alpha=0.3, label=\"\", bins=20)\n",
    "plt.hist(c3, color=\"yellow\", alpha=0.3, label=\"\", bins=20)\n",
    "plt.title(\"Histogram incl. middle classes\")\n",
    "plt.legend(cat_lbl + [\"low\", \"high\"])\n",
    "plt.savefig(os.path.join(p_dir, \"histogram_w_medium.jpg\"))\n",
    "plt.show()"
   ]
  },
  {
   "cell_type": "markdown",
   "id": "5e6b6bec-779b-464a-9cef-4b5b6b38d0f8",
   "metadata": {},
   "source": [
    "# Sample titles"
   ]
  },
  {
   "cell_type": "markdown",
   "id": "027c03ef-f4c7-4267-95c9-e2c788171309",
   "metadata": {},
   "source": [
    "## Validation dataset"
   ]
  },
  {
   "cell_type": "code",
   "execution_count": null,
   "id": "0ec6fdfa-b441-4718-a6ac-97b78a97cb8a",
   "metadata": {},
   "outputs": [],
   "source": [
    "x1 = x_test2[[\"title\", \"channel_name\"]]\n",
    "x2 = y_test2\n",
    "x3 = pd.Series(y_pred2, name=\"pred\")\n",
    "\n",
    "x4 = x_test[[\"title\", \"channel_name\"]]\n",
    "x5 = y_test\n",
    "x6 = pd.Series(y_pred, name=\"pred\")\n",
    "\n",
    "c1 = pd.concat([x1, x2], axis=1).reset_index(drop=True)\n",
    "c1 = pd.concat([c1, x3], axis=1)\n",
    "\n",
    "c2 = pd.concat([x4, x5], axis=1).reset_index(drop=True)\n",
    "c2 = pd.concat([c2, x6], axis=1)\n",
    "\n",
    "c3 = pd.concat([c1, c2])\n",
    "\n",
    "print(c3.shape)\n",
    "c3.head()"
   ]
  },
  {
   "cell_type": "code",
   "execution_count": null,
   "id": "6dd52eee-cfbf-4f41-939a-fdc2e5a8a12c",
   "metadata": {},
   "outputs": [],
   "source": [
    "g = c3.loc[c3[\"qtl\"].isin([\"very high\", \"very low\"]), :].groupby(\"pred\", as_index=False).apply(lambda x: x.sample(5, random_state=256))\n",
    "# g = g.loc[g[\"qtl\"].isin([\"very low\"]), \"title\"]\n",
    "g[[\"title\", \"pred\"]].head(10)"
   ]
  },
  {
   "cell_type": "code",
   "execution_count": null,
   "id": "7d8959da-ccb3-409c-be71-b7c770ddc187",
   "metadata": {},
   "outputs": [],
   "source": [
    "g.to_csv(os.path.join(p_dir, \"titles.csv\"), index=False)"
   ]
  }
 ],
 "metadata": {
  "environment": {
   "name": "tf2-gpu.2-6.m80",
   "type": "gcloud",
   "uri": "gcr.io/deeplearning-platform-release/tf2-gpu.2-6:m80"
  },
  "kernelspec": {
   "display_name": "Python 3",
   "language": "python",
   "name": "python3"
  },
  "language_info": {
   "codemirror_mode": {
    "name": "ipython",
    "version": 3
   },
   "file_extension": ".py",
   "mimetype": "text/x-python",
   "name": "python",
   "nbconvert_exporter": "python",
   "pygments_lexer": "ipython3",
   "version": "3.7.10"
  }
 },
 "nbformat": 4,
 "nbformat_minor": 5
}
