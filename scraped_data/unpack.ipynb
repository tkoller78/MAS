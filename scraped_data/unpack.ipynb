{
 "cells": [
  {
   "cell_type": "code",
   "execution_count": 1,
   "id": "bb7ccbdc",
   "metadata": {},
   "outputs": [],
   "source": [
    "import os\n",
    "from shutil import unpack_archive"
   ]
  },
  {
   "cell_type": "code",
   "execution_count": 5,
   "id": "f2462061",
   "metadata": {},
   "outputs": [],
   "source": [
    "unpack_archive(\"images.zip\", \"../\")"
   ]
  }
 ],
 "metadata": {
  "environment": {
   "name": "tf2-gpu.2-6.m80",
   "type": "gcloud",
   "uri": "gcr.io/deeplearning-platform-release/tf2-gpu.2-6:m80"
  },
  "kernelspec": {
   "display_name": "Python 3",
   "language": "python",
   "name": "python3"
  },
  "language_info": {
   "codemirror_mode": {
    "name": "ipython",
    "version": 3
   },
   "file_extension": ".py",
   "mimetype": "text/x-python",
   "name": "python",
   "nbconvert_exporter": "python",
   "pygments_lexer": "ipython3",
   "version": "3.7.10"
  }
 },
 "nbformat": 4,
 "nbformat_minor": 5
}
