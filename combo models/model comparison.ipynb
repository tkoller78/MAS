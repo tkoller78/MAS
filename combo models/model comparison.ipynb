{
 "cells": [
  {
   "cell_type": "code",
   "execution_count": 1,
   "id": "dfdf554d-5ba0-4453-ab68-4a48a2f6767c",
   "metadata": {},
   "outputs": [],
   "source": [
    "import os\n",
    "import pandas as pd\n",
    "import numpy as np\n",
    "import seaborn as sb\n",
    "import matplotlib.pyplot as plt"
   ]
  },
  {
   "cell_type": "markdown",
   "id": "5e4be72c-cb6e-4bb9-aa93-20ccc3ff071e",
   "metadata": {},
   "source": [
    "# Project variables"
   ]
  },
  {
   "cell_type": "code",
   "execution_count": 2,
   "id": "93f3a9d9-b747-48fb-9a6e-f2f91124d933",
   "metadata": {},
   "outputs": [],
   "source": [
    "m_name = \"model comparison\"\n",
    "p_dir = os.path.join(\"../combo models\", m_name)"
   ]
  },
  {
   "cell_type": "code",
   "execution_count": 3,
   "id": "9d622a00-395b-4fc8-a90c-63fc56428cba",
   "metadata": {},
   "outputs": [],
   "source": [
    "def create_dir(dir_path: str):\n",
    "    if not os.path.exists(dir_path):\n",
    "        os.mkdir(dir_path)"
   ]
  },
  {
   "cell_type": "code",
   "execution_count": 4,
   "id": "186f7064-019d-445d-8014-6c42fca4052a",
   "metadata": {},
   "outputs": [],
   "source": [
    "def clear_dir(dir_path: str):\n",
    "    for item in os.listdir(dir_path):\n",
    "        fp = os.path.join(dir_path, item)\n",
    "        if os.path.isfile(fp):\n",
    "            os.remove(fp)\n",
    "        if os.path.isdir(fp):\n",
    "            rmtree(fp)"
   ]
  },
  {
   "cell_type": "code",
   "execution_count": 5,
   "id": "7b04f3d3-8140-424d-b318-f6e3db16295e",
   "metadata": {},
   "outputs": [],
   "source": [
    "create_dir(p_dir)\n",
    "clear_dir(p_dir)"
   ]
  },
  {
   "cell_type": "markdown",
   "id": "539c4be7-638a-4d2e-bd32-23cdfeec50f8",
   "metadata": {},
   "source": [
    "# Load model predictions"
   ]
  },
  {
   "cell_type": "code",
   "execution_count": 6,
   "id": "f13535e7-19ae-45a3-9d47-f508f0bf7e3f",
   "metadata": {},
   "outputs": [],
   "source": [
    "img_model = os.path.join(\"../img models\", \"densenet_2_classes_bce_test4\")\n",
    "img_pred = pd.read_pickle(os.path.join(img_model, \"y_pred_test.pkl\"))\n",
    "img_pred = pd.Series(img_pred, name=\"pred\")\n",
    "img_x = pd.read_pickle(os.path.join(img_model, \"x_test.pkl\"))\n",
    "img_gt = pd.read_pickle(os.path.join(img_model, \"y_test.pkl\"))"
   ]
  },
  {
   "cell_type": "code",
   "execution_count": 7,
   "id": "2fc1b09f-3db5-4639-afe7-80face17a836",
   "metadata": {},
   "outputs": [],
   "source": [
    "nlp_model =os.path.join(\"../nlp models\", \"distilbert_2_classes_v2\")\n",
    "nlp_pred = pd.read_pickle(os.path.join(nlp_model, \"y_pred_test.pkl\"))\n",
    "nlp_pred = pd.Series(nlp_pred, name=\"pred\")\n",
    "nlp_x = pd.read_pickle(os.path.join(nlp_model, \"x_test.pkl\"))\n",
    "nlp_gt = pd.read_pickle(os.path.join(nlp_model, \"y_test.pkl\"))"
   ]
  },
  {
   "cell_type": "code",
   "execution_count": 8,
   "id": "a647b570-9b64-45b6-bef1-0793806e0ec5",
   "metadata": {},
   "outputs": [],
   "source": [
    "for df in [img_x, img_gt, img_pred, nlp_x, nlp_gt, nlp_pred]:\n",
    "    df.reset_index(drop=True, inplace=True)"
   ]
  },
  {
   "cell_type": "code",
   "execution_count": 9,
   "id": "6284228d-e6e7-469c-9510-155eb0c13d2b",
   "metadata": {},
   "outputs": [],
   "source": [
    "img = pd.concat([img_x, img_gt, img_pred], axis=1)\n",
    "img.rename(columns={\"qtl\": \"truth\"}, inplace=True)\n",
    "img = img.loc[:, [\"id_video\", \"title\", \"channel_name\", \"ln_vc_norm\", \"truth\", \"pred\"]]\n",
    "\n",
    "nlp = pd.concat([nlp_x, nlp_gt, nlp_pred], axis=1)\n",
    "nlp.rename(columns={\"qtl\": \"truth\"}, inplace=True)\n",
    "nlp = nlp.loc[:, [\"id_video\", \"title\", \"channel_name\", \"ln_vc_norm\", \"truth\", \"pred\"]]"
   ]
  },
  {
   "cell_type": "code",
   "execution_count": 10,
   "id": "c8859776-6b70-4f2f-877b-b6bd35c5ad1f",
   "metadata": {},
   "outputs": [
    {
     "data": {
      "text/html": [
       "<div>\n",
       "<style scoped>\n",
       "    .dataframe tbody tr th:only-of-type {\n",
       "        vertical-align: middle;\n",
       "    }\n",
       "\n",
       "    .dataframe tbody tr th {\n",
       "        vertical-align: top;\n",
       "    }\n",
       "\n",
       "    .dataframe thead th {\n",
       "        text-align: right;\n",
       "    }\n",
       "</style>\n",
       "<table border=\"1\" class=\"dataframe\">\n",
       "  <thead>\n",
       "    <tr style=\"text-align: right;\">\n",
       "      <th></th>\n",
       "      <th>id_video</th>\n",
       "      <th>title</th>\n",
       "      <th>channel_name</th>\n",
       "      <th>ln_vc_norm</th>\n",
       "      <th>truth</th>\n",
       "      <th>pred</th>\n",
       "      <th>pred_nlp</th>\n",
       "    </tr>\n",
       "  </thead>\n",
       "  <tbody>\n",
       "    <tr>\n",
       "      <th>0</th>\n",
       "      <td>1fyS5wqaAS8</td>\n",
       "      <td>\"Hey Bill Nye, Don't Forget the Dioxins!\"</td>\n",
       "      <td>StarTalk</td>\n",
       "      <td>-4.226734</td>\n",
       "      <td>very low</td>\n",
       "      <td>very low</td>\n",
       "      <td>very high</td>\n",
       "    </tr>\n",
       "    <tr>\n",
       "      <th>1</th>\n",
       "      <td>sCMVw2SJLy4</td>\n",
       "      <td>Live Show - Periodic Table of Videos</td>\n",
       "      <td>Periodic Videos</td>\n",
       "      <td>-4.478711</td>\n",
       "      <td>very low</td>\n",
       "      <td>very low</td>\n",
       "      <td>very high</td>\n",
       "    </tr>\n",
       "    <tr>\n",
       "      <th>2</th>\n",
       "      <td>ZbdMMI6ty0o</td>\n",
       "      <td>Why Are We Morbidly Curious?</td>\n",
       "      <td>Vsauce</td>\n",
       "      <td>-0.807534</td>\n",
       "      <td>very high</td>\n",
       "      <td>very high</td>\n",
       "      <td>very high</td>\n",
       "    </tr>\n",
       "    <tr>\n",
       "      <th>3</th>\n",
       "      <td>nbuM0aJjVgE</td>\n",
       "      <td>The Mughal Empire and Historical Reputation: C...</td>\n",
       "      <td>CrashCourse</td>\n",
       "      <td>-1.519372</td>\n",
       "      <td>very high</td>\n",
       "      <td>very high</td>\n",
       "      <td>very high</td>\n",
       "    </tr>\n",
       "    <tr>\n",
       "      <th>4</th>\n",
       "      <td>McojvctVsUs</td>\n",
       "      <td>C++ Basics For Beginners | Learn C++ Programmi...</td>\n",
       "      <td>Simplilearn</td>\n",
       "      <td>-4.466001</td>\n",
       "      <td>very low</td>\n",
       "      <td>very low</td>\n",
       "      <td>very low</td>\n",
       "    </tr>\n",
       "  </tbody>\n",
       "</table>\n",
       "</div>"
      ],
      "text/plain": [
       "      id_video                                              title  \\\n",
       "0  1fyS5wqaAS8          \"Hey Bill Nye, Don't Forget the Dioxins!\"   \n",
       "1  sCMVw2SJLy4               Live Show - Periodic Table of Videos   \n",
       "2  ZbdMMI6ty0o                       Why Are We Morbidly Curious?   \n",
       "3  nbuM0aJjVgE  The Mughal Empire and Historical Reputation: C...   \n",
       "4  McojvctVsUs  C++ Basics For Beginners | Learn C++ Programmi...   \n",
       "\n",
       "      channel_name  ln_vc_norm      truth       pred   pred_nlp  \n",
       "0         StarTalk   -4.226734   very low   very low  very high  \n",
       "1  Periodic Videos   -4.478711   very low   very low  very high  \n",
       "2           Vsauce   -0.807534  very high  very high  very high  \n",
       "3      CrashCourse   -1.519372  very high  very high  very high  \n",
       "4      Simplilearn   -4.466001   very low   very low   very low  "
      ]
     },
     "execution_count": 10,
     "metadata": {},
     "output_type": "execute_result"
    }
   ],
   "source": [
    "combo = img.merge(nlp.loc[:, [\"id_video\", \"pred\"]], how=\"left\", on=\"id_video\", suffixes=[\"\", \"_nlp\"])\n",
    "combo.head()"
   ]
  },
  {
   "cell_type": "code",
   "execution_count": 11,
   "id": "1a1dd7d3-8bfa-45ad-8847-0840e50d3b25",
   "metadata": {},
   "outputs": [],
   "source": [
    "cats = [\"very low\", \"very high\"]\n",
    "combo.pred = pd.Categorical(combo.pred, categories=cats, ordered=True)\n",
    "combo.pred_nlp = pd.Categorical(combo.pred_nlp, categories=cats, ordered=True)\n",
    "combo.truth = pd.Categorical(combo.truth, categories=cats, ordered=True)"
   ]
  },
  {
   "cell_type": "code",
   "execution_count": 12,
   "id": "f651041d-017a-4fb9-a819-67f32028bf53",
   "metadata": {},
   "outputs": [
    {
     "name": "stdout",
     "output_type": "stream",
     "text": [
      "<class 'pandas.core.frame.DataFrame'>\n",
      "Int64Index: 1932 entries, 0 to 1931\n",
      "Data columns (total 7 columns):\n",
      " #   Column        Non-Null Count  Dtype   \n",
      "---  ------        --------------  -----   \n",
      " 0   id_video      1932 non-null   object  \n",
      " 1   title         1932 non-null   object  \n",
      " 2   channel_name  1932 non-null   object  \n",
      " 3   ln_vc_norm    1932 non-null   float64 \n",
      " 4   truth         1932 non-null   category\n",
      " 5   pred          1932 non-null   category\n",
      " 6   pred_nlp      1932 non-null   category\n",
      "dtypes: category(3), float64(1), object(3)\n",
      "memory usage: 81.5+ KB\n"
     ]
    }
   ],
   "source": [
    "combo.info()"
   ]
  },
  {
   "cell_type": "code",
   "execution_count": 13,
   "id": "cda44e73-4f5f-4577-89cb-0b807cdfab4a",
   "metadata": {},
   "outputs": [],
   "source": [
    "combo[\"img_corr\"] = False\n",
    "combo[\"img_corr\"] = (combo.truth == combo.pred)\n",
    "combo[\"nlp_corr\"] = False\n",
    "combo[\"nlp_corr\"] = (combo.truth == combo.pred_nlp)"
   ]
  },
  {
   "cell_type": "code",
   "execution_count": 14,
   "id": "32d20f3f-24d7-4cc8-80eb-a58a5ab0b998",
   "metadata": {},
   "outputs": [
    {
     "data": {
      "text/html": [
       "<div>\n",
       "<style scoped>\n",
       "    .dataframe tbody tr th:only-of-type {\n",
       "        vertical-align: middle;\n",
       "    }\n",
       "\n",
       "    .dataframe tbody tr th {\n",
       "        vertical-align: top;\n",
       "    }\n",
       "\n",
       "    .dataframe thead th {\n",
       "        text-align: right;\n",
       "    }\n",
       "</style>\n",
       "<table border=\"1\" class=\"dataframe\">\n",
       "  <thead>\n",
       "    <tr style=\"text-align: right;\">\n",
       "      <th></th>\n",
       "      <th>id_video</th>\n",
       "      <th>title</th>\n",
       "      <th>channel_name</th>\n",
       "      <th>ln_vc_norm</th>\n",
       "      <th>truth</th>\n",
       "      <th>pred</th>\n",
       "      <th>pred_nlp</th>\n",
       "      <th>img_corr</th>\n",
       "      <th>nlp_corr</th>\n",
       "    </tr>\n",
       "  </thead>\n",
       "  <tbody>\n",
       "    <tr>\n",
       "      <th>0</th>\n",
       "      <td>1fyS5wqaAS8</td>\n",
       "      <td>\"Hey Bill Nye, Don't Forget the Dioxins!\"</td>\n",
       "      <td>StarTalk</td>\n",
       "      <td>-4.226734</td>\n",
       "      <td>very low</td>\n",
       "      <td>very low</td>\n",
       "      <td>very high</td>\n",
       "      <td>True</td>\n",
       "      <td>False</td>\n",
       "    </tr>\n",
       "    <tr>\n",
       "      <th>1</th>\n",
       "      <td>sCMVw2SJLy4</td>\n",
       "      <td>Live Show - Periodic Table of Videos</td>\n",
       "      <td>Periodic Videos</td>\n",
       "      <td>-4.478711</td>\n",
       "      <td>very low</td>\n",
       "      <td>very low</td>\n",
       "      <td>very high</td>\n",
       "      <td>True</td>\n",
       "      <td>False</td>\n",
       "    </tr>\n",
       "    <tr>\n",
       "      <th>2</th>\n",
       "      <td>ZbdMMI6ty0o</td>\n",
       "      <td>Why Are We Morbidly Curious?</td>\n",
       "      <td>Vsauce</td>\n",
       "      <td>-0.807534</td>\n",
       "      <td>very high</td>\n",
       "      <td>very high</td>\n",
       "      <td>very high</td>\n",
       "      <td>True</td>\n",
       "      <td>True</td>\n",
       "    </tr>\n",
       "    <tr>\n",
       "      <th>3</th>\n",
       "      <td>nbuM0aJjVgE</td>\n",
       "      <td>The Mughal Empire and Historical Reputation: C...</td>\n",
       "      <td>CrashCourse</td>\n",
       "      <td>-1.519372</td>\n",
       "      <td>very high</td>\n",
       "      <td>very high</td>\n",
       "      <td>very high</td>\n",
       "      <td>True</td>\n",
       "      <td>True</td>\n",
       "    </tr>\n",
       "    <tr>\n",
       "      <th>4</th>\n",
       "      <td>McojvctVsUs</td>\n",
       "      <td>C++ Basics For Beginners | Learn C++ Programmi...</td>\n",
       "      <td>Simplilearn</td>\n",
       "      <td>-4.466001</td>\n",
       "      <td>very low</td>\n",
       "      <td>very low</td>\n",
       "      <td>very low</td>\n",
       "      <td>True</td>\n",
       "      <td>True</td>\n",
       "    </tr>\n",
       "  </tbody>\n",
       "</table>\n",
       "</div>"
      ],
      "text/plain": [
       "      id_video                                              title  \\\n",
       "0  1fyS5wqaAS8          \"Hey Bill Nye, Don't Forget the Dioxins!\"   \n",
       "1  sCMVw2SJLy4               Live Show - Periodic Table of Videos   \n",
       "2  ZbdMMI6ty0o                       Why Are We Morbidly Curious?   \n",
       "3  nbuM0aJjVgE  The Mughal Empire and Historical Reputation: C...   \n",
       "4  McojvctVsUs  C++ Basics For Beginners | Learn C++ Programmi...   \n",
       "\n",
       "      channel_name  ln_vc_norm      truth       pred   pred_nlp  img_corr  \\\n",
       "0         StarTalk   -4.226734   very low   very low  very high      True   \n",
       "1  Periodic Videos   -4.478711   very low   very low  very high      True   \n",
       "2           Vsauce   -0.807534  very high  very high  very high      True   \n",
       "3      CrashCourse   -1.519372  very high  very high  very high      True   \n",
       "4      Simplilearn   -4.466001   very low   very low   very low      True   \n",
       "\n",
       "   nlp_corr  \n",
       "0     False  \n",
       "1     False  \n",
       "2      True  \n",
       "3      True  \n",
       "4      True  "
      ]
     },
     "execution_count": 14,
     "metadata": {},
     "output_type": "execute_result"
    }
   ],
   "source": [
    "combo.head()"
   ]
  },
  {
   "cell_type": "code",
   "execution_count": 15,
   "id": "9823d267-fdbc-4ad2-9156-fdaa99c24bda",
   "metadata": {},
   "outputs": [
    {
     "data": {
      "text/html": [
       "<div>\n",
       "<style scoped>\n",
       "    .dataframe tbody tr th:only-of-type {\n",
       "        vertical-align: middle;\n",
       "    }\n",
       "\n",
       "    .dataframe tbody tr th {\n",
       "        vertical-align: top;\n",
       "    }\n",
       "\n",
       "    .dataframe thead th {\n",
       "        text-align: right;\n",
       "    }\n",
       "</style>\n",
       "<table border=\"1\" class=\"dataframe\">\n",
       "  <thead>\n",
       "    <tr style=\"text-align: right;\">\n",
       "      <th></th>\n",
       "      <th>id_video</th>\n",
       "      <th>title</th>\n",
       "      <th>channel_name</th>\n",
       "      <th>ln_vc_norm</th>\n",
       "      <th>truth</th>\n",
       "      <th>pred</th>\n",
       "      <th>pred_nlp</th>\n",
       "      <th>img_corr</th>\n",
       "      <th>nlp_corr</th>\n",
       "    </tr>\n",
       "  </thead>\n",
       "  <tbody>\n",
       "    <tr>\n",
       "      <th>0</th>\n",
       "      <td>1fyS5wqaAS8</td>\n",
       "      <td>\"Hey Bill Nye, Don't Forget the Dioxins!\"</td>\n",
       "      <td>StarTalk</td>\n",
       "      <td>-4.226734</td>\n",
       "      <td>very low</td>\n",
       "      <td>very low</td>\n",
       "      <td>very high</td>\n",
       "      <td>True</td>\n",
       "      <td>False</td>\n",
       "    </tr>\n",
       "    <tr>\n",
       "      <th>1</th>\n",
       "      <td>sCMVw2SJLy4</td>\n",
       "      <td>Live Show - Periodic Table of Videos</td>\n",
       "      <td>Periodic Videos</td>\n",
       "      <td>-4.478711</td>\n",
       "      <td>very low</td>\n",
       "      <td>very low</td>\n",
       "      <td>very high</td>\n",
       "      <td>True</td>\n",
       "      <td>False</td>\n",
       "    </tr>\n",
       "    <tr>\n",
       "      <th>2</th>\n",
       "      <td>ZbdMMI6ty0o</td>\n",
       "      <td>Why Are We Morbidly Curious?</td>\n",
       "      <td>Vsauce</td>\n",
       "      <td>-0.807534</td>\n",
       "      <td>very high</td>\n",
       "      <td>very high</td>\n",
       "      <td>very high</td>\n",
       "      <td>True</td>\n",
       "      <td>True</td>\n",
       "    </tr>\n",
       "    <tr>\n",
       "      <th>3</th>\n",
       "      <td>nbuM0aJjVgE</td>\n",
       "      <td>The Mughal Empire and Historical Reputation: C...</td>\n",
       "      <td>CrashCourse</td>\n",
       "      <td>-1.519372</td>\n",
       "      <td>very high</td>\n",
       "      <td>very high</td>\n",
       "      <td>very high</td>\n",
       "      <td>True</td>\n",
       "      <td>True</td>\n",
       "    </tr>\n",
       "    <tr>\n",
       "      <th>4</th>\n",
       "      <td>McojvctVsUs</td>\n",
       "      <td>C++ Basics For Beginners | Learn C++ Programmi...</td>\n",
       "      <td>Simplilearn</td>\n",
       "      <td>-4.466001</td>\n",
       "      <td>very low</td>\n",
       "      <td>very low</td>\n",
       "      <td>very low</td>\n",
       "      <td>True</td>\n",
       "      <td>True</td>\n",
       "    </tr>\n",
       "  </tbody>\n",
       "</table>\n",
       "</div>"
      ],
      "text/plain": [
       "      id_video                                              title  \\\n",
       "0  1fyS5wqaAS8          \"Hey Bill Nye, Don't Forget the Dioxins!\"   \n",
       "1  sCMVw2SJLy4               Live Show - Periodic Table of Videos   \n",
       "2  ZbdMMI6ty0o                       Why Are We Morbidly Curious?   \n",
       "3  nbuM0aJjVgE  The Mughal Empire and Historical Reputation: C...   \n",
       "4  McojvctVsUs  C++ Basics For Beginners | Learn C++ Programmi...   \n",
       "\n",
       "      channel_name  ln_vc_norm      truth       pred   pred_nlp  img_corr  \\\n",
       "0         StarTalk   -4.226734   very low   very low  very high      True   \n",
       "1  Periodic Videos   -4.478711   very low   very low  very high      True   \n",
       "2           Vsauce   -0.807534  very high  very high  very high      True   \n",
       "3      CrashCourse   -1.519372  very high  very high  very high      True   \n",
       "4      Simplilearn   -4.466001   very low   very low   very low      True   \n",
       "\n",
       "   nlp_corr  \n",
       "0     False  \n",
       "1     False  \n",
       "2      True  \n",
       "3      True  \n",
       "4      True  "
      ]
     },
     "execution_count": 15,
     "metadata": {},
     "output_type": "execute_result"
    }
   ],
   "source": [
    "combo.head()"
   ]
  },
  {
   "cell_type": "code",
   "execution_count": 24,
   "id": "0856d2ff-0ec5-40bf-9c99-9bcf64429fcc",
   "metadata": {},
   "outputs": [
    {
     "data": {
      "image/png": "[encoded data removed]",
      "text/plain": [
       "<Figure size 432x288 with 2 Axes>"
      ]
     },
     "metadata": {
      "needs_background": "light"
     },
     "output_type": "display_data"
    }
   ],
   "source": [
    "g = combo.groupby(by=[\"img_corr\", \"nlp_corr\"], as_index=False).agg({\"id_video\": \"count\"})\n",
    "g.rename(columns={\"id_video\": \"n_videos\"}, inplace=True)\n",
    "p = g.pivot(index=\"img_corr\", columns=\"nlp_corr\", values=\"n_videos\")\n",
    "sb.heatmap(p, annot=True, fmt=\"d\")\n",
    "plt.xlabel(\"NLP model\")\n",
    "plt.ylabel(\"Vision model\")\n",
    "plt.title(\"Correct prediction by model\")\n",
    "plt.savefig(os.path.join(p_dir, \"model prediction correctness comparison.jpg\"))\n",
    "plt.show()"
   ]
  },
  {
   "cell_type": "code",
   "execution_count": 21,
   "id": "44c11346-3661-4f3f-a25c-3e9d606967a3",
   "metadata": {},
   "outputs": [
    {
     "name": "stdout",
     "output_type": "stream",
     "text": [
      "Correlation between models: 0.6098\n"
     ]
    }
   ],
   "source": [
    "combo[\"pred_img_b\"] = combo.pred == \"very high\"\n",
    "combo[\"pred_nlp_b\"] = combo.pred_nlp == \"very high\"\n",
    "corr = combo.pred_img_b.corr(combo.pred_nlp_b)\n",
    "print(\"Correlation between models: {:0.4f}\".format(corr))"
   ]
  },
  {
   "cell_type": "code",
   "execution_count": 25,
   "id": "517c21aa-7fb2-4598-bbfa-83e8d9dcf1b8",
   "metadata": {},
   "outputs": [
    {
     "data": {
      "image/png": "[encoded data removed]",
      "text/plain": [
       "<Figure size 432x288 with 2 Axes>"
      ]
     },
     "metadata": {
      "needs_background": "light"
     },
     "output_type": "display_data"
    }
   ],
   "source": [
    "g2 = combo.groupby(by=[\"pred\", \"pred_nlp\"], as_index=False).agg({\"id_video\": \"count\"})\n",
    "g2.rename(columns={\"id_video\": \"n_videos\"}, inplace=True)\n",
    "p = g2.pivot(index=\"pred\", columns=\"pred_nlp\", values=\"n_videos\")\n",
    "sb.heatmap(p, annot=True, fmt=\"d\")\n",
    "plt.xlabel(\"NLP model\")\n",
    "plt.ylabel(\"Vision model\")\n",
    "plt.title(\"Prediction by model\")\n",
    "plt.savefig(os.path.join(p_dir, \"model prediction comparison.jpg\"))\n",
    "plt.show()"
   ]
  }
 ],
 "metadata": {
  "environment": {
   "name": "tf2-gpu.2-6.m80",
   "type": "gcloud",
   "uri": "gcr.io/deeplearning-platform-release/tf2-gpu.2-6:m80"
  },
  "kernelspec": {
   "display_name": "Python 3",
   "language": "python",
   "name": "python3"
  },
  "language_info": {
   "codemirror_mode": {
    "name": "ipython",
    "version": 3
   },
   "file_extension": ".py",
   "mimetype": "text/x-python",
   "name": "python",
   "nbconvert_exporter": "python",
   "pygments_lexer": "ipython3",
   "version": "3.7.10"
  }
 },
 "nbformat": 4,
 "nbformat_minor": 5
}
