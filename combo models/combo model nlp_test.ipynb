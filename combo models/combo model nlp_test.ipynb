{
 "cells": [
  {
   "cell_type": "code",
   "execution_count": 116,
   "id": "f9bfd1fc",
   "metadata": {},
   "outputs": [],
   "source": [
    "import os\n",
    "import pandas as pd\n",
    "import numpy as np\n",
    "from sklearn.preprocessing import LabelBinarizer, OneHotEncoder, LabelEncoder\n",
    "from sklearn.model_selection import train_test_split\n",
    "import matplotlib.pyplot as plt\n",
    "from keras.preprocessing.image import ImageDataGenerator, load_img, img_to_array, array_to_img\n",
    "from keras.models import Sequential, Model, load_model\n",
    "from keras.layers import Dense, Dropout, Activation, Flatten, Conv2D, MaxPooling2D, BatchNormalization, Concatenate, Reshape, AveragePooling2D\n",
    "from keras.layers import Input, Bidirectional, GlobalMaxPool1D, LSTM\n",
    "from keras.applications.densenet import DenseNet121, preprocess_input\n",
    "from keras import Input\n",
    "from keras.initializers import he_normal\n",
    "from keras.callbacks import EarlyStopping, ModelCheckpoint\n",
    "from transformers import DistilBertTokenizer, TFDistilBertModel, DistilBertConfig\n",
    "from bs4 import BeautifulSoup\n",
    "from nltk.corpus import stopwords\n",
    "import nltk\n",
    "from PIL import Image\n",
    "from tensorflow.keras.optimizers import Adam, RMSprop\n",
    "from shutil import rmtree, copyfile\n",
    "from itertools import cycle\n",
    "from sklearn.metrics import confusion_matrix, accuracy_score, precision_score, recall_score, f1_score, classification_report, roc_curve, auc, average_precision_score\n",
    "import seaborn as sb\n",
    "import tensorflow as tf\n",
    "import matplotlib.cm as cm\n",
    "import re\n",
    "from tensorflow.keras.utils import Sequence"
   ]
  },
  {
   "cell_type": "markdown",
   "id": "bcdffdbf",
   "metadata": {},
   "source": [
    "# Project variables"
   ]
  },
  {
   "cell_type": "code",
   "execution_count": 117,
   "id": "c66b699d",
   "metadata": {},
   "outputs": [],
   "source": [
    "m_name = \"combo model nlp_test\"\n",
    "p_dir = os.path.join(\"../combo models\", m_name)"
   ]
  },
  {
   "cell_type": "code",
   "execution_count": 118,
   "id": "32dc8236",
   "metadata": {},
   "outputs": [],
   "source": [
    "def create_dir(dir_path: str):\n",
    "    if not os.path.exists(dir_path):\n",
    "        os.mkdir(dir_path)"
   ]
  },
  {
   "cell_type": "code",
   "execution_count": 119,
   "id": "a2c4cf03",
   "metadata": {},
   "outputs": [],
   "source": [
    "def clear_dir(dir_path: str):\n",
    "    for item in os.listdir(dir_path):\n",
    "        fp = os.path.join(dir_path, item)\n",
    "        if os.path.isfile(fp):\n",
    "            os.remove(fp)\n",
    "        if os.path.isdir(fp):\n",
    "            rmtree(fp)"
   ]
  },
  {
   "cell_type": "code",
   "execution_count": 120,
   "id": "93b206d7",
   "metadata": {},
   "outputs": [],
   "source": [
    "create_dir(p_dir)\n",
    "clear_dir(p_dir)"
   ]
  },
  {
   "cell_type": "markdown",
   "id": "96c25593",
   "metadata": {},
   "source": [
    "# Read and transform scraped dataframes"
   ]
  },
  {
   "cell_type": "code",
   "execution_count": 121,
   "id": "14a296d2",
   "metadata": {},
   "outputs": [],
   "source": [
    "fp = \"../scraped data\"\n",
    "\n",
    "channels = pd.read_pickle(os.path.join(fp, \"channels.pkl\"))\n",
    "videos = pd.read_pickle(os.path.join(fp, \"videos.pkl\"))"
   ]
  },
  {
   "cell_type": "code",
   "execution_count": 122,
   "id": "15921549",
   "metadata": {},
   "outputs": [],
   "source": [
    "def transform_channels(df: pd.DataFrame) -> pd.DataFrame:\n",
    "    # Date string into proper date\n",
    "    df.published = pd.to_datetime(df.published)\n",
    "    \n",
    "    # Convert field type into int64\n",
    "    fields = [\"video_count\", \"view_count\"]\n",
    "    df.loc[:, fields] = df.loc[:, fields].astype(\"int64\")\n",
    "    \n",
    "    # Convert field type into float64\n",
    "    fields = [\"subscriber_count\"]\n",
    "    df.loc[:, fields] = df.loc[:, fields].astype(\"float64\")\n",
    "    \n",
    "    # Add of channel in months\n",
    "    df[\"age_mth\"] = (pd.to_datetime(\"today\", utc=True).year - df.published.dt.year) * 12 \\\n",
    "        + (pd.to_datetime(\"today\", utc=True).month - df.published.dt.month)\n",
    "        \n",
    "    # Drop unnecessary fields\n",
    "    df.drop(columns=[\"custom_url\", \"country\"] + [c for c in df.columns if c.startswith(\"thumbnail\")], inplace=True)\n",
    "    \n",
    "    # Remove channels without subscriber_count\n",
    "    df = df.loc[df.subscriber_count.notnull(), :]\n",
    "    \n",
    "    return df"
   ]
  },
  {
   "cell_type": "code",
   "execution_count": 123,
   "id": "8953baa9",
   "metadata": {},
   "outputs": [],
   "source": [
    "def transform_videos(df: pd.DataFrame) -> pd.DataFrame:    \n",
    "    # Date string into proper date\n",
    "    df.published = pd.to_datetime(df.published)\n",
    "    \n",
    "    # Convert field type to bool\n",
    "    fields = [\"broadcast\"]\n",
    "    df.loc[:, fields] = df.loc[:, fields].astype(\"bool\")\n",
    "    \n",
    "    # Convert field type into int64\n",
    "    fields = [\"category_id\"]\n",
    "    df.loc[:, fields] = df.loc[:, fields].astype(\"int64\")\n",
    "    \n",
    "    # Convert field type into float64\n",
    "    fields = [\"comment_count\", \"dislike_count\", \"like_count\", \"view_count\"]\n",
    "    df.loc[:, fields] = df.loc[:, fields].astype(\"float64\")\n",
    "    \n",
    "    df[\"published_mth\"] = (pd.to_datetime(\"today\", utc=True).year - df.published.dt.year) * 12 \\\n",
    "        + (pd.to_datetime(\"today\", utc=True).month - df.published.dt.month)\n",
    "    df[\"title_len\"] = df.title.str.len()\n",
    "    \n",
    "    df.drop(columns=[\"favorite_count\", \"broadcast\", \"audio_language\", \"comment_count\", \"category_id\"] \\\n",
    "            + [c for c in df.columns if c.startswith(\"thumbnail\")], inplace=True)\n",
    "    \n",
    "    df = df.loc[df.like_count.notnull() & df.dislike_count.notnull() & df.view_count.notnull(), :]\n",
    "    \n",
    "    return df"
   ]
  },
  {
   "cell_type": "code",
   "execution_count": 124,
   "id": "19374c77",
   "metadata": {},
   "outputs": [],
   "source": [
    "channels_trans = transform_channels(channels)\n",
    "videos_trans = transform_videos(videos)\n",
    "combo = videos_trans.merge(channels_trans[[\"id\", \"view_count\",\"published\", \"age_mth\", \"subscriber_count\",\n",
    "                                             \"video_count\"]], \n",
    "                           how=\"inner\", left_on=\"channel_id\", right_on=\"id\", suffixes=[\"_video\", \"_channel\"])\n",
    "combo[\"ln_vc_norm\"] = np.log(combo.view_count_video / combo.subscriber_count)"
   ]
  },
  {
   "cell_type": "markdown",
   "id": "a48d800c",
   "metadata": {},
   "source": [
    "# Define categories"
   ]
  },
  {
   "cell_type": "code",
   "execution_count": 125,
   "id": "dc9529bb",
   "metadata": {},
   "outputs": [
    {
     "data": {
      "image/png": "[encoded data removed]",
      "text/plain": [
       "<Figure size 432x288 with 1 Axes>"
      ]
     },
     "metadata": {
      "needs_background": "light"
     },
     "output_type": "display_data"
    }
   ],
   "source": [
    "cat_lbl = [\"very low\", \"low\", \"high\", \"very high\"]\n",
    "combo.loc[:, \"qtl\"] = pd.qcut(combo.ln_vc_norm, len(cat_lbl), labels=cat_lbl, precision=6)\n",
    "combo.sort_values(by=[\"qtl\"]).qtl.hist()\n",
    "plt.title(\"Counts of classes\")\n",
    "plt.show()"
   ]
  },
  {
   "cell_type": "markdown",
   "id": "26808f50",
   "metadata": {},
   "source": [
    "# Split dataset (use only top and bottom quartile data)"
   ]
  },
  {
   "cell_type": "code",
   "execution_count": 126,
   "id": "d8ecc83a",
   "metadata": {},
   "outputs": [
    {
     "name": "stdout",
     "output_type": "stream",
     "text": [
      "5793 1931 1932\n"
     ]
    }
   ],
   "source": [
    "cat_lbl = [\"very low\", \"very high\"]\n",
    "combo = combo.loc[combo.qtl.isin(cat_lbl)]\n",
    "combo.qtl = combo.qtl.cat.remove_unused_categories()\n",
    "\n",
    "y = combo.qtl\n",
    "x = combo.loc[:, [c for c in combo.columns if c != \"qtl\"]]\n",
    "\n",
    "x_train, x_test, y_train, y_test = train_test_split(x, y, test_size=0.2, random_state=42)\n",
    "x_train, x_val, y_train, y_val = train_test_split(x_train, y_train, test_size=0.25, random_state=4711)\n",
    "\n",
    "x_train.to_pickle(os.path.join(p_dir, \"x_train.pkl\"))\n",
    "y_train.to_pickle(os.path.join(p_dir, \"y_train.pkl\"))\n",
    "x_val.to_pickle(os.path.join(p_dir,\"x_val.pkl\"))\n",
    "y_val.to_pickle(os.path.join(p_dir, \"y_val.pkl\"))\n",
    "x_test.to_pickle(os.path.join(p_dir,\"x_test.pkl\"))\n",
    "y_test.to_pickle(os.path.join(p_dir, \"y_test.pkl\"))\n",
    "\n",
    "print(x_train.shape[0], x_val.shape[0], x_test.shape[0])"
   ]
  },
  {
   "cell_type": "markdown",
   "id": "443e829a",
   "metadata": {
    "tags": []
   },
   "source": [
    "# Build the model"
   ]
  },
  {
   "cell_type": "code",
   "execution_count": 127,
   "id": "5516971f",
   "metadata": {},
   "outputs": [],
   "source": [
    "def create_img_model():\n",
    "    \n",
    "    inp = Input(shape=(120, 90, 3))\n",
    "    \n",
    "    base_model = DenseNet121(weights=\"imagenet\", include_top=False, input_tensor=inp)\n",
    "    base_model.trainable = False\n",
    "    x = base_model.output\n",
    "    \n",
    "    x = AveragePooling2D()(x)\n",
    "    x = BatchNormalization()(x)\n",
    "    x = Flatten()(x)\n",
    "    x = Dropout(0.5)(x)\n",
    "    x = Dense(1024, activation=\"relu\")(x)\n",
    "    x = Dense(256, activation=\"relu\")(x)\n",
    "    x = BatchNormalization()(x)\n",
    "    x = Dropout(0.5)(x)\n",
    "    out = Dense(len(cat_lbl), activation=\"sigmoid\")(x)\n",
    "    \n",
    "    model = Model(base_model.input, out)\n",
    "    \n",
    "    return model"
   ]
  },
  {
   "cell_type": "code",
   "execution_count": 128,
   "id": "c6156b82-fe3b-4501-8f96-1aaa2a6b95c2",
   "metadata": {},
   "outputs": [],
   "source": [
    "pt_model = \"distilbert-base-uncased\""
   ]
  },
  {
   "cell_type": "code",
   "execution_count": 129,
   "id": "ca6b4084-7caf-4d15-b3b9-d972743ed0d3",
   "metadata": {},
   "outputs": [],
   "source": [
    "def create_nlp_model():\n",
    "    \n",
    "    config = DistilBertConfig(dropout=0.2, attention_dropout=0.2)\n",
    "    config.output_hidden_states=False\n",
    "    transformer_model = TFDistilBertModel.from_pretrained(pt_model, config=config)\n",
    "\n",
    "    in_ids = Input(shape=(100,), name=\"input_token\", dtype=\"int32\")\n",
    "    in_masks = Input(shape=(100,), name=\"masked_token\", dtype=\"int32\")\n",
    "\n",
    "    emb = transformer_model(in_ids, attention_mask=in_masks)[0]\n",
    "    x = Bidirectional(LSTM(50, return_sequences=True, dropout=0.1, recurrent_dropout=0))(emb)\n",
    "    x = GlobalMaxPool1D()(x)\n",
    "    x = Flatten()(x)\n",
    "    x = Dense(50, activation=\"relu\")(x)\n",
    "    x = Dropout(0.2)(x)\n",
    "    x = Dense(2, activation=\"softmax\")(x)\n",
    "    model = Model(inputs=[in_ids, in_masks], outputs=x)\n",
    "        \n",
    "    return model"
   ]
  },
  {
   "cell_type": "code",
   "execution_count": 142,
   "id": "de1b70eb-082b-4744-86fb-2b3c4af99273",
   "metadata": {},
   "outputs": [],
   "source": [
    "def create_model():\n",
    "    \n",
    "    # Load nlp model with weights and remove last layer\n",
    "    m_name = \"distilbert_2_classes_v3\"\n",
    "    model = create_nlp_model()\n",
    "    model.load_weights(\"../nlp models/{a}/{a}\".format(a=m_name))\n",
    "    for layer in model.layers[:-1]:\n",
    "        layer.trainable = False\n",
    "    \n",
    "    model.compile(loss='categorical_crossentropy',\n",
    "                  optimizer=Adam(learning_rate=0.00005),\n",
    "                  metrics=[\"accuracy\"])\n",
    "    \n",
    "    return model    "
   ]
  },
  {
   "cell_type": "code",
   "execution_count": 143,
   "id": "0e384558-78e1-412a-a537-0aac814ae55e",
   "metadata": {},
   "outputs": [
    {
     "name": "stderr",
     "output_type": "stream",
     "text": [
      "Some layers from the model checkpoint at distilbert-base-uncased were not used when initializing TFDistilBertModel: ['vocab_layer_norm', 'vocab_transform', 'activation_13', 'vocab_projector']\n",
      "- This IS expected if you are initializing TFDistilBertModel from the checkpoint of a model trained on another task or with another architecture (e.g. initializing a BertForSequenceClassification model from a BertForPreTraining model).\n",
      "- This IS NOT expected if you are initializing TFDistilBertModel from the checkpoint of a model that you expect to be exactly identical (initializing a BertForSequenceClassification model from a BertForSequenceClassification model).\n",
      "All the layers of TFDistilBertModel were initialized from the model checkpoint at distilbert-base-uncased.\n",
      "If your task is similar to the task the model of the checkpoint was trained on, you can already use TFDistilBertModel for predictions without further training.\n"
     ]
    }
   ],
   "source": [
    "model = create_model()"
   ]
  },
  {
   "cell_type": "code",
   "execution_count": 144,
   "id": "effd4c73-bed6-4ded-8590-42ba00e0c34a",
   "metadata": {},
   "outputs": [
    {
     "name": "stdout",
     "output_type": "stream",
     "text": [
      "Model: \"model_3\"\n",
      "__________________________________________________________________________________________________\n",
      "Layer (type)                    Output Shape         Param #     Connected to                     \n",
      "==================================================================================================\n",
      "input_token (InputLayer)        [(None, 100)]        0                                            \n",
      "__________________________________________________________________________________________________\n",
      "masked_token (InputLayer)       [(None, 100)]        0                                            \n",
      "__________________________________________________________________________________________________\n",
      "tf_distil_bert_model_3 (TFDisti TFBaseModelOutput(la 66362880    input_token[0][0]                \n",
      "                                                                 masked_token[0][0]               \n",
      "__________________________________________________________________________________________________\n",
      "bidirectional_3 (Bidirectional) (None, 100, 100)     327600      tf_distil_bert_model_3[0][0]     \n",
      "__________________________________________________________________________________________________\n",
      "global_max_pooling1d_3 (GlobalM (None, 100)          0           bidirectional_3[0][0]            \n",
      "__________________________________________________________________________________________________\n",
      "flatten_3 (Flatten)             (None, 100)          0           global_max_pooling1d_3[0][0]     \n",
      "__________________________________________________________________________________________________\n",
      "dense_6 (Dense)                 (None, 50)           5050        flatten_3[0][0]                  \n",
      "__________________________________________________________________________________________________\n",
      "dropout_79 (Dropout)            (None, 50)           0           dense_6[0][0]                    \n",
      "__________________________________________________________________________________________________\n",
      "dense_7 (Dense)                 (None, 2)            102         dropout_79[0][0]                 \n",
      "==================================================================================================\n",
      "Total params: 66,695,632\n",
      "Trainable params: 102\n",
      "Non-trainable params: 66,695,530\n",
      "__________________________________________________________________________________________________\n"
     ]
    }
   ],
   "source": [
    "model.summary()"
   ]
  },
  {
   "cell_type": "markdown",
   "id": "4dd75641-d27b-409c-ba7c-075acfa8e6c7",
   "metadata": {},
   "source": [
    "# Text preprocessing and tokenization"
   ]
  },
  {
   "cell_type": "code",
   "execution_count": 133,
   "id": "294830d4-097e-496c-aab1-f13180acb447",
   "metadata": {},
   "outputs": [],
   "source": [
    "def preprocessing_sentence(txt: str, remove_stopwords: bool=False) -> str:\n",
    "    field = \"title\"\n",
    "    stw = set(stopwords.words(\"english\"))\n",
    "    \n",
    "    def cleanse_row(txt, field, stw, stopwords=False):\n",
    "        # Remove HTML from text\n",
    "        soup = BeautifulSoup(txt)\n",
    "        txt = soup.get_text()\n",
    "        \n",
    "        # Remove stopwords\n",
    "        if stopwords:\n",
    "            txt = \" \".join([w for w in txt.split() if w not in stw])\n",
    "        \n",
    "        return txt\n",
    "    \n",
    "    txt = cleanse_row(txt, field, stw, remove_stopwords)\n",
    "    return txt"
   ]
  },
  {
   "cell_type": "code",
   "execution_count": 134,
   "id": "6685c059-bffe-40f6-968d-5bd5d31e484a",
   "metadata": {},
   "outputs": [
    {
     "name": "stderr",
     "output_type": "stream",
     "text": [
      "[nltk_data] Downloading package stopwords to\n",
      "[nltk_data]     /home/jupyter/nltk_data...\n",
      "[nltk_data]   Package stopwords is already up-to-date!\n"
     ]
    },
    {
     "data": {
      "text/plain": [
       "True"
      ]
     },
     "execution_count": 134,
     "metadata": {},
     "output_type": "execute_result"
    }
   ],
   "source": [
    "# Download the stopwork corpus\n",
    "nltk.download('stopwords')"
   ]
  },
  {
   "cell_type": "code",
   "execution_count": 135,
   "id": "1d66e307-e3fa-4461-bc2d-ffed317aeadb",
   "metadata": {},
   "outputs": [],
   "source": [
    "remove_stopwords = False\n",
    "\n",
    "def preprocess_sentences(x: pd.DataFrame, remove_stopwords: bool=False) -> list():\n",
    "    x_pp = preprocessing_sentence(x, remove_stopwords)\n",
    "    x_pp = x_pp.tolist()\n",
    "    return x_pp"
   ]
  },
  {
   "cell_type": "code",
   "execution_count": 136,
   "id": "1455a8e7-f61a-4921-9dc4-252ee9504165",
   "metadata": {},
   "outputs": [],
   "source": [
    "tok = DistilBertTokenizer.from_pretrained(pt_model, do_lower=True, add_special_tokens=True, max_length=100, pad_to_max_length=True)"
   ]
  },
  {
   "cell_type": "code",
   "execution_count": 137,
   "id": "4a91bb92-dc4a-4c7b-894a-a007cb9f6e1c",
   "metadata": {},
   "outputs": [],
   "source": [
    "def tokenize(sentence, tokenizer):\n",
    "    input_ids, input_masks, input_segments = [], [], []\n",
    "    \n",
    "    inputs = tokenizer.encode_plus(sentence, add_special_tokens=True, max_length=100, padding=\"max_length\", return_attention_mask=True, \n",
    "                                   return_token_type_ids=True)\n",
    "    input_ids.append(inputs[\"input_ids\"])\n",
    "    input_masks.append(inputs[\"attention_mask\"])\n",
    "    input_segments.append(inputs[\"token_type_ids\"])\n",
    "        \n",
    "    return np.asarray(input_ids, dtype=\"int32\"), np.asarray(input_masks, dtype=\"int32\"), np.asarray(input_segments, dtype=\"int32\")"
   ]
  },
  {
   "cell_type": "markdown",
   "id": "21e490ae",
   "metadata": {},
   "source": [
    "# Prepare DataGenerators"
   ]
  },
  {
   "cell_type": "code",
   "execution_count": 138,
   "id": "9736cf11-2035-4d4c-9606-02c946714d23",
   "metadata": {},
   "outputs": [],
   "source": [
    "class TkDataGenerator(Sequence):\n",
    "    def __init__(self, df, img_col, txt_col, y_col, img_dir, img_pp_func, txt_pp_func, tok_func, tokenizer, lb, batch_size=32, shuffle=True):\n",
    "        self.batch_size = batch_size\n",
    "        self.df = df\n",
    "        self.indices = self.df.index.tolist()\n",
    "        self.shuffle = shuffle\n",
    "        self.img_pp_func = img_pp_func\n",
    "        self.txt_pp_func = txt_pp_func\n",
    "        self.tok_func = tok_func\n",
    "        self.tokenizer = tokenizer\n",
    "        self.lb = lb\n",
    "        self.img_col = img_col\n",
    "        self.txt_col = txt_col\n",
    "        self.y_col = y_col\n",
    "        self.lb = lb\n",
    "        self.img_dir = img_dir\n",
    "        self.on_epoch_end()\n",
    "\n",
    "    def __len__(self):\n",
    "        return len(self.indices) // self.batch_size\n",
    "\n",
    "    def __getitem__(self, index):\n",
    "        index = self.index[index * self.batch_size:(index + 1) * self.batch_size]\n",
    "        batch = [self.indices[k] for k in index]\n",
    "        \n",
    "        x1, x2, x3, y = self.__get_data(batch)\n",
    "        return (x2, x3), y\n",
    "\n",
    "    def on_epoch_end(self):\n",
    "        self.index = np.arange(len(self.indices))\n",
    "        if self.shuffle == True:\n",
    "            np.random.shuffle(self.index)\n",
    "\n",
    "    def __get_data(self, batch):\n",
    "        x1 = np.empty((self.batch_size, *(90, 120, 3)), dtype=\"float32\")\n",
    "        x2 = np.empty((self.batch_size, 100), dtype=\"int32\")\n",
    "        x3 = np.empty((self.batch_size, 100), dtype=\"int32\")\n",
    "        y = np.empty((self.batch_size, 2), dtype=\"float32\")\n",
    "        \n",
    "        for i, i_df in enumerate(batch):\n",
    "            img = load_img(os.path.join(img_dir, \"{}.jpg\".format(self.df.loc[i_df, self.img_col])), target_size=(90, 120))\n",
    "            img = self.img_pp_func(np.array(img)).astype(\"float32\")\n",
    "            pp = self.txt_pp_func(self.df.loc[i_df, self.txt_col])\n",
    "            t1, t2, t3 = self.tok_func(pp, self.tokenizer)\n",
    "            \n",
    "            x1[i] = img\n",
    "            x2[i] = t1\n",
    "            x3[i] = t2\n",
    "            y[i] = np.array([int(l == self.df.loc[i_df, self.y_col]) for l in self.lb])\n",
    "            \n",
    "        return x1, x2, x3, y"
   ]
  },
  {
   "cell_type": "code",
   "execution_count": 139,
   "id": "d6e00350",
   "metadata": {},
   "outputs": [],
   "source": [
    "def train_generator(X, y, img_dir, lb, batch_size):\n",
    "    combo = pd.concat([X, y], axis=\"columns\")\n",
    "    combo[\"file_name\"] = combo.id_video + \".jpg\"\n",
    "    datagen = TkDataGenerator(df=combo, \n",
    "                              img_col=\"id_video\", \n",
    "                              txt_col=\"title\",\n",
    "                              y_col=\"qtl\",\n",
    "                              img_dir=img_dir, \n",
    "                              img_pp_func=preprocess_input, \n",
    "                              txt_pp_func=preprocessing_sentence, \n",
    "                              tok_func=tokenize,\n",
    "                              tokenizer=tok, \n",
    "                              lb=lb,\n",
    "                              batch_size=batch_size, \n",
    "                              shuffle=True)\n",
    "    return datagen\n",
    "\n",
    "def val_generator(X, y, img_dir, lb, batch_size):\n",
    "    combo = pd.concat([X, y], axis=\"columns\")\n",
    "    combo[\"file_name\"] = combo.id_video + \".jpg\"\n",
    "    datagen = TkDataGenerator(df=combo, \n",
    "                              img_col=\"id_video\", \n",
    "                              txt_col=\"title\",\n",
    "                              y_col=\"qtl\",\n",
    "                              img_dir=img_dir, \n",
    "                              img_pp_func=preprocess_input, \n",
    "                              txt_pp_func=preprocessing_sentence, \n",
    "                              tok_func=tokenize,\n",
    "                              tokenizer=tok, \n",
    "                              lb=lb,\n",
    "                              batch_size=batch_size, \n",
    "                              shuffle=True)\n",
    "    return datagen\n",
    "\n",
    "def test_generator(X, y, img_dir, lb):\n",
    "    combo = pd.concat([X, y], axis=\"columns\")\n",
    "    combo[\"file_name\"] = combo.id_video + \".jpg\"\n",
    "    datagen = TkDataGenerator(df=combo, \n",
    "                              img_col=\"id_video\", \n",
    "                              txt_col=\"title\",\n",
    "                              y_col=\"qtl\",\n",
    "                              img_dir=img_dir, \n",
    "                              img_pp_func=preprocess_input, \n",
    "                              txt_pp_func=preprocessing_sentence, \n",
    "                              tok_func=tokenize,\n",
    "                              tokenizer=tok, \n",
    "                              lb=lb,\n",
    "                              batch_size=1, \n",
    "                              shuffle=False)\n",
    "    return datagen"
   ]
  },
  {
   "cell_type": "markdown",
   "id": "a7b6430b",
   "metadata": {},
   "source": [
    "# Train the model"
   ]
  },
  {
   "cell_type": "code",
   "execution_count": 140,
   "id": "d045b7a4-9add-45f8-84db-14937396c6e7",
   "metadata": {},
   "outputs": [],
   "source": [
    "class mybinarizer:\n",
    "    \n",
    "    def transform(self, s: pd.Series, cats: list) -> np.ndarray:\n",
    "        d = list()\n",
    "        for i, v in enumerate(s):\n",
    "            d.append([l == v for l in cats])\n",
    "        return np.array(d, dtype=\"int32\")\n",
    "    \n",
    "    def reverse_transform(self, arr: np.ndarray) -> pd.Series:\n",
    "        d = list()\n",
    "        for i, v in enumerate(arr):\n",
    "            ct = 0\n",
    "            for j in v:\n",
    "                if j == 1:\n",
    "                    d.append(cat_lbl[ct])\n",
    "                    continue\n",
    "                ct += 1\n",
    "        return pd.Series(d, name=\"qtl\")"
   ]
  },
  {
   "cell_type": "code",
   "execution_count": 145,
   "id": "b7c51d1c",
   "metadata": {},
   "outputs": [
    {
     "name": "stdout",
     "output_type": "stream",
     "text": [
      "Epoch 1/200\n",
      "WARNING:tensorflow:Unresolved object in checkpoint: (root).optimizer.iter\n",
      "WARNING:tensorflow:Unresolved object in checkpoint: (root).optimizer.beta_1\n",
      "WARNING:tensorflow:Unresolved object in checkpoint: (root).optimizer.beta_2\n",
      "WARNING:tensorflow:Unresolved object in checkpoint: (root).optimizer.decay\n",
      "WARNING:tensorflow:Unresolved object in checkpoint: (root).optimizer.learning_rate\n",
      "WARNING:tensorflow:Unresolved object in checkpoint: (root).optimizer's state 'm' for (root).layer_with_weights-2.kernel\n",
      "WARNING:tensorflow:Unresolved object in checkpoint: (root).optimizer's state 'm' for (root).layer_with_weights-2.bias\n",
      "WARNING:tensorflow:Unresolved object in checkpoint: (root).optimizer's state 'm' for (root).layer_with_weights-3.kernel\n",
      "WARNING:tensorflow:Unresolved object in checkpoint: (root).optimizer's state 'm' for (root).layer_with_weights-3.bias\n",
      "WARNING:tensorflow:Unresolved object in checkpoint: (root).optimizer's state 'm' for (root).layer_with_weights-1.forward_layer.cell.kernel\n",
      "WARNING:tensorflow:Unresolved object in checkpoint: (root).optimizer's state 'm' for (root).layer_with_weights-1.forward_layer.cell.recurrent_kernel\n",
      "WARNING:tensorflow:Unresolved object in checkpoint: (root).optimizer's state 'm' for (root).layer_with_weights-1.forward_layer.cell.bias\n",
      "WARNING:tensorflow:Unresolved object in checkpoint: (root).optimizer's state 'm' for (root).layer_with_weights-1.backward_layer.cell.kernel\n",
      "WARNING:tensorflow:Unresolved object in checkpoint: (root).optimizer's state 'm' for (root).layer_with_weights-1.backward_layer.cell.recurrent_kernel\n",
      "WARNING:tensorflow:Unresolved object in checkpoint: (root).optimizer's state 'm' for (root).layer_with_weights-1.backward_layer.cell.bias\n",
      "WARNING:tensorflow:Unresolved object in checkpoint: (root).optimizer's state 'v' for (root).layer_with_weights-2.kernel\n",
      "WARNING:tensorflow:Unresolved object in checkpoint: (root).optimizer's state 'v' for (root).layer_with_weights-2.bias\n",
      "WARNING:tensorflow:Unresolved object in checkpoint: (root).optimizer's state 'v' for (root).layer_with_weights-3.kernel\n",
      "WARNING:tensorflow:Unresolved object in checkpoint: (root).optimizer's state 'v' for (root).layer_with_weights-3.bias\n",
      "WARNING:tensorflow:Unresolved object in checkpoint: (root).optimizer's state 'v' for (root).layer_with_weights-1.forward_layer.cell.kernel\n",
      "WARNING:tensorflow:Unresolved object in checkpoint: (root).optimizer's state 'v' for (root).layer_with_weights-1.forward_layer.cell.recurrent_kernel\n",
      "WARNING:tensorflow:Unresolved object in checkpoint: (root).optimizer's state 'v' for (root).layer_with_weights-1.forward_layer.cell.bias\n",
      "WARNING:tensorflow:Unresolved object in checkpoint: (root).optimizer's state 'v' for (root).layer_with_weights-1.backward_layer.cell.kernel\n",
      "WARNING:tensorflow:Unresolved object in checkpoint: (root).optimizer's state 'v' for (root).layer_with_weights-1.backward_layer.cell.recurrent_kernel\n",
      "WARNING:tensorflow:Unresolved object in checkpoint: (root).optimizer's state 'v' for (root).layer_with_weights-1.backward_layer.cell.bias\n",
      "WARNING:tensorflow:A checkpoint was restored (e.g. tf.train.Checkpoint.restore or tf.keras.Model.load_weights) but not all checkpointed values were used. See above for specific issues. Use expect_partial() on the load status object, e.g. tf.train.Checkpoint.restore(...).expect_partial(), to silence these warnings, or use assert_consumed() to make the check explicit. See https://www.tensorflow.org/guide/checkpoint#loading_mechanics for details.\n",
      "181/181 [==============================] - 35s 158ms/step - loss: 0.2604 - accuracy: 0.8923 - val_loss: 0.3012 - val_accuracy: 0.8734\n",
      "\n",
      "Epoch 00001: val_loss improved from inf to 0.30115, saving model to ../combo models/combo model nlp_test/combo model nlp_test\n",
      "Epoch 2/200\n",
      "181/181 [==============================] - 28s 153ms/step - loss: 0.2634 - accuracy: 0.8947 - val_loss: 0.3010 - val_accuracy: 0.8734\n",
      "\n",
      "Epoch 00002: val_loss improved from 0.30115 to 0.30102, saving model to ../combo models/combo model nlp_test/combo model nlp_test\n",
      "Epoch 3/200\n",
      "181/181 [==============================] - 28s 156ms/step - loss: 0.2628 - accuracy: 0.8933 - val_loss: 0.3001 - val_accuracy: 0.8745\n",
      "\n",
      "Epoch 00003: val_loss improved from 0.30102 to 0.30013, saving model to ../combo models/combo model nlp_test/combo model nlp_test\n",
      "Epoch 4/200\n",
      "181/181 [==============================] - 28s 154ms/step - loss: 0.2556 - accuracy: 0.8971 - val_loss: 0.3032 - val_accuracy: 0.8734\n",
      "\n",
      "Epoch 00004: val_loss did not improve from 0.30013\n",
      "Epoch 5/200\n",
      "181/181 [==============================] - 28s 154ms/step - loss: 0.2644 - accuracy: 0.8900 - val_loss: 0.3030 - val_accuracy: 0.8734\n",
      "\n",
      "Epoch 00005: val_loss did not improve from 0.30013\n",
      "Epoch 6/200\n",
      "181/181 [==============================] - 28s 154ms/step - loss: 0.2598 - accuracy: 0.8966 - val_loss: 0.3036 - val_accuracy: 0.8740\n",
      "\n",
      "Epoch 00006: val_loss did not improve from 0.30013\n",
      "Epoch 7/200\n",
      "181/181 [==============================] - 28s 154ms/step - loss: 0.2558 - accuracy: 0.8954 - val_loss: 0.3038 - val_accuracy: 0.8740\n",
      "\n",
      "Epoch 00007: val_loss did not improve from 0.30013\n",
      "Epoch 8/200\n",
      "181/181 [==============================] - 28s 154ms/step - loss: 0.2516 - accuracy: 0.9004 - val_loss: 0.3030 - val_accuracy: 0.8755\n",
      "\n",
      "Epoch 00008: val_loss did not improve from 0.30013\n"
     ]
    }
   ],
   "source": [
    "img_dir = \"../images\"\n",
    "batch_size = 32\n",
    "\n",
    "train_gen = train_generator(x_train, y_train, img_dir, cat_lbl, batch_size)\n",
    "val_gen = val_generator(x_val, y_val, img_dir, cat_lbl, batch_size)\n",
    "\n",
    "\n",
    "# lb = mybinarizer()\n",
    "# y_train_b = lb.transform(y_train, cat_lbl)\n",
    "# y_val_b = lb.transform(y_val, cat_lbl)\n",
    "\n",
    "metric = \"val_loss\"\n",
    "\n",
    "es = EarlyStopping(monitor=metric, \n",
    "                   mode=\"min\", \n",
    "                   patience=5, \n",
    "                   restore_best_weights=True)\n",
    "\n",
    "checkpoint = ModelCheckpoint(os.path.join(p_dir, \"{}\".format(m_name)), \n",
    "                             monitor=metric, \n",
    "                             verbose=2, \n",
    "                             save_best_only=True, \n",
    "                             save_weights_only=True, \n",
    "                             mode='min')\n",
    "\n",
    "hist = model.fit(train_gen,\n",
    "                 epochs=200,\n",
    "                 validation_data=val_gen,\n",
    "                 verbose=1,\n",
    "                 callbacks=[checkpoint, es])"
   ]
  },
  {
   "cell_type": "code",
   "execution_count": 147,
   "id": "5455af64",
   "metadata": {},
   "outputs": [
    {
     "data": {
      "image/png": "[encoded data removed]",
      "text/plain": [
       "<Figure size 432x288 with 2 Axes>"
      ]
     },
     "metadata": {
      "needs_background": "light"
     },
     "output_type": "display_data"
    }
   ],
   "source": [
    "fig, axs = plt.subplots(1, 2)\n",
    "\n",
    "axs[0].plot(hist.history[\"accuracy\"])\n",
    "axs[0].plot(hist.history[\"val_accuracy\"])\n",
    "axs[0].set_title(\"model accuracy\")\n",
    "axs[0].set_ylabel(\"accuracy\")\n",
    "axs[0].set_xlabel(\"epoch\")\n",
    "axs[0].set_ylim(0, 1)\n",
    "axs[0].legend([\"train\", \"val\"], loc=\"upper left\")\n",
    "\n",
    "axs[1].plot(hist.history[\"loss\"])\n",
    "axs[1].plot(hist.history[\"val_loss\"])\n",
    "axs[1].set_title(\"model loss\")\n",
    "axs[1].set_ylabel(\"loss\")\n",
    "axs[1].set_xlabel(\"epoch\")\n",
    "axs[1].set_ylim(0, 1)\n",
    "axs[1].legend([\"train\", \"val\"], loc=\"upper left\")\n",
    "\n",
    "plt.tight_layout()\n",
    "plt.show()\n",
    "fig.savefig(os.path.join(p_dir, \"accuracy_loss.jpg\"))"
   ]
  },
  {
   "cell_type": "markdown",
   "id": "97534e98",
   "metadata": {},
   "source": [
    "# Sample images per category"
   ]
  },
  {
   "cell_type": "code",
   "execution_count": 97,
   "id": "c14320ea",
   "metadata": {},
   "outputs": [
    {
     "data": {
      "image/png": "[encoded data removed]",
      "text/plain": [
       "<Figure size 432x288 with 10 Axes>"
      ]
     },
     "metadata": {},
     "output_type": "display_data"
    }
   ],
   "source": [
    "s = combo.loc[combo[\"id_video\"].isin(x_train[\"id_video\"]), [\"id_video\", \"qtl\"]].groupby(\"qtl\", as_index=False).apply(lambda x: x.sample(5, random_state=15))\n",
    "\n",
    "n_images = 5\n",
    "fig, axs = plt.subplots(len(cat_lbl), n_images)\n",
    "i = 0\n",
    "\n",
    "for idx, row in s.iterrows():\n",
    "    img = Image.open(os.path.join(img_dir, \"{}.jpg\".format(row[\"id_video\"])))\n",
    "    axs[i // n_images, i % n_images].imshow(img)\n",
    "    axs[i // n_images, i % n_images].xaxis.set_ticklabels([])\n",
    "    axs[i // n_images, i % n_images].xaxis.set_ticks([])\n",
    "    axs[i // n_images, i % n_images].set_xlabel(row[\"qtl\"])\n",
    "    axs[i // n_images, i % n_images].yaxis.set_ticklabels([])\n",
    "    axs[i // n_images, i % n_images].yaxis.set_ticks([])\n",
    "    i += 1\n",
    "plt.tight_layout()\n",
    "plt.suptitle(\"Sample images - training data\")\n",
    "plt.show()\n",
    "fig.savefig(os.path.join(p_dir, \"sample_images.jpg\"))"
   ]
  },
  {
   "cell_type": "markdown",
   "id": "0cecd621",
   "metadata": {},
   "source": [
    "# Confusion matrix"
   ]
  },
  {
   "cell_type": "code",
   "execution_count": 98,
   "id": "66b08f4b",
   "metadata": {},
   "outputs": [
    {
     "data": {
      "text/plain": [
       "<tensorflow.python.training.tracking.util.CheckpointLoadStatus at 0x7f1f7fd81c90>"
      ]
     },
     "execution_count": 98,
     "metadata": {},
     "output_type": "execute_result"
    }
   ],
   "source": [
    "# model = load_model(os.path.join(p_dir, \"{}\".format(m_name)))\n",
    "model.load_weights(os.path.join(p_dir, \"{}\".format(m_name)))"
   ]
  },
  {
   "cell_type": "markdown",
   "id": "1887bc28-f86d-4760-bfa4-f773f08138c7",
   "metadata": {},
   "source": [
    "## Validation dataset (in_sample)"
   ]
  },
  {
   "cell_type": "code",
   "execution_count": 101,
   "id": "83a82f3b-8d65-495a-bcab-506af3588452",
   "metadata": {},
   "outputs": [
    {
     "ename": "AttributeError",
     "evalue": "'TkDataGenerator' object has no attribute 'class_indices'",
     "output_type": "error",
     "traceback": [
      "\u001b[0;31m---------------------------------------------------------------------------\u001b[0m",
      "\u001b[0;31mAttributeError\u001b[0m                            Traceback (most recent call last)",
      "\u001b[0;32m/tmp/ipykernel_3072/2604460841.py\u001b[0m in \u001b[0;36m<module>\u001b[0;34m\u001b[0m\n\u001b[1;32m      6\u001b[0m \u001b[0my_val_prob\u001b[0m \u001b[0;34m=\u001b[0m \u001b[0mmodel\u001b[0m\u001b[0;34m.\u001b[0m\u001b[0mpredict\u001b[0m\u001b[0;34m(\u001b[0m\u001b[0mval_gen\u001b[0m\u001b[0;34m,\u001b[0m \u001b[0msteps\u001b[0m\u001b[0;34m=\u001b[0m\u001b[0my_val\u001b[0m\u001b[0;34m.\u001b[0m\u001b[0mshape\u001b[0m\u001b[0;34m[\u001b[0m\u001b[0;36m0\u001b[0m\u001b[0;34m]\u001b[0m\u001b[0;34m)\u001b[0m\u001b[0;34m\u001b[0m\u001b[0;34m\u001b[0m\u001b[0m\n\u001b[1;32m      7\u001b[0m \u001b[0my_pred\u001b[0m \u001b[0;34m=\u001b[0m \u001b[0mnp\u001b[0m\u001b[0;34m.\u001b[0m\u001b[0margmax\u001b[0m\u001b[0;34m(\u001b[0m\u001b[0my_val_prob\u001b[0m\u001b[0;34m,\u001b[0m \u001b[0maxis\u001b[0m\u001b[0;34m=\u001b[0m\u001b[0;36m1\u001b[0m\u001b[0;34m)\u001b[0m\u001b[0;34m\u001b[0m\u001b[0;34m\u001b[0m\u001b[0m\n\u001b[0;32m----> 8\u001b[0;31m \u001b[0mcls_lbl\u001b[0m \u001b[0;34m=\u001b[0m \u001b[0mdict\u001b[0m\u001b[0;34m(\u001b[0m\u001b[0;34m[\u001b[0m\u001b[0;34m(\u001b[0m\u001b[0mv\u001b[0m\u001b[0;34m,\u001b[0m \u001b[0mk\u001b[0m\u001b[0;34m)\u001b[0m \u001b[0;32mfor\u001b[0m \u001b[0mk\u001b[0m\u001b[0;34m,\u001b[0m \u001b[0mv\u001b[0m \u001b[0;32min\u001b[0m \u001b[0mval_gen\u001b[0m\u001b[0;34m.\u001b[0m\u001b[0mclass_indices\u001b[0m\u001b[0;34m.\u001b[0m\u001b[0mitems\u001b[0m\u001b[0;34m(\u001b[0m\u001b[0;34m)\u001b[0m\u001b[0;34m]\u001b[0m\u001b[0;34m)\u001b[0m\u001b[0;34m\u001b[0m\u001b[0;34m\u001b[0m\u001b[0m\n\u001b[0m\u001b[1;32m      9\u001b[0m \u001b[0my_pred\u001b[0m \u001b[0;34m=\u001b[0m \u001b[0mpd\u001b[0m\u001b[0;34m.\u001b[0m\u001b[0mSeries\u001b[0m\u001b[0;34m(\u001b[0m\u001b[0;34m[\u001b[0m\u001b[0mcls_lbl\u001b[0m\u001b[0;34m[\u001b[0m\u001b[0mi\u001b[0m\u001b[0;34m]\u001b[0m \u001b[0;32mfor\u001b[0m \u001b[0mi\u001b[0m \u001b[0;32min\u001b[0m \u001b[0my_pred\u001b[0m\u001b[0;34m]\u001b[0m\u001b[0;34m)\u001b[0m\u001b[0;34m.\u001b[0m\u001b[0mastype\u001b[0m\u001b[0;34m(\u001b[0m\u001b[0;34m\"category\"\u001b[0m\u001b[0;34m)\u001b[0m\u001b[0;34m.\u001b[0m\u001b[0mcat\u001b[0m\u001b[0;34m.\u001b[0m\u001b[0mreorder_categories\u001b[0m\u001b[0;34m(\u001b[0m\u001b[0mcat_lbl\u001b[0m\u001b[0;34m)\u001b[0m\u001b[0;34m\u001b[0m\u001b[0;34m\u001b[0m\u001b[0m\n",
      "\u001b[0;31mAttributeError\u001b[0m: 'TkDataGenerator' object has no attribute 'class_indices'"
     ]
    }
   ],
   "source": [
    "img_dir = \"../images\"\n",
    "\n",
    "x_val = pd.read_pickle(os.path.join(p_dir, \"x_val.pkl\"))\n",
    "y_val = pd.read_pickle(os.path.join(p_dir, \"y_val.pkl\"))\n",
    "val_gen = test_generator(x_val, y_val, img_dir, lb)\n",
    "y_val_prob = model.predict(val_gen, steps=y_val.shape[0])\n",
    "y_pred = np.argmax(y_val_prob, axis=1)\n",
    "cls_lbl = dict([(v, k) for k, v in val_gen.class_indices.items()])\n",
    "y_pred = pd.Series([cls_lbl[i] for i in y_pred]).astype(\"category\").cat.reorder_categories(cat_lbl)"
   ]
  },
  {
   "cell_type": "code",
   "execution_count": null,
   "id": "6330c228-ea8c-49a8-a757-5bdf0908496f",
   "metadata": {},
   "outputs": [],
   "source": [
    "cmtx = confusion_matrix(y_val, y_pred)\n",
    "sb.heatmap(cmtx, annot=True, fmt=\"d\", xticklabels=y_val.cat.categories, yticklabels=y_pred.cat.categories)\n",
    "plt.xlabel(\"True class\")\n",
    "plt.ylabel(\"Predicted class\")\n",
    "plt.title(\"Confusion matrix - validation set\")\n",
    "plt.savefig(os.path.join(p_dir, \"confusion_matrix_val.jpg\"))\n",
    "plt.show()\n",
    "\n",
    "print(\"Accuracy: {:0.2f}\".format(accuracy_score(y_val, y_pred)))\n",
    "\n",
    "print(\"Micro precision: {:0.2f}\".format(precision_score(y_val, y_pred, average=\"micro\")))\n",
    "print(\"Micro recall: {:0.2f}\".format(recall_score(y_val, y_pred, average=\"micro\")))\n",
    "print(\"Micro F1-score: {:0.2f}\".format(f1_score(y_val, y_pred, average=\"micro\")))\n",
    "\n",
    "print(\"Macro precision: {:0.2f}\".format(precision_score(y_val, y_pred, average=\"macro\")))\n",
    "print(\"Macro recall: {:0.2f}\".format(recall_score(y_val, y_pred, average=\"macro\")))\n",
    "print(\"Macro F1-score: {:0.2f}\".format(f1_score(y_val, y_pred, average=\"macro\")))\n",
    "\n",
    "print(\"Weighted precision: {:0.2f}\".format(precision_score(y_val, y_pred, average=\"weighted\")))\n",
    "print(\"Weighted recall: {:0.2f}\".format(recall_score(y_val, y_pred, average=\"weighted\")))\n",
    "print(\"Weighted F1-score: {:0.2f}\".format(f1_score(y_val, y_pred, average=\"weighted\")))\n",
    "\n",
    "print(classification_report(y_val, y_pred, target_names=cat_lbl))"
   ]
  },
  {
   "cell_type": "markdown",
   "id": "8c1a4591-f74b-4e48-a957-1de50f3672f3",
   "metadata": {},
   "source": [
    "## Test dataset (out-of_sample)"
   ]
  },
  {
   "cell_type": "code",
   "execution_count": null,
   "id": "996bfb85",
   "metadata": {},
   "outputs": [],
   "source": [
    "img_dir = \"../images\"\n",
    "\n",
    "x_test = pd.read_pickle(os.path.join(p_dir, \"x_test.pkl\"))\n",
    "y_test = pd.read_pickle(os.path.join(p_dir, \"y_test.pkl\"))\n",
    "test_gen = test_generator(x_test, y_test, img_dir)\n",
    "y_pred_prob = model.predict(test_gen, steps=y_test.shape[0])\n",
    "y_pred = np.argmax(y_pred_prob, axis=1)\n",
    "cls_lbl = dict([(v, k) for k, v in test_gen.class_indices.items()])\n",
    "y_pred = pd.Series([cls_lbl[i] for i in y_pred]).astype(\"category\").cat.reorder_categories(cat_lbl)"
   ]
  },
  {
   "cell_type": "code",
   "execution_count": null,
   "id": "eacdd373",
   "metadata": {},
   "outputs": [],
   "source": [
    "cmtx = confusion_matrix(y_test, y_pred)\n",
    "sb.heatmap(cmtx, annot=True, fmt=\"d\", xticklabels=y_test.cat.categories, yticklabels=y_pred.cat.categories)\n",
    "plt.xlabel(\"True class\")\n",
    "plt.ylabel(\"Predicted class\")\n",
    "plt.title(\"Confusion matrix - test set (out-of-sample)\")\n",
    "plt.savefig(os.path.join(p_dir, \"confusion_matrix.jpg\"))\n",
    "plt.show()\n",
    "\n",
    "print(\"Accuracy: {:0.2f}\".format(accuracy_score(y_test, y_pred)))\n",
    "\n",
    "print(\"Micro precision: {:0.2f}\".format(precision_score(y_test, y_pred, average=\"micro\")))\n",
    "print(\"Micro recall: {:0.2f}\".format(recall_score(y_test, y_pred, average=\"micro\")))\n",
    "print(\"Micro F1-score: {:0.2f}\".format(f1_score(y_test, y_pred, average=\"micro\")))\n",
    "\n",
    "print(\"Macro precision: {:0.2f}\".format(precision_score(y_test, y_pred, average=\"macro\")))\n",
    "print(\"Macro recall: {:0.2f}\".format(recall_score(y_test, y_pred, average=\"macro\")))\n",
    "print(\"Macro F1-score: {:0.2f}\".format(f1_score(y_test, y_pred, average=\"macro\")))\n",
    "\n",
    "print(\"Weighted precision: {:0.2f}\".format(precision_score(y_test, y_pred, average=\"weighted\")))\n",
    "print(\"Weighted recall: {:0.2f}\".format(recall_score(y_test, y_pred, average=\"weighted\")))\n",
    "print(\"Weighted F1-score: {:0.2f}\".format(f1_score(y_test, y_pred, average=\"weighted\")))\n",
    "\n",
    "print(classification_report(y_test, y_pred, target_names=cat_lbl))"
   ]
  },
  {
   "cell_type": "code",
   "execution_count": null,
   "id": "579c9068-68fd-4f27-87c2-c87d98ccc75c",
   "metadata": {},
   "outputs": [],
   "source": [
    "s = combo.loc[combo[\"id_video\"].isin(x_val[\"id_video\"]), [\"id_video\", \"qtl\"]].groupby(\"qtl\", as_index=False).apply(lambda x: x.sample(5, random_state=118))\n",
    "\n",
    "n_images = 5\n",
    "fig, axs = plt.subplots(len(cat_lbl), n_images)\n",
    "i = 0\n",
    "\n",
    "for idx, row in s.iterrows():\n",
    "    img = Image.open(os.path.join(img_dir, \"{}.jpg\".format(row[\"id_video\"])))\n",
    "    axs[i // n_images, i % n_images].imshow(img)\n",
    "    axs[i // n_images, i % n_images].xaxis.set_ticklabels([])\n",
    "    axs[i // n_images, i % n_images].xaxis.set_ticks([])\n",
    "    axs[i // n_images, i % n_images].set_xlabel(row[\"qtl\"])\n",
    "    axs[i // n_images, i % n_images].yaxis.set_ticklabels([])\n",
    "    axs[i // n_images, i % n_images].yaxis.set_ticks([])\n",
    "    i += 1\n",
    "plt.tight_layout()\n",
    "plt.suptitle(\"Sample images - test data\")\n",
    "plt.show()\n",
    "fig.savefig(os.path.join(p_dir, \"sample_images_val.jpg\"))"
   ]
  },
  {
   "cell_type": "markdown",
   "id": "573ffed6-dd9c-4415-94d3-5491b42dac4f",
   "metadata": {},
   "source": [
    "# ROC Curve"
   ]
  },
  {
   "cell_type": "markdown",
   "id": "27752c8a-b9f5-4d69-8d22-1cb5e40d7487",
   "metadata": {},
   "source": [
    "## Validation dataset (in sample)"
   ]
  },
  {
   "cell_type": "code",
   "execution_count": null,
   "id": "6eda5977-ddcf-499e-853d-c3a7f794078d",
   "metadata": {},
   "outputs": [],
   "source": [
    "lb = LabelBinarizer()\n",
    "y_val_no = lb.fit_transform(y_val)\n",
    "y_pred_no = y_val_prob[:, 1]\n",
    "fpr, tpr, thr = roc_curve(y_val_no, y_pred_no)"
   ]
  },
  {
   "cell_type": "code",
   "execution_count": null,
   "id": "01b11426-e347-4c06-8071-52e20494cf81",
   "metadata": {},
   "outputs": [],
   "source": [
    "auc_model = auc(fpr, tpr)\n",
    "mavgp = average_precision_score(y_val_no, y_pred_no)\n",
    "\n",
    "plt.plot([0, 1], [0, 1], \"k--\")\n",
    "plt.plot(fpr, tpr, label=\"Model (auc={:0.4f}, mean avg. prec={:0.4f})\".format(auc_model, mavgp))\n",
    "plt.xlabel(\"False positive rate\")\n",
    "plt.ylabel(\"True positive rate\")\n",
    "plt.title(\"ROC curve - validation dataset\")\n",
    "plt.legend()\n",
    "plt.savefig(os.path.join(p_dir, \"roc-curve_val.jpg\"))\n",
    "plt.show()"
   ]
  },
  {
   "cell_type": "markdown",
   "id": "c63f88ad-5143-4045-b889-93e387325bdf",
   "metadata": {},
   "source": [
    "## Test dataset (out-of-sample)"
   ]
  },
  {
   "cell_type": "code",
   "execution_count": null,
   "id": "983768b9-1697-4ca4-8a77-2da60082b3a4",
   "metadata": {},
   "outputs": [],
   "source": [
    "lb = LabelBinarizer()\n",
    "y_test_no = lb.fit_transform(y_test)\n",
    "y_pred_no = y_pred_prob[:,  1]\n",
    "fpr, tpr, thr = roc_curve(y_test_no, y_pred_no)"
   ]
  },
  {
   "cell_type": "code",
   "execution_count": null,
   "id": "2b05c8ee-f16a-46ae-ad4e-844c21c1f64c",
   "metadata": {},
   "outputs": [],
   "source": [
    "auc_model = auc(fpr, tpr)\n",
    "mavgp = average_precision_score(y_test_no, y_pred_no)\n",
    "\n",
    "plt.plot([0, 1], [0, 1], \"k--\")\n",
    "plt.plot(fpr, tpr, label=\"Model (auc={:0.4f}, mean avg. prec={:0.4f})\".format(auc_model, mavgp))\n",
    "plt.xlabel(\"False positive rate\")\n",
    "plt.ylabel(\"True positive rate\")\n",
    "plt.title(\"ROC curve - test set (out-of-sample)\")\n",
    "plt.legend()\n",
    "plt.savefig(os.path.join(p_dir, \"roc-curve.jpg\"))\n",
    "plt.show()"
   ]
  },
  {
   "cell_type": "markdown",
   "id": "67cc9a87-5b9b-484d-b4e7-e113e8f0034b",
   "metadata": {},
   "source": [
    "# Class probability histograms"
   ]
  },
  {
   "cell_type": "markdown",
   "id": "01f6b939-43a9-4a4f-83dc-5b1e4da809e1",
   "metadata": {},
   "source": [
    "## Without middle classes"
   ]
  },
  {
   "cell_type": "code",
   "execution_count": null,
   "id": "cab4610d-e640-4971-998a-3c94ba6a648d",
   "metadata": {},
   "outputs": [],
   "source": [
    "m0 = y_test_no[:, 0] == 0\n",
    "c0 = y_pred_prob[m0, 1]\n",
    "m1 = y_test_no[:, 0] == 1\n",
    "c1 = y_pred_prob[m1, 1]\n",
    "\n",
    "plt.hist(c0, alpha=0.3, bins=20)\n",
    "plt.hist(c1, color=\"red\", alpha=0.3, bins=20)\n",
    "plt.title(\"Histogram\")\n",
    "plt.legend(cat_lbl, loc=\"upper center\")\n",
    "plt.savefig(os.path.join(p_dir, \"histogram.jpg\"))\n",
    "plt.show()"
   ]
  },
  {
   "cell_type": "markdown",
   "id": "c12b7cc5-d4aa-45e6-9497-18397a15b380",
   "metadata": {},
   "source": [
    "## Including middle classes"
   ]
  },
  {
   "cell_type": "code",
   "execution_count": null,
   "id": "937ab4f0-92ab-4e87-ae93-78e0fcfa0173",
   "metadata": {},
   "outputs": [],
   "source": [
    "cat_lbl2 = [\"very low\", \"low\", \"high\", \"very high\"]\n",
    "combo2 = combo.copy()\n",
    "combo2.loc[:, \"qtl\"] = pd.qcut(combo.ln_vc_norm, len(cat_lbl2), labels=cat_lbl2, precision=6)"
   ]
  },
  {
   "cell_type": "code",
   "execution_count": null,
   "id": "3ee3e2df-84b0-4d3d-8097-7965b348148e",
   "metadata": {},
   "outputs": [],
   "source": [
    "combo2 = combo2.loc[combo2.qtl.isin([\"low\", \"high\"]), :]\n",
    "combo2.qtl = combo2.qtl.cat.remove_unused_categories()\n",
    "\n",
    "y2 = combo2.qtl\n",
    "x2 = combo2.loc[:, [c for c in combo2.columns if c != \"qtl\"]]\n",
    "\n",
    "x_train2, x_test2, y_train2, y_test2 = train_test_split(x2, y2, test_size=0.2, random_state=42)\n",
    "x_train2, x_val2, y_train2, y_val2 = train_test_split(x_train2, y_train2, test_size=0.25, random_state=4711)\n",
    "\n",
    "print(x_train2.shape[0], x_val2.shape[0], x_test2.shape[0])"
   ]
  },
  {
   "cell_type": "code",
   "execution_count": null,
   "id": "ff790bef-c8ea-4d73-85df-3c1701d1e46d",
   "metadata": {},
   "outputs": [],
   "source": [
    "test_gen2 = test_generator(x_test2, y_test2, img_dir)\n",
    "y_pred_prob2 = model.predict(test_gen2, steps=y_test2.shape[0])\n",
    "y_pred2 = np.argmax(y_pred_prob2, axis=1)\n",
    "cls_lbl = dict([(v, k) for k, v in test_gen.class_indices.items()])\n",
    "y_pred2 = pd.Series([cls_lbl[i] for i in y_pred2]).astype(\"category\").cat.reorder_categories(cat_lbl)"
   ]
  },
  {
   "cell_type": "code",
   "execution_count": null,
   "id": "46607bae-e787-4846-aaa0-7e9e9702f683",
   "metadata": {},
   "outputs": [],
   "source": [
    "m0 = y_test_no[:, 0] == 0\n",
    "c0 = y_pred_prob[m0, 1]\n",
    "m1 = y_test_no[:, 0] == 1\n",
    "c1 = y_pred_prob[m1, 1]\n",
    "\n",
    "m3 = y_test2 == \"low\"\n",
    "c2 = y_pred_prob2[m3, 0]\n",
    "\n",
    "m4 = y_test2 == \"high\"\n",
    "c3 = y_pred_prob2[m4, 0]\n",
    "\n",
    "plt.hist(c0, alpha=0.3, label=\"\", bins=20)\n",
    "plt.hist(c1, color=\"red\", alpha=0.3, label=\"\", bins=20)\n",
    "plt.hist(c2, color=\"green\", alpha=0.3, label=\"\", bins=20)\n",
    "plt.hist(c3, color=\"yellow\", alpha=0.3, label=\"\", bins=20)\n",
    "plt.title(\"Histogram incl. middle classes\")\n",
    "plt.legend(cat_lbl + [\"low\", \"high\"], loc=\"upper center\")\n",
    "plt.savefig(os.path.join(p_dir, \"histogram_w_medium.jpg\"))\n",
    "plt.show()"
   ]
  },
  {
   "cell_type": "markdown",
   "id": "cd08e5a1",
   "metadata": {},
   "source": [
    "# Grad-CAM class activation visualization"
   ]
  },
  {
   "cell_type": "code",
   "execution_count": null,
   "id": "df4b16a0",
   "metadata": {},
   "outputs": [],
   "source": [
    "def get_img_array(img_path, size):\n",
    "    img = load_img(img_path, target_size=size)\n",
    "    array = img_to_array(img)\n",
    "    array = np.expand_dims(array, axis=0)\n",
    "    return array\n",
    "\n",
    "\n",
    "def make_gradcam_heatmap(img_array, model, last_conv_layer_name, pred_index=None):\n",
    "    grad_model = Model(\n",
    "        [model.inputs], [model.get_layer(last_conv_layer_name).output, model.output]\n",
    "    )\n",
    "\n",
    "    with tf.GradientTape() as tape:\n",
    "        last_conv_layer_output, preds = grad_model(img_array)\n",
    "        if pred_index is None:\n",
    "            pred_index = tf.argmax(preds[0])\n",
    "        class_channel = preds[:, pred_index]\n",
    "\n",
    "    grads = tape.gradient(class_channel, last_conv_layer_output)\n",
    "\n",
    "    pooled_grads = tf.reduce_mean(grads, axis=(0, 1, 2))\n",
    "\n",
    "    last_conv_layer_output = last_conv_layer_output[0]\n",
    "    heatmap = last_conv_layer_output @ pooled_grads[..., tf.newaxis]\n",
    "    heatmap = tf.squeeze(heatmap)\n",
    "\n",
    "    heatmap = tf.maximum(heatmap, 0) / tf.math.reduce_max(heatmap)\n",
    "    return heatmap.numpy()\n",
    "\n",
    "def create_gradcam(img_path, heatmap, cam_path=\"cam.jpg\", alpha=0.4):\n",
    "    img = load_img(img_path)\n",
    "    img = img_to_array(img)\n",
    "\n",
    "    heatmap = np.uint8(255 * heatmap)\n",
    "\n",
    "    jet = cm.get_cmap(\"jet\")\n",
    "\n",
    "    jet_colors = jet(np.arange(256))[:, :3]\n",
    "    jet_heatmap = jet_colors[heatmap]\n",
    "\n",
    "    jet_heatmap = array_to_img(jet_heatmap)\n",
    "    jet_heatmap = jet_heatmap.resize((img.shape[1], img.shape[0]))\n",
    "    jet_heatmap = img_to_array(jet_heatmap)\n",
    "\n",
    "    superimposed_img = jet_heatmap * alpha + img\n",
    "    superimposed_img = array_to_img(superimposed_img)\n",
    "\n",
    "    return superimposed_img"
   ]
  },
  {
   "cell_type": "code",
   "execution_count": null,
   "id": "a862cdf0",
   "metadata": {},
   "outputs": [],
   "source": [
    "def cam_image(img_dir, id_video, last_cl, alpha=0.4, pred_class:str=\"low\"):\n",
    "    img_path = os.path.join(img_dir, \"{}.jpg\".format(row[\"id_video\"]))\n",
    "    img_array = get_img_array(img_path, size=(120, 90))\n",
    "    model.layers[-1].activation = None\n",
    "    preds = model.predict(img_array)\n",
    "    pred_idx = cat_lbl.index(pred_class)\n",
    "    heatmap = make_gradcam_heatmap(img_array, model, last_cl, pred_idx)\n",
    "    img = create_gradcam(img_path, heatmap, os.path.join(p_dir, \"cam_{}.jpg\".format(row[\"id_video\"])), alpha)\n",
    "    return img"
   ]
  },
  {
   "cell_type": "code",
   "execution_count": null,
   "id": "602d9f86-4b5b-449b-9f3f-ccf56cf0ee9a",
   "metadata": {},
   "outputs": [],
   "source": [
    "p = re.compile(\"conv\\d+_block\\d+_concat\")\n",
    "p2 = re.compile(\"conv(\\d+)_block(\\d+)_concat\")\n",
    "conv_layers = dict()\n",
    "for layer in model.layers:\n",
    "    if p.match(layer.name):\n",
    "        m = p2.search(layer.name)\n",
    "        if m:\n",
    "            conv_layers[m.group(1)] = m.group(2)"
   ]
  },
  {
   "cell_type": "code",
   "execution_count": null,
   "id": "976b5d14",
   "metadata": {},
   "outputs": [],
   "source": [
    "target_names = [\"conv{}_block{}_concat\".format(k, v) for k, v in conv_layers.items()]\n",
    "for layer in model.layers:\n",
    "    if layer.name in target_names:        \n",
    "        alpha = 0.8\n",
    "\n",
    "        fig, axs = plt.subplots(len(cat_lbl), 5)\n",
    "        i = 0\n",
    "        for idx, row in s.iterrows():\n",
    "            img_path = os.path.join(img_dir, \"{}.jpg\".format(row[\"id_video\"]))\n",
    "            img = cam_image(img_dir, row[\"id_video\"], layer.name, alpha, row[\"qtl\"])\n",
    "            axs[i // 5, i % 5].imshow(img)\n",
    "            axs[i // 5, i % 5].xaxis.set_ticklabels([])\n",
    "            axs[i // 5, i % 5].xaxis.set_ticks([])\n",
    "            axs[i // 5, i % 5].set_xlabel(row[\"qtl\"])\n",
    "            axs[i // 5, i % 5].yaxis.set_ticklabels([])\n",
    "            axs[i // 5, i % 5].yaxis.set_ticks([])\n",
    "            i += 1\n",
    "        plt.suptitle(\"Layer: {}\".format(layer.name))\n",
    "        plt.tight_layout()        \n",
    "        plt.show()\n",
    "        fig.savefig(os.path.join(p_dir, \"cam_sample_{}.jpg\".format(layer.name)))"
   ]
  },
  {
   "cell_type": "markdown",
   "id": "c5f0bd1e-f54f-47be-aa54-2e9ff1db9163",
   "metadata": {},
   "source": [
    "# 20 sample images for survey"
   ]
  },
  {
   "cell_type": "code",
   "execution_count": null,
   "id": "1c07ea79-ad54-4cb6-b023-30d5a2a7557e",
   "metadata": {},
   "outputs": [],
   "source": [
    "survey = combo.loc[combo[\"id_video\"].isin(x_val[\"id_video\"]), [\"id_video\", \"qtl\"]].groupby(\"qtl\", as_index=False).apply(lambda x: x.sample(10, random_state=57))\n",
    "survey = survey.sample(frac=1)\n",
    "\n",
    "print(survey.shape)\n",
    "\n",
    "s_dir = os.path.join(\"../img models\", m_name, \"survey images\")\n",
    "create_dir(s_dir)\n",
    "clear_dir(s_dir)\n",
    "\n",
    "for idx, row in survey.iterrows():\n",
    "    copyfile(os.path.join(img_dir, \"{}.jpg\".format(row[\"id_video\"])), os.path.join(s_dir, \"{}_{}.jpg\".format(row[\"id_video\"], row[\"qtl\"])))"
   ]
  },
  {
   "cell_type": "markdown",
   "id": "67d83357-5231-4a7d-8fc2-bf698281250a",
   "metadata": {
    "tags": []
   },
   "source": [
    "# Save test set pre"
   ]
  },
  {
   "cell_type": "code",
   "execution_count": null,
   "id": "9ad72b1f-fc5b-4b45-8b86-5d4ef73758dc",
   "metadata": {},
   "outputs": [],
   "source": [
    "y_pred_test = pd.Series(y_pred, name=\"y_pred_test\")\n",
    "y_pred_test.to_pickle(os.path.join(p_dir, \"y_pred_test.pkl\"))"
   ]
  }
 ],
 "metadata": {
  "environment": {
   "name": "tf2-gpu.2-6.m80",
   "type": "gcloud",
   "uri": "gcr.io/deeplearning-platform-release/tf2-gpu.2-6:m80"
  },
  "kernelspec": {
   "display_name": "Python 3",
   "language": "python",
   "name": "python3"
  },
  "language_info": {
   "codemirror_mode": {
    "name": "ipython",
    "version": 3
   },
   "file_extension": ".py",
   "mimetype": "text/x-python",
   "name": "python",
   "nbconvert_exporter": "python",
   "pygments_lexer": "ipython3",
   "version": "3.7.10"
  }
 },
 "nbformat": 4,
 "nbformat_minor": 5
}
