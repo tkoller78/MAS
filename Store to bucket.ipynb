{
 "cells": [
  {
   "cell_type": "code",
   "execution_count": 1,
   "id": "22bea6cb-a986-4294-ad11-091a51a2a80e",
   "metadata": {},
   "outputs": [],
   "source": [
    "from google.cloud import storage"
   ]
  },
  {
   "cell_type": "code",
   "execution_count": 2,
   "id": "d236de98-0435-4357-8ddc-68fb01950fcb",
   "metadata": {},
   "outputs": [],
   "source": [
    "client = storage.Client()\n",
    "bucket = client.get_bucket(\"mas2bucket\")"
   ]
  },
  {
   "cell_type": "code",
   "execution_count": 3,
   "id": "cc4b173a-60c2-45d1-95a0-9894f358643e",
   "metadata": {},
   "outputs": [],
   "source": [
    "new_blob = bucket.blob(\"MAS.zip\")\n",
    "new_blob.upload_from_filename(filename='./MAS.zip')"
   ]
  }
 ],
 "metadata": {
  "environment": {
   "name": "tf2-gpu.2-6.m80",
   "type": "gcloud",
   "uri": "gcr.io/deeplearning-platform-release/tf2-gpu.2-6:m80"
  },
  "kernelspec": {
   "display_name": "Python 3",
   "language": "python",
   "name": "python3"
  },
  "language_info": {
   "codemirror_mode": {
    "name": "ipython",
    "version": 3
   },
   "file_extension": ".py",
   "mimetype": "text/x-python",
   "name": "python",
   "nbconvert_exporter": "python",
   "pygments_lexer": "ipython3",
   "version": "3.7.10"
  }
 },
 "nbformat": 4,
 "nbformat_minor": 5
}
