{
 "cells": [
  {
   "cell_type": "code",
   "execution_count": 1,
   "id": "1cb7caf1-d497-47d4-bb56-29cebbbf0606",
   "metadata": {},
   "outputs": [],
   "source": [
    "import os\n",
    "import pandas as pd\n",
    "import numpy as np\n",
    "import matplotlib.pyplot as plt\n",
    "from sklearn.model_selection import train_test_split\n",
    "from transformers import RobertaTokenizer, TFRobertaModel, RobertaConfig\n",
    "from bs4 import BeautifulSoup\n",
    "from nltk.corpus import stopwords\n",
    "import nltk\n",
    "from keras import Model\n",
    "from keras.layers import Input, Bidirectional, GlobalMaxPool1D, Dense, Dropout, LSTM, Flatten\n",
    "from sklearn.preprocessing import LabelBinarizer\n",
    "from tensorflow.keras.optimizers import Adam\n",
    "from keras import Model\n",
    "from keras.layers import Input, Bidirectional, GlobalMaxPool1D, Dense, Dropout, LSTM, Flatten\n",
    "from keras.callbacks import EarlyStopping, ModelCheckpoint\n",
    "from sklearn.metrics import confusion_matrix, accuracy_score, precision_score, recall_score, f1_score, classification_report, roc_curve, auc, average_precision_score, f1_score\n",
    "import seaborn as sb\n",
    "from imblearn.under_sampling import RandomUnderSampler"
   ]
  },
  {
   "cell_type": "markdown",
   "id": "eb3ec17b-23ad-48d3-adae-5d1cb502ff1d",
   "metadata": {},
   "source": [
    "Data source: https://github.com/saurabhmathur96/clickbait-detector/tree/master/data"
   ]
  },
  {
   "cell_type": "markdown",
   "id": "1136eab4-c1d8-4e34-8f74-c45dcd79cc9c",
   "metadata": {},
   "source": [
    "# Project variables"
   ]
  },
  {
   "cell_type": "code",
   "execution_count": 2,
   "id": "fab60abd-5f52-439d-adc6-7f7904f2a93f",
   "metadata": {},
   "outputs": [],
   "source": [
    "m_name = \"clickbait v4\"\n",
    "p_dir = os.path.join(\"../cb models\", m_name)"
   ]
  },
  {
   "cell_type": "code",
   "execution_count": 3,
   "id": "e613fb55-5d2f-4243-9629-ee6c1b7746b1",
   "metadata": {},
   "outputs": [],
   "source": [
    "def create_dir(dir_path: str):\n",
    "    if not os.path.exists(dir_path):\n",
    "        os.mkdir(dir_path)"
   ]
  },
  {
   "cell_type": "code",
   "execution_count": 4,
   "id": "9e638914-f00f-47c1-8a79-d0b7634b932b",
   "metadata": {},
   "outputs": [],
   "source": [
    "def clear_dir(dir_path: str):\n",
    "    for item in os.listdir(dir_path):\n",
    "        fp = os.path.join(dir_path, item)\n",
    "        if os.path.isfile(fp):\n",
    "            os.remove(fp)\n",
    "        if os.path.isdir(fp):\n",
    "            rmtree(fp)"
   ]
  },
  {
   "cell_type": "code",
   "execution_count": 5,
   "id": "7aa790f0-108f-417c-bcb1-a202b4276df9",
   "metadata": {},
   "outputs": [],
   "source": [
    "create_dir(p_dir)\n",
    "clear_dir(p_dir)"
   ]
  },
  {
   "cell_type": "markdown",
   "id": "bfd81eaf-3fc1-4164-85cb-1aa4437b4b0a",
   "metadata": {},
   "source": [
    "# Prepare dataset"
   ]
  },
  {
   "cell_type": "code",
   "execution_count": 6,
   "id": "8a343e58-9680-43ef-962f-2745591b961c",
   "metadata": {},
   "outputs": [
    {
     "data": {
      "text/plain": [
       "(11431, 2)"
      ]
     },
     "execution_count": 6,
     "metadata": {},
     "output_type": "execute_result"
    }
   ],
   "source": [
    "c1 = pd.read_csv(\"../cb models/clickbait.txt\", names=[\"title\"])\n",
    "c1[\"clickbait\"] = 1\n",
    "c2 = pd.read_csv(\"../cb models/no-clickbait.txt\", names=[\"title\"])\n",
    "c2[\"clickbait\"] = 0\n",
    "df = pd.concat([c1.reset_index(drop=True), c2.reset_index(drop=True)], axis=0)\n",
    "df = df.loc[df.title.str.len() <= 100, :]\n",
    "df.shape"
   ]
  },
  {
   "cell_type": "code",
   "execution_count": 7,
   "id": "a4f94f1b-1a70-40bc-a8ca-4ccb4b17e21f",
   "metadata": {},
   "outputs": [
    {
     "name": "stdout",
     "output_type": "stream",
     "text": [
      "<class 'pandas.core.frame.DataFrame'>\n",
      "Int64Index: 11431 entries, 0 to 6079\n",
      "Data columns (total 2 columns):\n",
      " #   Column     Non-Null Count  Dtype \n",
      "---  ------     --------------  ----- \n",
      " 0   title      11431 non-null  object\n",
      " 1   clickbait  11431 non-null  int64 \n",
      "dtypes: int64(1), object(1)\n",
      "memory usage: 267.9+ KB\n"
     ]
    }
   ],
   "source": [
    "df.info()"
   ]
  },
  {
   "cell_type": "code",
   "execution_count": 8,
   "id": "0b1cba22-14ae-4b19-a9a3-69cbff60e944",
   "metadata": {},
   "outputs": [
    {
     "data": {
      "image/png": "[encoded data removed]",
      "text/plain": [
       "<Figure size 432x288 with 1 Axes>"
      ]
     },
     "metadata": {
      "needs_background": "light"
     },
     "output_type": "display_data"
    }
   ],
   "source": [
    "df[\"clickbait\"].hist()\n",
    "plt.show()"
   ]
  },
  {
   "cell_type": "code",
   "execution_count": 9,
   "id": "dd8d10ac-b4c6-4065-a610-305c87aac877",
   "metadata": {},
   "outputs": [
    {
     "name": "stdout",
     "output_type": "stream",
     "text": [
      "9144 2287\n"
     ]
    }
   ],
   "source": [
    "x = df.loc[:, [c for c in df.columns if c != \"clickbait\"]]\n",
    "y = df[\"clickbait\"]\n",
    "\n",
    "x_train, x_test, y_train, y_test = train_test_split(x, y, test_size=0.2)\n",
    "# x_train, x_val, y_train, y_val = train_test_split(x_train, y_train, test_size=0.25, random_state=4711)\n",
    "\n",
    "x_train.to_pickle(os.path.join(p_dir, \"x_train.pkl\"))\n",
    "y_train.to_pickle(os.path.join(p_dir, \"y_train.pkl\"))\n",
    "# x_val.to_pickle(os.path.join(p_dir,\"x_val.pkl\"))\n",
    "# y_val.to_pickle(os.path.join(p_dir, \"y_val.pkl\"))\n",
    "x_test.to_pickle(os.path.join(p_dir,\"x_test.pkl\"))\n",
    "y_test.to_pickle(os.path.join(p_dir, \"y_test.pkl\"))\n",
    "\n",
    "print(x_train.shape[0], x_test.shape[0])"
   ]
  },
  {
   "cell_type": "markdown",
   "id": "2f6dd4f5-2316-4c13-814f-bb82fbbfbcfd",
   "metadata": {},
   "source": [
    "# Build the model"
   ]
  },
  {
   "cell_type": "code",
   "execution_count": 10,
   "id": "9b48ead1-df29-45bf-993b-2af2f9332542",
   "metadata": {},
   "outputs": [],
   "source": [
    "def preprocessing(df: pd.DataFrame, remove_stopwords: bool=False) -> pd.DataFrame:\n",
    "    field = \"title\"\n",
    "    stw = set(stopwords.words(\"english\"))\n",
    "    \n",
    "    def cleanse_row(row, field, stw, stopwords=False):\n",
    "        # Remove HTML from text\n",
    "        soup = BeautifulSoup(row[field])\n",
    "        row[field] = soup.get_text()\n",
    "        \n",
    "        # Remove stopwords\n",
    "        if stopwords:\n",
    "            row[field] = \" \".join([w for w in row[field].split() if w not in stw])\n",
    "        \n",
    "        return row\n",
    "    \n",
    "    df = df.apply(lambda row: cleanse_row(row, field, stw, remove_stopwords), axis=1)\n",
    "    return df[\"title\"]"
   ]
  },
  {
   "cell_type": "code",
   "execution_count": 11,
   "id": "617db1f3-c98b-4d8f-b91e-2256e00f8ec3",
   "metadata": {},
   "outputs": [
    {
     "name": "stderr",
     "output_type": "stream",
     "text": [
      "[nltk_data] Downloading package stopwords to\n",
      "[nltk_data]     /home/jupyter/nltk_data...\n",
      "[nltk_data]   Package stopwords is already up-to-date!\n"
     ]
    },
    {
     "data": {
      "text/plain": [
       "True"
      ]
     },
     "execution_count": 11,
     "metadata": {},
     "output_type": "execute_result"
    }
   ],
   "source": [
    "# Download the stopwork corpus\n",
    "nltk.download('stopwords')"
   ]
  },
  {
   "cell_type": "code",
   "execution_count": 12,
   "id": "7dc38b67-9a38-4a22-b06a-8b257022f7fa",
   "metadata": {},
   "outputs": [],
   "source": [
    "remove_stopwords = False\n",
    "\n",
    "def preprocess_data(x: pd.DataFrame, remove_stopwords: bool=False) -> list():\n",
    "    x_pp = preprocessing(x, remove_stopwords)\n",
    "    x_pp = x_pp.tolist()\n",
    "    return x_pp"
   ]
  },
  {
   "cell_type": "code",
   "execution_count": 13,
   "id": "aff8d289-87c9-47d9-877a-07ce7dc5701a",
   "metadata": {},
   "outputs": [],
   "source": [
    "x_train_pp = preprocess_data(x_train)\n",
    "x_test_pp = preprocess_data(x_test)"
   ]
  },
  {
   "cell_type": "code",
   "execution_count": 14,
   "id": "c5a51e5e-b095-4c07-b6cb-7f71c8bfabfe",
   "metadata": {},
   "outputs": [],
   "source": [
    "pt_model = \"roberta-base\"\n",
    "tok = RobertaTokenizer.from_pretrained(pt_model, do_lower=True, add_special_tokens=True, max_length=100, pad_to_max_length=True)"
   ]
  },
  {
   "cell_type": "code",
   "execution_count": 15,
   "id": "836216a9-c9ad-4652-b778-d46c9fe414e7",
   "metadata": {},
   "outputs": [],
   "source": [
    "def tokenize(sentences, tokenizer):\n",
    "    input_ids, input_masks, input_segments = [], [], []\n",
    "    for sentence in sentences:\n",
    "        inputs = tokenizer.encode_plus(sentence, add_special_tokens=True, max_length=100, padding=\"max_length\", return_attention_mask=True, \n",
    "                                       return_token_type_ids=True, truncation=True)\n",
    "        input_ids.append(inputs[\"input_ids\"])\n",
    "        input_masks.append(inputs[\"attention_mask\"])\n",
    "        input_segments.append(inputs[\"token_type_ids\"])\n",
    "        \n",
    "    return np.asarray(input_ids, dtype=\"int32\"), np.asarray(input_masks, dtype=\"int32\"), np.asarray(input_segments, dtype=\"int32\")"
   ]
  },
  {
   "cell_type": "code",
   "execution_count": 16,
   "id": "8ffeac75-92b3-4928-9a57-2c8ad23bc83f",
   "metadata": {},
   "outputs": [
    {
     "name": "stderr",
     "output_type": "stream",
     "text": [
      "2021-11-18 07:00:53.824595: I tensorflow/stream_executor/cuda/cuda_gpu_executor.cc:937] successful NUMA node read from SysFS had negative value (-1), but there must be at least one NUMA node, so returning NUMA node zero\n",
      "2021-11-18 07:00:53.906887: I tensorflow/stream_executor/cuda/cuda_gpu_executor.cc:937] successful NUMA node read from SysFS had negative value (-1), but there must be at least one NUMA node, so returning NUMA node zero\n",
      "2021-11-18 07:00:53.907656: I tensorflow/stream_executor/cuda/cuda_gpu_executor.cc:937] successful NUMA node read from SysFS had negative value (-1), but there must be at least one NUMA node, so returning NUMA node zero\n",
      "2021-11-18 07:00:53.910272: I tensorflow/core/platform/cpu_feature_guard.cc:142] This TensorFlow binary is optimized with oneAPI Deep Neural Network Library (oneDNN) to use the following CPU instructions in performance-critical operations:  AVX2 FMA\n",
      "To enable them in other operations, rebuild TensorFlow with the appropriate compiler flags.\n",
      "2021-11-18 07:00:53.911276: I tensorflow/stream_executor/cuda/cuda_gpu_executor.cc:937] successful NUMA node read from SysFS had negative value (-1), but there must be at least one NUMA node, so returning NUMA node zero\n",
      "2021-11-18 07:00:53.912001: I tensorflow/stream_executor/cuda/cuda_gpu_executor.cc:937] successful NUMA node read from SysFS had negative value (-1), but there must be at least one NUMA node, so returning NUMA node zero\n",
      "2021-11-18 07:00:53.912741: I tensorflow/stream_executor/cuda/cuda_gpu_executor.cc:937] successful NUMA node read from SysFS had negative value (-1), but there must be at least one NUMA node, so returning NUMA node zero\n",
      "2021-11-18 07:00:55.994474: I tensorflow/stream_executor/cuda/cuda_gpu_executor.cc:937] successful NUMA node read from SysFS had negative value (-1), but there must be at least one NUMA node, so returning NUMA node zero\n",
      "2021-11-18 07:00:55.995135: I tensorflow/stream_executor/cuda/cuda_gpu_executor.cc:937] successful NUMA node read from SysFS had negative value (-1), but there must be at least one NUMA node, so returning NUMA node zero\n",
      "2021-11-18 07:00:55.995749: I tensorflow/stream_executor/cuda/cuda_gpu_executor.cc:937] successful NUMA node read from SysFS had negative value (-1), but there must be at least one NUMA node, so returning NUMA node zero\n",
      "2021-11-18 07:00:55.997107: I tensorflow/core/common_runtime/gpu/gpu_device.cc:1510] Created device /job:localhost/replica:0/task:0/device:GPU:0 with 13839 MB memory:  -> device: 0, name: Tesla T4, pci bus id: 0000:00:04.0, compute capability: 7.5\n",
      "Some layers from the model checkpoint at roberta-base were not used when initializing TFRobertaModel: ['lm_head']\n",
      "- This IS expected if you are initializing TFRobertaModel from the checkpoint of a model trained on another task or with another architecture (e.g. initializing a BertForSequenceClassification model from a BertForPreTraining model).\n",
      "- This IS NOT expected if you are initializing TFRobertaModel from the checkpoint of a model that you expect to be exactly identical (initializing a BertForSequenceClassification model from a BertForSequenceClassification model).\n",
      "All the layers of TFRobertaModel were initialized from the model checkpoint at roberta-base.\n",
      "If your task is similar to the task the model of the checkpoint was trained on, you can already use TFRobertaModel for predictions without further training.\n"
     ]
    }
   ],
   "source": [
    "config = RobertaConfig(dropout=0.2, attention_dropout=0.2)\n",
    "config.output_hidden_states=False\n",
    "transformer_model = TFRobertaModel.from_pretrained(pt_model)\n",
    "\n",
    "in_ids = Input(shape=(100,), name=\"input_token\", dtype=\"int32\")\n",
    "in_masks = Input(shape=(100,), name=\"masked_token\", dtype=\"int32\")\n",
    "\n",
    "emb = transformer_model(in_ids, attention_mask=in_masks)[0]\n",
    "x = Bidirectional(LSTM(50, return_sequences=True, dropout=0.2, recurrent_dropout=0))(emb)\n",
    "x = GlobalMaxPool1D()(x)\n",
    "x = Flatten()(x)\n",
    "x = Dense(50, activation=\"relu\")(x)\n",
    "x = Dropout(0.2)(x)\n",
    "x = Dense(2, activation=\"softmax\")(x)\n",
    "\n",
    "model = Model(inputs=[in_ids, in_masks], outputs=x)\n",
    "\n",
    "for layer in model.layers[:3]:\n",
    "    layer.trainable = False"
   ]
  },
  {
   "cell_type": "code",
   "execution_count": 17,
   "id": "17369283-81ef-48b8-8361-a76eee288830",
   "metadata": {},
   "outputs": [],
   "source": [
    "model.compile(loss=\"sparse_categorical_crossentropy\", \n",
    "              optimizer=Adam(learning_rate=0.0005), \n",
    "              metrics=[\"accuracy\"])"
   ]
  },
  {
   "cell_type": "code",
   "execution_count": 18,
   "id": "d2493475-7197-4b61-8855-014d1cd5f105",
   "metadata": {},
   "outputs": [
    {
     "name": "stdout",
     "output_type": "stream",
     "text": [
      "Model: \"model\"\n",
      "__________________________________________________________________________________________________\n",
      "Layer (type)                    Output Shape         Param #     Connected to                     \n",
      "==================================================================================================\n",
      "input_token (InputLayer)        [(None, 100)]        0                                            \n",
      "__________________________________________________________________________________________________\n",
      "masked_token (InputLayer)       [(None, 100)]        0                                            \n",
      "__________________________________________________________________________________________________\n",
      "tf_roberta_model (TFRobertaMode TFBaseModelOutputWit 124645632   input_token[0][0]                \n",
      "                                                                 masked_token[0][0]               \n",
      "__________________________________________________________________________________________________\n",
      "bidirectional (Bidirectional)   (None, 100, 100)     327600      tf_roberta_model[0][0]           \n",
      "__________________________________________________________________________________________________\n",
      "global_max_pooling1d (GlobalMax (None, 100)          0           bidirectional[0][0]              \n",
      "__________________________________________________________________________________________________\n",
      "flatten (Flatten)               (None, 100)          0           global_max_pooling1d[0][0]       \n",
      "__________________________________________________________________________________________________\n",
      "dense (Dense)                   (None, 50)           5050        flatten[0][0]                    \n",
      "__________________________________________________________________________________________________\n",
      "dropout_37 (Dropout)            (None, 50)           0           dense[0][0]                      \n",
      "__________________________________________________________________________________________________\n",
      "dense_1 (Dense)                 (None, 2)            102         dropout_37[0][0]                 \n",
      "==================================================================================================\n",
      "Total params: 124,978,384\n",
      "Trainable params: 332,752\n",
      "Non-trainable params: 124,645,632\n",
      "__________________________________________________________________________________________________\n"
     ]
    }
   ],
   "source": [
    "model.summary()"
   ]
  },
  {
   "cell_type": "code",
   "execution_count": 19,
   "id": "94f529aa-5e27-4f1d-9e14-4b46c6706627",
   "metadata": {},
   "outputs": [
    {
     "name": "stderr",
     "output_type": "stream",
     "text": [
      "2021-11-18 07:01:09.620211: I tensorflow/compiler/mlir/mlir_graph_optimization_pass.cc:185] None of the MLIR Optimization Passes are enabled (registered 2)\n"
     ]
    },
    {
     "name": "stdout",
     "output_type": "stream",
     "text": [
      "Epoch 1/20\n"
     ]
    },
    {
     "name": "stderr",
     "output_type": "stream",
     "text": [
      "2021-11-18 07:01:22.075885: I tensorflow/stream_executor/cuda/cuda_dnn.cc:369] Loaded cuDNN version 8005\n"
     ]
    },
    {
     "name": "stdout",
     "output_type": "stream",
     "text": [
      "143/143 [==============================] - 89s 532ms/step - loss: 0.1090 - accuracy: 0.9636 - val_loss: 0.0468 - val_accuracy: 0.9882\n",
      "\n",
      "Epoch 00001: val_loss improved from inf to 0.04684, saving model to ../cb models/clickbait v4/clickbait v4\n",
      "Epoch 2/20\n",
      "143/143 [==============================] - 76s 532ms/step - loss: 0.0467 - accuracy: 0.9891 - val_loss: 0.0482 - val_accuracy: 0.9856\n",
      "\n",
      "Epoch 00002: val_loss did not improve from 0.04684\n",
      "Epoch 3/20\n",
      "143/143 [==============================] - 76s 532ms/step - loss: 0.0391 - accuracy: 0.9904 - val_loss: 0.0459 - val_accuracy: 0.9891\n",
      "\n",
      "Epoch 00003: val_loss improved from 0.04684 to 0.04590, saving model to ../cb models/clickbait v4/clickbait v4\n",
      "Epoch 4/20\n",
      "143/143 [==============================] - 76s 534ms/step - loss: 0.0385 - accuracy: 0.9893 - val_loss: 0.0445 - val_accuracy: 0.9856\n",
      "\n",
      "Epoch 00004: val_loss improved from 0.04590 to 0.04455, saving model to ../cb models/clickbait v4/clickbait v4\n",
      "Epoch 5/20\n",
      "143/143 [==============================] - 77s 536ms/step - loss: 0.0316 - accuracy: 0.9917 - val_loss: 0.0412 - val_accuracy: 0.9886\n",
      "\n",
      "Epoch 00005: val_loss improved from 0.04455 to 0.04117, saving model to ../cb models/clickbait v4/clickbait v4\n",
      "Epoch 6/20\n",
      "143/143 [==============================] - 77s 536ms/step - loss: 0.0318 - accuracy: 0.9905 - val_loss: 0.0564 - val_accuracy: 0.9812\n",
      "\n",
      "Epoch 00006: val_loss did not improve from 0.04117\n",
      "Epoch 7/20\n",
      "143/143 [==============================] - 76s 532ms/step - loss: 0.0297 - accuracy: 0.9904 - val_loss: 0.0407 - val_accuracy: 0.9886\n",
      "\n",
      "Epoch 00007: val_loss improved from 0.04117 to 0.04069, saving model to ../cb models/clickbait v4/clickbait v4\n",
      "Epoch 8/20\n",
      "143/143 [==============================] - 76s 533ms/step - loss: 0.0230 - accuracy: 0.9920 - val_loss: 0.0397 - val_accuracy: 0.9891\n",
      "\n",
      "Epoch 00008: val_loss improved from 0.04069 to 0.03966, saving model to ../cb models/clickbait v4/clickbait v4\n",
      "Epoch 9/20\n",
      "143/143 [==============================] - 76s 532ms/step - loss: 0.0247 - accuracy: 0.9919 - val_loss: 0.0415 - val_accuracy: 0.9904\n",
      "\n",
      "Epoch 00009: val_loss did not improve from 0.03966\n",
      "Epoch 10/20\n",
      "143/143 [==============================] - 76s 532ms/step - loss: 0.0188 - accuracy: 0.9934 - val_loss: 0.0458 - val_accuracy: 0.9882\n",
      "\n",
      "Epoch 00010: val_loss did not improve from 0.03966\n",
      "Epoch 11/20\n",
      "143/143 [==============================] - 76s 533ms/step - loss: 0.0182 - accuracy: 0.9927 - val_loss: 0.0644 - val_accuracy: 0.9786\n",
      "\n",
      "Epoch 00011: val_loss did not improve from 0.03966\n",
      "Epoch 12/20\n",
      "143/143 [==============================] - 76s 532ms/step - loss: 0.0164 - accuracy: 0.9941 - val_loss: 0.0400 - val_accuracy: 0.9886\n",
      "\n",
      "Epoch 00012: val_loss did not improve from 0.03966\n",
      "Epoch 13/20\n",
      "143/143 [==============================] - 76s 531ms/step - loss: 0.0161 - accuracy: 0.9942 - val_loss: 0.0464 - val_accuracy: 0.9878\n",
      "\n",
      "Epoch 00013: val_loss did not improve from 0.03966\n"
     ]
    }
   ],
   "source": [
    "x_train_tok = tokenize(x_train_pp, tok)\n",
    "x_test_tok = tokenize(x_test_pp, tok)\n",
    "\n",
    "lb = LabelBinarizer()\n",
    "y_train_b = lb.fit_transform(y_train)\n",
    "y_test_b = lb.transform(y_test)\n",
    "\n",
    "batch_size = 64\n",
    "n_epochs = 20\n",
    "\n",
    "metric = \"val_loss\"\n",
    "\n",
    "es = EarlyStopping(monitor=metric, \n",
    "                   mode=\"min\", \n",
    "                   patience=5, \n",
    "                   restore_best_weights=True)\n",
    "\n",
    "checkpoint = ModelCheckpoint(os.path.join(p_dir, \"{}\".format(m_name)), \n",
    "                             monitor=metric, \n",
    "                             verbose=2, \n",
    "                             save_best_only=True, \n",
    "                             save_weights_only=True, \n",
    "                             mode='min')\n",
    "\n",
    "hist = model.fit(x_train_tok[:2], y_train_b, \n",
    "                 validation_data=(x_test_tok[:2], y_test_b), \n",
    "                 batch_size=batch_size, \n",
    "                 epochs=n_epochs, \n",
    "                 callbacks=[checkpoint, es])"
   ]
  },
  {
   "cell_type": "code",
   "execution_count": 20,
   "id": "865bf6d7-4f18-48e4-acad-6fdb12a2f259",
   "metadata": {},
   "outputs": [
    {
     "data": {
      "image/png": "[encoded data removed]",
      "text/plain": [
       "<Figure size 432x288 with 2 Axes>"
      ]
     },
     "metadata": {
      "needs_background": "light"
     },
     "output_type": "display_data"
    }
   ],
   "source": [
    "fig, axs = plt.subplots(1, 2)\n",
    "\n",
    "axs[0].plot(hist.history[\"accuracy\"])\n",
    "axs[0].plot(hist.history[\"val_accuracy\"])\n",
    "axs[0].set_title(\"model accuracy\")\n",
    "axs[0].set_ylabel(\"accuracy\")\n",
    "axs[0].set_xlabel(\"epoch\")\n",
    "axs[0].set_ylim(0, 1)\n",
    "axs[0].legend([\"train\", \"val\"], loc=\"upper left\")\n",
    "\n",
    "axs[1].plot(hist.history[\"loss\"])\n",
    "axs[1].plot(hist.history[\"val_loss\"])\n",
    "axs[1].set_title(\"model loss\")\n",
    "axs[1].set_ylabel(\"loss\")\n",
    "axs[1].set_xlabel(\"epoch\")\n",
    "axs[1].set_ylim(0, 1)\n",
    "axs[1].legend([\"train\", \"val\"], loc=\"upper left\")\n",
    "\n",
    "plt.tight_layout()\n",
    "plt.show()\n",
    "fig.savefig(os.path.join(p_dir, \"accuracy_loss.jpg\"))"
   ]
  },
  {
   "cell_type": "markdown",
   "id": "2be28e06-01dc-4231-aa62-586940507864",
   "metadata": {},
   "source": [
    "# Confusion matrix"
   ]
  },
  {
   "cell_type": "code",
   "execution_count": 21,
   "id": "89fbda95-2962-477a-9a75-9b2f1ec19a47",
   "metadata": {},
   "outputs": [
    {
     "data": {
      "text/plain": [
       "<tensorflow.python.training.tracking.util.CheckpointLoadStatus at 0x7fa417f85890>"
      ]
     },
     "execution_count": 21,
     "metadata": {},
     "output_type": "execute_result"
    }
   ],
   "source": [
    "model.load_weights(os.path.join(p_dir, \"{}\".format(m_name)))"
   ]
  },
  {
   "cell_type": "markdown",
   "id": "8288de96-0c6a-407d-9acd-0662a8c19a7a",
   "metadata": {},
   "source": [
    "## Training data (in-sample)"
   ]
  },
  {
   "cell_type": "code",
   "execution_count": 22,
   "id": "11fe8174-f5be-41a3-82b8-0e3182e01679",
   "metadata": {},
   "outputs": [],
   "source": [
    "x_train_tok = tokenize(x_train_pp, tok)\n",
    "\n",
    "lb = LabelBinarizer()\n",
    "y_train_b = lb.fit_transform(y_train)\n",
    "\n",
    "y_train_prob = model.predict(x_train_tok[:2], steps=y_train_b.shape[0])\n",
    "y_pred = np.argmax(y_train_prob, axis=1)\n",
    "y_pred = lb.inverse_transform(y_pred)"
   ]
  },
  {
   "cell_type": "code",
   "execution_count": 23,
   "id": "64fa1fac-291d-4ff7-9d02-330bec3a15eb",
   "metadata": {},
   "outputs": [
    {
     "data": {
      "image/png": "[encoded data removed]",
      "text/plain": [
       "<Figure size 432x288 with 2 Axes>"
      ]
     },
     "metadata": {
      "needs_background": "light"
     },
     "output_type": "display_data"
    },
    {
     "name": "stdout",
     "output_type": "stream",
     "text": [
      "Accuracy: 0.99\n",
      "Micro precision: 0.99\n",
      "Micro recall: 0.99\n",
      "Micro F1-score: 0.99\n",
      "Macro precision: 0.99\n",
      "Macro recall: 0.99\n",
      "Macro F1-score: 0.99\n",
      "Weighted precision: 0.99\n",
      "Weighted recall: 0.99\n",
      "Weighted F1-score: 0.99\n"
     ]
    }
   ],
   "source": [
    "cmtx = confusion_matrix(y_train, y_pred)\n",
    "sb.heatmap(cmtx, annot=True, fmt=\"d\", xticklabels=lb.classes_, yticklabels=lb.classes_)\n",
    "plt.xlabel(\"True class\")\n",
    "plt.ylabel(\"Predicted class\")\n",
    "plt.title(\"Confusion matrix - training set\")\n",
    "plt.savefig(os.path.join(p_dir, \"confusion_matrix_train.jpg\"))\n",
    "plt.show()\n",
    "\n",
    "print(\"Accuracy: {:0.2f}\".format(accuracy_score(y_train, y_pred)))\n",
    "\n",
    "print(\"Micro precision: {:0.2f}\".format(precision_score(y_train, y_pred, average=\"micro\")))\n",
    "print(\"Micro recall: {:0.2f}\".format(recall_score(y_train, y_pred, average=\"micro\")))\n",
    "print(\"Micro F1-score: {:0.2f}\".format(f1_score(y_train, y_pred, average=\"micro\")))\n",
    "\n",
    "print(\"Macro precision: {:0.2f}\".format(precision_score(y_train, y_pred, average=\"macro\")))\n",
    "print(\"Macro recall: {:0.2f}\".format(recall_score(y_train, y_pred, average=\"macro\")))\n",
    "print(\"Macro F1-score: {:0.2f}\".format(f1_score(y_train, y_pred, average=\"macro\")))\n",
    "\n",
    "print(\"Weighted precision: {:0.2f}\".format(precision_score(y_train, y_pred, average=\"weighted\")))\n",
    "print(\"Weighted recall: {:0.2f}\".format(recall_score(y_train, y_pred, average=\"weighted\")))\n",
    "print(\"Weighted F1-score: {:0.2f}\".format(f1_score(y_train, y_pred, average=\"weighted\")))"
   ]
  },
  {
   "cell_type": "markdown",
   "id": "9e0268a9-3bdb-4b65-8abb-d468f5708611",
   "metadata": {},
   "source": [
    "## Test data (out-of-sample)"
   ]
  },
  {
   "cell_type": "code",
   "execution_count": 24,
   "id": "73c67f17-0fa4-4c3d-ae4a-4be4068488a4",
   "metadata": {},
   "outputs": [],
   "source": [
    "x_test_pp = preprocess_data(x_test)\n",
    "x_test_tok = tokenize(x_test_pp, tok)\n",
    "\n",
    "lb = LabelBinarizer()\n",
    "y_train_b = lb.fit_transform(y_train)\n",
    "y_test_b = lb.transform(y_test)\n",
    "\n",
    "y_test_prob = model.predict(x_test_tok[:2], steps=y_test_b.shape[0])\n",
    "y_pred = np.argmax(y_test_prob, axis=1)\n",
    "y_pred = lb.inverse_transform(y_pred)"
   ]
  },
  {
   "cell_type": "code",
   "execution_count": 25,
   "id": "0bbbe4de-3f9b-45bf-bbaf-286052380bfe",
   "metadata": {},
   "outputs": [
    {
     "name": "stdout",
     "output_type": "stream",
     "text": [
      "F1 score: 0.99\n"
     ]
    }
   ],
   "source": [
    "print(\"F1 score: {:0.2f}\".format(f1_score(y_test_b, y_pred)))"
   ]
  },
  {
   "cell_type": "code",
   "execution_count": 26,
   "id": "6cefaeb3-6182-49fb-abe0-9506744485fb",
   "metadata": {},
   "outputs": [
    {
     "data": {
      "image/png": "[encoded data removed]",
      "text/plain": [
       "<Figure size 432x288 with 2 Axes>"
      ]
     },
     "metadata": {
      "needs_background": "light"
     },
     "output_type": "display_data"
    },
    {
     "name": "stdout",
     "output_type": "stream",
     "text": [
      "Accuracy: 0.99\n",
      "Micro precision: 0.99\n",
      "Micro recall: 0.99\n",
      "Micro F1-score: 0.99\n",
      "Macro precision: 0.99\n",
      "Macro recall: 0.99\n",
      "Macro F1-score: 0.99\n",
      "Weighted precision: 0.99\n",
      "Weighted recall: 0.99\n",
      "Weighted F1-score: 0.99\n"
     ]
    }
   ],
   "source": [
    "cmtx = confusion_matrix(y_test, y_pred)\n",
    "sb.heatmap(cmtx, annot=True, fmt=\"d\", xticklabels=lb.classes_, yticklabels=lb.classes_)\n",
    "plt.xlabel(\"True class\")\n",
    "plt.ylabel(\"Predicted class\")\n",
    "plt.title(\"Confusion matrix - test set\")\n",
    "plt.savefig(os.path.join(p_dir, \"confusion_matrix_test.jpg\"))\n",
    "plt.show()\n",
    "\n",
    "print(\"Accuracy: {:0.2f}\".format(accuracy_score(y_test, y_pred)))\n",
    "\n",
    "print(\"Micro precision: {:0.2f}\".format(precision_score(y_test, y_pred, average=\"micro\")))\n",
    "print(\"Micro recall: {:0.2f}\".format(recall_score(y_test, y_pred, average=\"micro\")))\n",
    "print(\"Micro F1-score: {:0.2f}\".format(f1_score(y_test, y_pred, average=\"micro\")))\n",
    "\n",
    "print(\"Macro precision: {:0.2f}\".format(precision_score(y_test, y_pred, average=\"macro\")))\n",
    "print(\"Macro recall: {:0.2f}\".format(recall_score(y_test, y_pred, average=\"macro\")))\n",
    "print(\"Macro F1-score: {:0.2f}\".format(f1_score(y_test, y_pred, average=\"macro\")))\n",
    "\n",
    "print(\"Weighted precision: {:0.2f}\".format(precision_score(y_test, y_pred, average=\"weighted\")))\n",
    "print(\"Weighted recall: {:0.2f}\".format(recall_score(y_test, y_pred, average=\"weighted\")))\n",
    "print(\"Weighted F1-score: {:0.2f}\".format(f1_score(y_test, y_pred, average=\"weighted\")))\n",
    "\n",
    "# print(classification_report(y_test, y_pred, target_names=lb.classe_))"
   ]
  },
  {
   "cell_type": "markdown",
   "id": "f5638e19-d2ee-46b2-92c8-494c342d0d7a",
   "metadata": {},
   "source": [
    "# ROC curve"
   ]
  },
  {
   "cell_type": "markdown",
   "id": "d57eda2d-52f2-49d9-b929-4942e123a209",
   "metadata": {},
   "source": [
    "## Training data (in-sample)"
   ]
  },
  {
   "cell_type": "code",
   "execution_count": 27,
   "id": "6a68f8eb-5c1c-42cb-b513-8f787a6058b4",
   "metadata": {},
   "outputs": [],
   "source": [
    "lb = LabelBinarizer()\n",
    "lb.fit_transform(y_train)\n",
    "\n",
    "y_train_no = lb.fit_transform(y_train)\n",
    "y_pred_no = y_train_prob[:, 1]\n",
    "fpr, tpr, thr = roc_curve(y_train_no, y_pred_no)"
   ]
  },
  {
   "cell_type": "code",
   "execution_count": 28,
   "id": "dd4f78bf-02e6-4d81-a6dc-b5fc34d9294c",
   "metadata": {},
   "outputs": [
    {
     "data": {
      "image/png": "[encoded data removed]",
      "text/plain": [
       "<Figure size 432x288 with 1 Axes>"
      ]
     },
     "metadata": {
      "needs_background": "light"
     },
     "output_type": "display_data"
    }
   ],
   "source": [
    "auc_model = auc(fpr, tpr)\n",
    "mavgp = average_precision_score(y_train_no, y_pred_no)\n",
    "\n",
    "# plt.plot([0, 1], [0, 1], \"k--\")\n",
    "plt.plot(fpr, tpr, label=\"Model (auc={:0.4f}, mean avg. prec={:0.4f})\".format(auc_model, mavgp))\n",
    "plt.xlabel(\"False positive rate\")\n",
    "plt.ylabel(\"True positive rate\")\n",
    "plt.title(\"ROC curve - training dataset\")\n",
    "plt.legend()\n",
    "plt.savefig(os.path.join(p_dir, \"roc-curve_train.jpg\"))\n",
    "plt.show()"
   ]
  },
  {
   "cell_type": "markdown",
   "id": "9d1731a9-a449-4152-bca6-db35ea1a6037",
   "metadata": {},
   "source": [
    "## Test data (out-of-sample)"
   ]
  },
  {
   "cell_type": "code",
   "execution_count": 29,
   "id": "6491579a-ea65-4d16-a42e-ea6daea8b788",
   "metadata": {},
   "outputs": [],
   "source": [
    "lb = LabelBinarizer()\n",
    "lb.fit_transform(y_train)\n",
    "\n",
    "y_test_no = lb.fit_transform(y_test)\n",
    "y_pred_no = y_test_prob[:, 1]\n",
    "fpr, tpr, thr = roc_curve(y_test_no, y_pred_no)"
   ]
  },
  {
   "cell_type": "code",
   "execution_count": 30,
   "id": "dda1b5b1-5cac-4a07-9630-ef4ec4f44324",
   "metadata": {},
   "outputs": [
    {
     "data": {
      "image/png": "[encoded data removed]",
      "text/plain": [
       "<Figure size 432x288 with 1 Axes>"
      ]
     },
     "metadata": {
      "needs_background": "light"
     },
     "output_type": "display_data"
    }
   ],
   "source": [
    "auc_model = auc(fpr, tpr)\n",
    "mavgp = average_precision_score(y_test_no, y_pred_no)\n",
    "\n",
    "# plt.plot([0, 1], [0, 1], \"k--\")\n",
    "plt.plot(fpr, tpr, label=\"Model (auc={:0.4f}, mean avg. prec={:0.4f})\".format(auc_model, mavgp))\n",
    "plt.xlabel(\"False positive rate\")\n",
    "plt.ylabel(\"True positive rate\")\n",
    "plt.title(\"ROC curve - test dataset\")\n",
    "plt.legend()\n",
    "plt.savefig(os.path.join(p_dir, \"roc-curve_test.jpg\"))\n",
    "plt.show()"
   ]
  },
  {
   "cell_type": "markdown",
   "id": "f77f8a50-6086-4732-b5a2-a3df8e9a91af",
   "metadata": {},
   "source": [
    "# Class probability histograms"
   ]
  },
  {
   "cell_type": "markdown",
   "id": "a751e8ab-d41e-4c34-9d75-da652a526025",
   "metadata": {},
   "source": [
    "## Without middle classes"
   ]
  },
  {
   "cell_type": "code",
   "execution_count": 31,
   "id": "1dd16914-63f8-4da9-98dc-db37d20b1067",
   "metadata": {},
   "outputs": [
    {
     "data": {
      "image/png": "[encoded data removed]",
      "text/plain": [
       "<Figure size 432x288 with 1 Axes>"
      ]
     },
     "metadata": {
      "needs_background": "light"
     },
     "output_type": "display_data"
    }
   ],
   "source": [
    "m0 = y_test_no[:, 0] == 0\n",
    "c0 = y_test_prob[m0, 1]\n",
    "m1 = y_test_no[:, 0] == 1\n",
    "c1 = y_test_prob[m1, 1]\n",
    "\n",
    "plt.hist(c0, alpha=0.3, bins=20)\n",
    "plt.hist(c1, color=\"red\", alpha=0.3, bins=20)\n",
    "plt.title(\"Histogram\")\n",
    "plt.legend(lb.classes_)\n",
    "plt.savefig(os.path.join(p_dir, \"histogram.jpg\"))\n",
    "plt.show()"
   ]
  },
  {
   "cell_type": "markdown",
   "id": "bc9d8bab-407e-4813-8f77-a81176523657",
   "metadata": {},
   "source": [
    "# Sample titles"
   ]
  },
  {
   "cell_type": "code",
   "execution_count": 32,
   "id": "47f33c91-dfd9-49f4-b8e6-81339df93eab",
   "metadata": {},
   "outputs": [
    {
     "data": {
      "text/plain": [
       "(2287, 3)"
      ]
     },
     "execution_count": 32,
     "metadata": {},
     "output_type": "execute_result"
    }
   ],
   "source": [
    "combo = pd.concat([x_test, y_test], axis=1)\n",
    "combo.reset_index(drop=True, inplace=True)\n",
    "combo = pd.concat([combo, pd.Series(y_pred, name=\"pred\")], axis=1)\n",
    "combo.rename(columns={\"clickbait\": \"truth\"}, inplace=True)\n",
    "combo.shape"
   ]
  },
  {
   "cell_type": "code",
   "execution_count": 33,
   "id": "1317ca4e-f0de-4648-9bfe-1528f4c57122",
   "metadata": {},
   "outputs": [
    {
     "data": {
      "text/html": [
       "<div>\n",
       "<style scoped>\n",
       "    .dataframe tbody tr th:only-of-type {\n",
       "        vertical-align: middle;\n",
       "    }\n",
       "\n",
       "    .dataframe tbody tr th {\n",
       "        vertical-align: top;\n",
       "    }\n",
       "\n",
       "    .dataframe thead th {\n",
       "        text-align: right;\n",
       "    }\n",
       "</style>\n",
       "<table border=\"1\" class=\"dataframe\">\n",
       "  <thead>\n",
       "    <tr style=\"text-align: right;\">\n",
       "      <th></th>\n",
       "      <th></th>\n",
       "      <th>title</th>\n",
       "      <th>truth</th>\n",
       "      <th>pred</th>\n",
       "    </tr>\n",
       "  </thead>\n",
       "  <tbody>\n",
       "    <tr>\n",
       "      <th rowspan=\"5\" valign=\"top\">0</th>\n",
       "      <th>1460</th>\n",
       "      <td>Iran moderates hope Rafsanjanis death can soft...</td>\n",
       "      <td>0</td>\n",
       "      <td>0</td>\n",
       "    </tr>\n",
       "    <tr>\n",
       "      <th>1624</th>\n",
       "      <td>UK midwife shortage leaves women feeling like ...</td>\n",
       "      <td>0</td>\n",
       "      <td>0</td>\n",
       "    </tr>\n",
       "    <tr>\n",
       "      <th>361</th>\n",
       "      <td>BBC sets up team to debunk fake news</td>\n",
       "      <td>0</td>\n",
       "      <td>0</td>\n",
       "    </tr>\n",
       "    <tr>\n",
       "      <th>2022</th>\n",
       "      <td>Pay or go to jail enough indulgence: Supreme C...</td>\n",
       "      <td>0</td>\n",
       "      <td>0</td>\n",
       "    </tr>\n",
       "    <tr>\n",
       "      <th>1166</th>\n",
       "      <td>Laurie Anderson: I see Lou all the time. Hes a...</td>\n",
       "      <td>0</td>\n",
       "      <td>0</td>\n",
       "    </tr>\n",
       "    <tr>\n",
       "      <th rowspan=\"5\" valign=\"top\">1</th>\n",
       "      <th>1262</th>\n",
       "      <td>The Daily Habits Of 5 Highly Successful People</td>\n",
       "      <td>1</td>\n",
       "      <td>1</td>\n",
       "    </tr>\n",
       "    <tr>\n",
       "      <th>1019</th>\n",
       "      <td>This Curvy Yoga Instagrammer Is Dismantling Bu...</td>\n",
       "      <td>1</td>\n",
       "      <td>1</td>\n",
       "    </tr>\n",
       "    <tr>\n",
       "      <th>2222</th>\n",
       "      <td>29 Gifts You Hated As A Kid But Would Love Now</td>\n",
       "      <td>1</td>\n",
       "      <td>1</td>\n",
       "    </tr>\n",
       "    <tr>\n",
       "      <th>1450</th>\n",
       "      <td>Maru Is Not Entertained By These Christmas Orn...</td>\n",
       "      <td>1</td>\n",
       "      <td>1</td>\n",
       "    </tr>\n",
       "    <tr>\n",
       "      <th>751</th>\n",
       "      <td>Army Tells Dakota Access Pipeline Protesters T...</td>\n",
       "      <td>1</td>\n",
       "      <td>1</td>\n",
       "    </tr>\n",
       "  </tbody>\n",
       "</table>\n",
       "</div>"
      ],
      "text/plain": [
       "                                                    title  truth  pred\n",
       "0 1460  Iran moderates hope Rafsanjanis death can soft...      0     0\n",
       "  1624  UK midwife shortage leaves women feeling like ...      0     0\n",
       "  361                BBC sets up team to debunk fake news      0     0\n",
       "  2022  Pay or go to jail enough indulgence: Supreme C...      0     0\n",
       "  1166  Laurie Anderson: I see Lou all the time. Hes a...      0     0\n",
       "1 1262     The Daily Habits Of 5 Highly Successful People      1     1\n",
       "  1019  This Curvy Yoga Instagrammer Is Dismantling Bu...      1     1\n",
       "  2222     29 Gifts You Hated As A Kid But Would Love Now      1     1\n",
       "  1450  Maru Is Not Entertained By These Christmas Orn...      1     1\n",
       "  751   Army Tells Dakota Access Pipeline Protesters T...      1     1"
      ]
     },
     "execution_count": 33,
     "metadata": {},
     "output_type": "execute_result"
    }
   ],
   "source": [
    "g = combo.groupby([\"pred\"], as_index=False).apply(lambda x: x.sample(5, random_state=682))\n",
    "g[[\"title\", \"pred\"]].head(10)\n",
    "g.to_csv(os.path.join(p_dir, \"titles.csv\"), index=False)\n",
    "g.head(10)"
   ]
  },
  {
   "cell_type": "markdown",
   "id": "cdec673a-2137-416c-a64c-ad041832b868",
   "metadata": {},
   "source": [
    "# Save test set pred"
   ]
  },
  {
   "cell_type": "code",
   "execution_count": 34,
   "id": "b16ddfd1-01f7-41f9-b26f-9c44a56b1ad8",
   "metadata": {},
   "outputs": [],
   "source": [
    "y_pred_test = pd.Series(y_pred, name=\"y_pred_test\")\n",
    "y_pred_test.to_pickle(os.path.join(p_dir, \"y_pred_test.pkl\"))"
   ]
  },
  {
   "cell_type": "markdown",
   "id": "51893100-e8b2-4051-95ca-6ec474446390",
   "metadata": {},
   "source": [
    "# Apply model on Youtube data"
   ]
  },
  {
   "cell_type": "code",
   "execution_count": 35,
   "id": "950816ab-5d90-45f4-8cbf-1cd00f97dcb5",
   "metadata": {},
   "outputs": [],
   "source": [
    "import pandas as pd\n",
    "import os\n",
    "import numpy as np"
   ]
  },
  {
   "cell_type": "code",
   "execution_count": 36,
   "id": "7c926074-164a-42a7-ae92-e0db55ee1dcf",
   "metadata": {},
   "outputs": [],
   "source": [
    "m_dir = r\"../nlp models/roberta_2_classes\"\n",
    "\n",
    "x_alien = pd.read_pickle(os.path.join(m_dir, \"x_train.pkl\"))\n",
    "y_alien = pd.read_pickle(os.path.join(m_dir, \"y_train.pkl\"))"
   ]
  },
  {
   "cell_type": "code",
   "execution_count": 37,
   "id": "ae08a684-0d01-4ca3-9fc9-e7c0e7a83b8b",
   "metadata": {},
   "outputs": [],
   "source": [
    "x_alien_pp = preprocess_data(x_alien)\n",
    "x_alien_tok = tokenize(x_alien_pp, tok)\n",
    "\n",
    "y_alien_prob = model.predict(x_alien_tok[:2], steps=y_alien.shape[0])\n",
    "y_pred = np.argmax(y_alien_prob, axis=1)"
   ]
  },
  {
   "cell_type": "code",
   "execution_count": 38,
   "id": "3e6ce51c-f741-4664-bf34-5f8aaf843022",
   "metadata": {},
   "outputs": [],
   "source": [
    "x_combo = pd.concat([x_alien.reset_index(), y_alien.reset_index(), pd.Series(y_pred, name=\"pred\")], axis=1)"
   ]
  },
  {
   "cell_type": "code",
   "execution_count": 39,
   "id": "88ccd30e-a560-4bc6-b952-2ea72a074ea1",
   "metadata": {},
   "outputs": [
    {
     "data": {
      "text/html": [
       "<div>\n",
       "<style scoped>\n",
       "    .dataframe tbody tr th:only-of-type {\n",
       "        vertical-align: middle;\n",
       "    }\n",
       "\n",
       "    .dataframe tbody tr th {\n",
       "        vertical-align: top;\n",
       "    }\n",
       "\n",
       "    .dataframe thead th {\n",
       "        text-align: right;\n",
       "    }\n",
       "</style>\n",
       "<table border=\"1\" class=\"dataframe\">\n",
       "  <thead>\n",
       "    <tr style=\"text-align: right;\">\n",
       "      <th></th>\n",
       "      <th>title</th>\n",
       "      <th>qtl</th>\n",
       "      <th>pred</th>\n",
       "    </tr>\n",
       "  </thead>\n",
       "  <tbody>\n",
       "    <tr>\n",
       "      <th>412</th>\n",
       "      <td>This is why we can't have nice things</td>\n",
       "      <td>very high</td>\n",
       "      <td>0</td>\n",
       "    </tr>\n",
       "    <tr>\n",
       "      <th>413</th>\n",
       "      <td>Spring Full Course - Learn Spring Framework In...</td>\n",
       "      <td>very low</td>\n",
       "      <td>1</td>\n",
       "    </tr>\n",
       "    <tr>\n",
       "      <th>414</th>\n",
       "      <td>Platinum (version 2) -  Periodic Table of Videos</td>\n",
       "      <td>very high</td>\n",
       "      <td>0</td>\n",
       "    </tr>\n",
       "    <tr>\n",
       "      <th>415</th>\n",
       "      <td>When To Quit (According to Computer Science)</td>\n",
       "      <td>very high</td>\n",
       "      <td>1</td>\n",
       "    </tr>\n",
       "    <tr>\n",
       "      <th>416</th>\n",
       "      <td>Have astronomers disproved the Big Bang?</td>\n",
       "      <td>very high</td>\n",
       "      <td>0</td>\n",
       "    </tr>\n",
       "    <tr>\n",
       "      <th>417</th>\n",
       "      <td>Outtakes #1: Crash Course Philosophy</td>\n",
       "      <td>very low</td>\n",
       "      <td>0</td>\n",
       "    </tr>\n",
       "  </tbody>\n",
       "</table>\n",
       "</div>"
      ],
      "text/plain": [
       "                                                 title        qtl  pred\n",
       "412              This is why we can't have nice things  very high     0\n",
       "413  Spring Full Course - Learn Spring Framework In...   very low     1\n",
       "414   Platinum (version 2) -  Periodic Table of Videos  very high     0\n",
       "415       When To Quit (According to Computer Science)  very high     1\n",
       "416           Have astronomers disproved the Big Bang?  very high     0\n",
       "417               Outtakes #1: Crash Course Philosophy   very low     0"
      ]
     },
     "execution_count": 39,
     "metadata": {},
     "output_type": "execute_result"
    }
   ],
   "source": [
    "x_combo[[\"title\", \"qtl\", \"pred\"]].iloc[412:418, :]"
   ]
  },
  {
   "cell_type": "code",
   "execution_count": 40,
   "id": "60777d3f-7e1b-48e5-9cd7-3e72dbdfcb2d",
   "metadata": {},
   "outputs": [
    {
     "data": {
      "text/plain": [
       "0.018826461207985236"
      ]
     },
     "execution_count": 40,
     "metadata": {},
     "output_type": "execute_result"
    }
   ],
   "source": [
    "x_combo[\"y\"] = (x_combo[\"qtl\"] == \"very high\").astype(\"int32\")\n",
    "x_combo[\"y\"].corr(x_combo[\"pred\"])"
   ]
  },
  {
   "cell_type": "code",
   "execution_count": 41,
   "id": "a1fd1c26-744c-493d-a845-905ef0ae70bf",
   "metadata": {},
   "outputs": [
    {
     "data": {
      "image/png": "[encoded data removed]",
      "text/plain": [
       "<Figure size 432x288 with 2 Axes>"
      ]
     },
     "metadata": {
      "needs_background": "light"
     },
     "output_type": "display_data"
    }
   ],
   "source": [
    "g = x_combo.groupby([\"qtl\", \"pred\"]).agg({\"title\": \"count\"}).reset_index()\n",
    "g.rename(columns={\"pred\": \"clickbait\", \"title\": \"count\"}, inplace=True)\n",
    "p = g.pivot(index=\"qtl\", columns=\"clickbait\", values=\"count\")\n",
    "sb.heatmap(p, annot=True, fmt=\"d\")\n",
    "plt.title(\"Clickbait model vs. ground truth\")\n",
    "plt.xlabel(\"clickbait\")\n",
    "plt.ylabel(\"prediction main model\")\n",
    "plt.savefig(os.path.join(p_dir, \"confusion matrix clickbait vs ground truth.jpg\"))\n",
    "plt.show()"
   ]
  },
  {
   "cell_type": "code",
   "execution_count": 42,
   "id": "da67dd49-82ea-4630-8420-008c6e8d0844",
   "metadata": {},
   "outputs": [
    {
     "data": {
      "text/plain": [
       "1      Gold, Sulfur, Vanadium and Cerium (feat. vsauce)\n",
       "2     Neil deGrasse Tyson Explains the REAL Color of...\n",
       "7     How Do Solar Panels Work? (Physics of Solar Ce...\n",
       "10          The EM Drive: Fact or Fantasy? | Space Time\n",
       "19    WORLD’S MOST AMAZING ARCHER in Slow Motion - S...\n",
       "25                                   Talent vs Training\n",
       "27                     What is Impossible in Evolution?\n",
       "31    Dissolving a Diamond in Piranha Solution—It Ea...\n",
       "33                                      Exploring TEKOI\n",
       "39                  How to Live Forever? Be a Jellyfish\n",
       "Name: title, dtype: object"
      ]
     },
     "execution_count": 42,
     "metadata": {},
     "output_type": "execute_result"
    }
   ],
   "source": [
    "x_combo.loc[(x_combo[\"qtl\"] == \"very high\") & (x_combo[\"pred\"] == 0), \"title\"].head(10)"
   ]
  },
  {
   "cell_type": "markdown",
   "id": "15a75fc9-0e53-46db-b5e7-7778b0b502d2",
   "metadata": {},
   "source": [
    "Why is the correlation not higher?\n",
    "\n",
    "* Video thumbnails and titles can be changed over the lifetime of a Youtube video\n",
    "* This might be related to the sample being from science/educational video. The typical viewer seems to also be attracted by videos clearly stating their content (Derek Muller also mentions such as case -> lava lamp video). May be because he is looking for something specific or because she is interested in the topic anyway."
   ]
  },
  {
   "cell_type": "code",
   "execution_count": 43,
   "id": "e0eec26c-419e-41a3-b0c3-2d0a286f6b82",
   "metadata": {},
   "outputs": [
    {
     "name": "stdout",
     "output_type": "stream",
     "text": [
      "<class 'pandas.core.frame.DataFrame'>\n",
      "RangeIndex: 5793 entries, 0 to 5792\n",
      "Data columns (total 22 columns):\n",
      " #   Column              Non-Null Count  Dtype              \n",
      "---  ------              --------------  -----              \n",
      " 0   index               5793 non-null   int64              \n",
      " 1   id_video            5793 non-null   object             \n",
      " 2   title               5793 non-null   object             \n",
      " 3   channel_id          5793 non-null   object             \n",
      " 4   channel_name        5793 non-null   object             \n",
      " 5   published_video     5793 non-null   datetime64[ns, UTC]\n",
      " 6   like_count          5793 non-null   float64            \n",
      " 7   dislike_count       5793 non-null   float64            \n",
      " 8   view_count_video    5793 non-null   float64            \n",
      " 9   published_mth       5793 non-null   int64              \n",
      " 10  title_len           5793 non-null   int64              \n",
      " 11  id_channel          5793 non-null   object             \n",
      " 12  view_count_channel  5793 non-null   int64              \n",
      " 13  published_channel   5793 non-null   datetime64[ns, UTC]\n",
      " 14  age_mth             5793 non-null   int64              \n",
      " 15  subscriber_count    5793 non-null   float64            \n",
      " 16  video_count         5793 non-null   int64              \n",
      " 17  ln_vc_norm          5793 non-null   float64            \n",
      " 18  index               5793 non-null   int64              \n",
      " 19  qtl                 5793 non-null   category           \n",
      " 20  pred                5793 non-null   int64              \n",
      " 21  y                   5793 non-null   int32              \n",
      "dtypes: category(1), datetime64[ns, UTC](2), float64(5), int32(1), int64(8), object(5)\n",
      "memory usage: 933.7+ KB\n"
     ]
    }
   ],
   "source": [
    "x_combo.info()"
   ]
  },
  {
   "cell_type": "code",
   "execution_count": 44,
   "id": "d1fb88a0-eaae-48d6-a4c4-0c3f559261e5",
   "metadata": {},
   "outputs": [],
   "source": [
    "g = x_combo.groupby([\"channel_name\"]).agg({\"id_video\": \"count\", \"pred\": \"sum\", \"y\": \"sum\"}).reset_index()\n",
    "g.rename(columns={\"id_video\": \"video_count\", \"pred\": \"clickbait\", \"y\": \"very high\"}, inplace=True)\n",
    "g[\"vh_ratio\"] = g[\"very high\"] / g[\"video_count\"]\n",
    "g[\"cb_ratio\"] = g[\"clickbait\"] / g[\"video_count\"]"
   ]
  },
  {
   "cell_type": "code",
   "execution_count": 45,
   "id": "60f617c3-9ab7-4639-9d77-66848055f73b",
   "metadata": {},
   "outputs": [],
   "source": [
    "lbl = [\"very low\", \"low\", \"high\", \"very high\"]\n",
    "g[\"success class\"] = pd.cut(g[\"vh_ratio\"], 4, labels=lbl)"
   ]
  },
  {
   "cell_type": "code",
   "execution_count": 46,
   "id": "0c480857-948e-4a2c-8713-7b1da4f6cae8",
   "metadata": {},
   "outputs": [
    {
     "data": {
      "image/png": "[encoded data removed]",
      "text/plain": [
       "<Figure size 432x288 with 1 Axes>"
      ]
     },
     "metadata": {
      "needs_background": "light"
     },
     "output_type": "display_data"
    }
   ],
   "source": [
    "c = [\"red\", \"orange\", \"green\", \"blue\"]\n",
    "i = 0\n",
    "for l in lbl:\n",
    "    plt.scatter(g.loc[g[\"success class\"] == l, \"cb_ratio\"], g.loc[g[\"success class\"] == l, \"vh_ratio\"], c=c[i])\n",
    "    i += 1\n",
    "plt.xlabel(\"clickbait ratio\")\n",
    "plt.ylabel(\"\\'very high\\' video ratio\")\n",
    "plt.title(\"Video success per channel\")\n",
    "plt.savefig(os.path.join(p_dir, \"channel level corr clickbait vs video success.jpg\"))\n",
    "plt.show()"
   ]
  },
  {
   "cell_type": "code",
   "execution_count": 47,
   "id": "cfd3aba5-de1e-46f2-976b-e0662e929ad7",
   "metadata": {},
   "outputs": [
    {
     "name": "stdout",
     "output_type": "stream",
     "text": [
      "0.35\n"
     ]
    }
   ],
   "source": [
    "c = g[\"cb_ratio\"].corr(g[\"vh_ratio\"])\n",
    "print(\"{:0.2f}\".format(c))"
   ]
  },
  {
   "cell_type": "code",
   "execution_count": 48,
   "id": "b36e3a27-af7c-435c-8e60-68f8832a687b",
   "metadata": {},
   "outputs": [
    {
     "data": {
      "text/html": [
       "<div>\n",
       "<style scoped>\n",
       "    .dataframe tbody tr th:only-of-type {\n",
       "        vertical-align: middle;\n",
       "    }\n",
       "\n",
       "    .dataframe tbody tr th {\n",
       "        vertical-align: top;\n",
       "    }\n",
       "\n",
       "    .dataframe thead th {\n",
       "        text-align: right;\n",
       "    }\n",
       "</style>\n",
       "<table border=\"1\" class=\"dataframe\">\n",
       "  <thead>\n",
       "    <tr style=\"text-align: right;\">\n",
       "      <th></th>\n",
       "      <th>channel_name</th>\n",
       "      <th>video_count</th>\n",
       "      <th>clickbait</th>\n",
       "      <th>very high</th>\n",
       "      <th>vh_ratio</th>\n",
       "      <th>cb_ratio</th>\n",
       "      <th>success class</th>\n",
       "    </tr>\n",
       "  </thead>\n",
       "  <tbody>\n",
       "    <tr>\n",
       "      <th>21</th>\n",
       "      <td>Primer</td>\n",
       "      <td>8</td>\n",
       "      <td>2</td>\n",
       "      <td>8</td>\n",
       "      <td>1.000000</td>\n",
       "      <td>0.250000</td>\n",
       "      <td>very high</td>\n",
       "    </tr>\n",
       "    <tr>\n",
       "      <th>0</th>\n",
       "      <td>3Blue1Brown</td>\n",
       "      <td>51</td>\n",
       "      <td>1</td>\n",
       "      <td>51</td>\n",
       "      <td>1.000000</td>\n",
       "      <td>0.019608</td>\n",
       "      <td>very high</td>\n",
       "    </tr>\n",
       "    <tr>\n",
       "      <th>18</th>\n",
       "      <td>Periodic Videos</td>\n",
       "      <td>148</td>\n",
       "      <td>34</td>\n",
       "      <td>125</td>\n",
       "      <td>0.844595</td>\n",
       "      <td>0.229730</td>\n",
       "      <td>very high</td>\n",
       "    </tr>\n",
       "  </tbody>\n",
       "</table>\n",
       "</div>"
      ],
      "text/plain": [
       "       channel_name  video_count  clickbait  very high  vh_ratio  cb_ratio  \\\n",
       "21           Primer            8          2          8  1.000000  0.250000   \n",
       "0       3Blue1Brown           51          1         51  1.000000  0.019608   \n",
       "18  Periodic Videos          148         34        125  0.844595  0.229730   \n",
       "\n",
       "   success class  \n",
       "21     very high  \n",
       "0      very high  \n",
       "18     very high  "
      ]
     },
     "execution_count": 48,
     "metadata": {},
     "output_type": "execute_result"
    }
   ],
   "source": [
    "sp = g.loc[(g[\"cb_ratio\"] < 0.3) & (g[\"vh_ratio\"] > 0.8), :]\n",
    "sp.sort_values([\"vh_ratio\", \"cb_ratio\"], ascending=False).head(10)"
   ]
  },
  {
   "cell_type": "markdown",
   "id": "344d6295-11be-4040-920b-c6c361ce8221",
   "metadata": {},
   "source": [
    "Removing the 2 channels with a clickbait ratio of 0 but at the same time being super successful"
   ]
  },
  {
   "cell_type": "code",
   "execution_count": 49,
   "id": "051d6cfd-4fca-405b-a5ca-a2f300f3d89d",
   "metadata": {},
   "outputs": [
    {
     "data": {
      "text/plain": [
       "Series([], Name: channel_name, dtype: object)"
      ]
     },
     "execution_count": 49,
     "metadata": {},
     "output_type": "execute_result"
    }
   ],
   "source": [
    "g.loc[(g[\"cb_ratio\"] == 0), \"channel_name\"]"
   ]
  },
  {
   "cell_type": "code",
   "execution_count": 50,
   "id": "c0209138-0c93-40f7-ae34-b22293889c50",
   "metadata": {},
   "outputs": [
    {
     "name": "stdout",
     "output_type": "stream",
     "text": [
      "0.35\n"
     ]
    }
   ],
   "source": [
    "c = g.loc[(g[\"cb_ratio\"] > 0), \"cb_ratio\"].corr(g.loc[(g[\"cb_ratio\"] > 0), \"vh_ratio\"])\n",
    "print(\"{:0.2f}\".format(c))"
   ]
  },
  {
   "cell_type": "code",
   "execution_count": 51,
   "id": "c1673e0c-dfd2-404e-934d-ddb100e2be4c",
   "metadata": {},
   "outputs": [
    {
     "name": "stdout",
     "output_type": "stream",
     "text": [
      "0.48\n"
     ]
    }
   ],
   "source": [
    "c2 = g.loc[~((g[\"cb_ratio\"] < 0.3) & (g[\"vh_ratio\"] > 0.8)), \"cb_ratio\"].corr(\n",
    "    g.loc[~((g[\"cb_ratio\"] < 0.3) & (g[\"vh_ratio\"] > 0.8)), \"vh_ratio\"])\n",
    "print(\"{:0.2f}\".format(c2))"
   ]
  }
 ],
 "metadata": {
  "environment": {
   "name": "tf2-gpu.2-6.m80",
   "type": "gcloud",
   "uri": "gcr.io/deeplearning-platform-release/tf2-gpu.2-6:m80"
  },
  "kernelspec": {
   "display_name": "Python 3",
   "language": "python",
   "name": "python3"
  },
  "language_info": {
   "codemirror_mode": {
    "name": "ipython",
    "version": 3
   },
   "file_extension": ".py",
   "mimetype": "text/x-python",
   "name": "python",
   "nbconvert_exporter": "python",
   "pygments_lexer": "ipython3",
   "version": "3.7.10"
  }
 },
 "nbformat": 4,
 "nbformat_minor": 5
}
